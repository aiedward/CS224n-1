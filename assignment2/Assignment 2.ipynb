{
 "cells": [
  {
   "cell_type": "markdown",
   "metadata": {},
   "source": [
    "# CS 224N: Assignment 2"
   ]
  },
  {
   "cell_type": "code",
   "execution_count": 1,
   "metadata": {
    "collapsed": true
   },
   "outputs": [],
   "source": [
    "# Setup code\n",
    "import matplotlib.pyplot as plt"
   ]
  },
  {
   "cell_type": "markdown",
   "metadata": {},
   "source": [
    "## 1. Tensorow Softmax (25 points)"
   ]
  },
  {
   "cell_type": "markdown",
   "metadata": {},
   "source": [
    "### (a)(b). Softmax and cross-entropy"
   ]
  },
  {
   "cell_type": "code",
   "execution_count": 2,
   "metadata": {
    "collapsed": false
   },
   "outputs": [
    {
     "name": "stdout",
     "output_type": "stream",
     "text": [
      "Softmax test 1 passed!\n",
      "Softmax test 2 passed!\n",
      "Basic (non-exhaustive) softmax tests pass\n",
      "\n",
      "Cross-entropy test 1 passed!\n",
      "Basic (non-exhaustive) cross-entropy tests pass\n"
     ]
    }
   ],
   "source": [
    "%run q1_softmax.py"
   ]
  },
  {
   "cell_type": "markdown",
   "metadata": {
    "collapsed": true
   },
   "source": [
    "### (c)(d)(e). Implement the softmax classifier"
   ]
  },
  {
   "cell_type": "code",
   "execution_count": 4,
   "metadata": {
    "collapsed": false
   },
   "outputs": [
    {
     "name": "stdout",
     "output_type": "stream",
     "text": [
      "Epoch 0: loss = 47.04 (3.617 sec)\n",
      "Epoch 1: loss = 17.62 (0.047 sec)\n",
      "Epoch 2: loss = 9.97 (0.070 sec)\n",
      "Epoch 3: loss = 6.80 (0.030 sec)\n",
      "Epoch 4: loss = 5.12 (0.022 sec)\n",
      "Epoch 5: loss = 4.09 (0.063 sec)\n",
      "Epoch 6: loss = 3.40 (0.026 sec)\n",
      "Epoch 7: loss = 2.90 (0.058 sec)\n",
      "Epoch 8: loss = 2.53 (0.053 sec)\n",
      "Epoch 9: loss = 2.24 (0.063 sec)\n",
      "Epoch 10: loss = 2.01 (0.033 sec)\n",
      "Epoch 11: loss = 1.82 (0.020 sec)\n",
      "Epoch 12: loss = 1.67 (0.014 sec)\n",
      "Epoch 13: loss = 1.54 (0.031 sec)\n",
      "Epoch 14: loss = 1.43 (0.043 sec)\n",
      "Epoch 15: loss = 1.33 (0.020 sec)\n",
      "Epoch 16: loss = 1.24 (0.023 sec)\n",
      "Epoch 17: loss = 1.17 (0.053 sec)\n",
      "Epoch 18: loss = 1.10 (0.042 sec)\n",
      "Epoch 19: loss = 1.04 (0.021 sec)\n",
      "Epoch 20: loss = 0.99 (0.038 sec)\n",
      "Epoch 21: loss = 0.94 (0.047 sec)\n",
      "Epoch 22: loss = 0.90 (0.052 sec)\n",
      "Epoch 23: loss = 0.86 (0.053 sec)\n",
      "Epoch 24: loss = 0.82 (0.024 sec)\n",
      "Epoch 25: loss = 0.79 (0.024 sec)\n",
      "Epoch 26: loss = 0.76 (0.031 sec)\n",
      "Epoch 27: loss = 0.73 (0.065 sec)\n",
      "Epoch 28: loss = 0.70 (0.035 sec)\n",
      "Epoch 29: loss = 0.68 (0.036 sec)\n",
      "Epoch 30: loss = 0.66 (0.026 sec)\n",
      "Epoch 31: loss = 0.63 (0.021 sec)\n",
      "Epoch 32: loss = 0.61 (0.063 sec)\n",
      "Epoch 33: loss = 0.60 (0.039 sec)\n",
      "Epoch 34: loss = 0.58 (0.031 sec)\n",
      "Epoch 35: loss = 0.56 (0.040 sec)\n",
      "Epoch 36: loss = 0.55 (0.023 sec)\n",
      "Epoch 37: loss = 0.53 (0.035 sec)\n",
      "Epoch 38: loss = 0.52 (0.071 sec)\n",
      "Epoch 39: loss = 0.50 (0.031 sec)\n",
      "Epoch 40: loss = 0.49 (0.057 sec)\n",
      "Epoch 41: loss = 0.48 (0.024 sec)\n",
      "Epoch 42: loss = 0.47 (0.028 sec)\n",
      "Epoch 43: loss = 0.46 (0.022 sec)\n",
      "Epoch 44: loss = 0.45 (0.022 sec)\n",
      "Epoch 45: loss = 0.44 (0.047 sec)\n",
      "Epoch 46: loss = 0.43 (0.053 sec)\n",
      "Epoch 47: loss = 0.42 (0.020 sec)\n",
      "Epoch 48: loss = 0.41 (0.024 sec)\n",
      "Epoch 49: loss = 0.40 (0.019 sec)\n",
      "Basic (non-exhaustive) classifier tests pass\n"
     ]
    }
   ],
   "source": [
    "%run q1_classifier.py"
   ]
  },
  {
   "cell_type": "markdown",
   "metadata": {},
   "source": [
    "## 2. Neural Transition-Based Dependency Parsing (50 points)"
   ]
  },
  {
   "cell_type": "markdown",
   "metadata": {
    "collapsed": true
   },
   "source": [
    "### "
   ]
  },
  {
   "cell_type": "code",
   "execution_count": null,
   "metadata": {
    "collapsed": true
   },
   "outputs": [],
   "source": []
  }
 ],
 "metadata": {
  "anaconda-cloud": {},
  "kernelspec": {
   "display_name": "Python [default]",
   "language": "python",
   "name": "python3"
  },
  "language_info": {
   "codemirror_mode": {
    "name": "ipython",
    "version": 3
   },
   "file_extension": ".py",
   "mimetype": "text/x-python",
   "name": "python",
   "nbconvert_exporter": "python",
   "pygments_lexer": "ipython3",
   "version": "3.5.2"
  }
 },
 "nbformat": 4,
 "nbformat_minor": 1
}
