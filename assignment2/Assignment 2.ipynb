{
 "cells": [
  {
   "cell_type": "markdown",
   "metadata": {},
   "source": [
    "# CS 224N: Assignment 2"
   ]
  },
  {
   "cell_type": "markdown",
   "metadata": {},
   "source": [
    "## 1. Tensorow Softmax (25 points)"
   ]
  },
  {
   "cell_type": "markdown",
   "metadata": {},
   "source": [
    "### (a)(b). Softmax and cross-entropy"
   ]
  },
  {
   "cell_type": "code",
   "execution_count": 2,
   "metadata": {
    "collapsed": false
   },
   "outputs": [
    {
     "name": "stdout",
     "output_type": "stream",
     "text": [
      "Softmax test 1 passed!\n",
      "Softmax test 2 passed!\n",
      "Basic (non-exhaustive) softmax tests pass\n",
      "\n",
      "Cross-entropy test 1 passed!\n",
      "Basic (non-exhaustive) cross-entropy tests pass\n"
     ]
    }
   ],
   "source": [
    "%run q1_softmax.py"
   ]
  },
  {
   "cell_type": "markdown",
   "metadata": {
    "collapsed": true
   },
   "source": [
    "### (c)(d)(e). Implement the softmax classifier"
   ]
  },
  {
   "cell_type": "code",
   "execution_count": 4,
   "metadata": {
    "collapsed": false
   },
   "outputs": [
    {
     "name": "stdout",
     "output_type": "stream",
     "text": [
      "Epoch 0: loss = 47.04 (3.617 sec)\n",
      "Epoch 1: loss = 17.62 (0.047 sec)\n",
      "Epoch 2: loss = 9.97 (0.070 sec)\n",
      "Epoch 3: loss = 6.80 (0.030 sec)\n",
      "Epoch 4: loss = 5.12 (0.022 sec)\n",
      "Epoch 5: loss = 4.09 (0.063 sec)\n",
      "Epoch 6: loss = 3.40 (0.026 sec)\n",
      "Epoch 7: loss = 2.90 (0.058 sec)\n",
      "Epoch 8: loss = 2.53 (0.053 sec)\n",
      "Epoch 9: loss = 2.24 (0.063 sec)\n",
      "Epoch 10: loss = 2.01 (0.033 sec)\n",
      "Epoch 11: loss = 1.82 (0.020 sec)\n",
      "Epoch 12: loss = 1.67 (0.014 sec)\n",
      "Epoch 13: loss = 1.54 (0.031 sec)\n",
      "Epoch 14: loss = 1.43 (0.043 sec)\n",
      "Epoch 15: loss = 1.33 (0.020 sec)\n",
      "Epoch 16: loss = 1.24 (0.023 sec)\n",
      "Epoch 17: loss = 1.17 (0.053 sec)\n",
      "Epoch 18: loss = 1.10 (0.042 sec)\n",
      "Epoch 19: loss = 1.04 (0.021 sec)\n",
      "Epoch 20: loss = 0.99 (0.038 sec)\n",
      "Epoch 21: loss = 0.94 (0.047 sec)\n",
      "Epoch 22: loss = 0.90 (0.052 sec)\n",
      "Epoch 23: loss = 0.86 (0.053 sec)\n",
      "Epoch 24: loss = 0.82 (0.024 sec)\n",
      "Epoch 25: loss = 0.79 (0.024 sec)\n",
      "Epoch 26: loss = 0.76 (0.031 sec)\n",
      "Epoch 27: loss = 0.73 (0.065 sec)\n",
      "Epoch 28: loss = 0.70 (0.035 sec)\n",
      "Epoch 29: loss = 0.68 (0.036 sec)\n",
      "Epoch 30: loss = 0.66 (0.026 sec)\n",
      "Epoch 31: loss = 0.63 (0.021 sec)\n",
      "Epoch 32: loss = 0.61 (0.063 sec)\n",
      "Epoch 33: loss = 0.60 (0.039 sec)\n",
      "Epoch 34: loss = 0.58 (0.031 sec)\n",
      "Epoch 35: loss = 0.56 (0.040 sec)\n",
      "Epoch 36: loss = 0.55 (0.023 sec)\n",
      "Epoch 37: loss = 0.53 (0.035 sec)\n",
      "Epoch 38: loss = 0.52 (0.071 sec)\n",
      "Epoch 39: loss = 0.50 (0.031 sec)\n",
      "Epoch 40: loss = 0.49 (0.057 sec)\n",
      "Epoch 41: loss = 0.48 (0.024 sec)\n",
      "Epoch 42: loss = 0.47 (0.028 sec)\n",
      "Epoch 43: loss = 0.46 (0.022 sec)\n",
      "Epoch 44: loss = 0.45 (0.022 sec)\n",
      "Epoch 45: loss = 0.44 (0.047 sec)\n",
      "Epoch 46: loss = 0.43 (0.053 sec)\n",
      "Epoch 47: loss = 0.42 (0.020 sec)\n",
      "Epoch 48: loss = 0.41 (0.024 sec)\n",
      "Epoch 49: loss = 0.40 (0.019 sec)\n",
      "Basic (non-exhaustive) classifier tests pass\n"
     ]
    }
   ],
   "source": [
    "%run q1_classifier.py"
   ]
  },
  {
   "cell_type": "markdown",
   "metadata": {},
   "source": [
    "## 2. Neural Transition-Based Dependency Parsing (50 points)"
   ]
  },
  {
   "cell_type": "markdown",
   "metadata": {
    "collapsed": true
   },
   "source": [
    "### (c)(d). Transition and minibatch parse"
   ]
  },
  {
   "cell_type": "code",
   "execution_count": 3,
   "metadata": {
    "collapsed": false
   },
   "outputs": [
    {
     "name": "stdout",
     "output_type": "stream",
     "text": [
      "SHIFT test passed!\n",
      "LEFT-ARC test passed!\n",
      "RIGHT-ARC test passed!\n",
      "parse test passed!\n",
      "minibatch_parse test passed!\n"
     ]
    }
   ],
   "source": [
    "%run q2_parser_transitions.py"
   ]
  },
  {
   "cell_type": "markdown",
   "metadata": {},
   "source": [
    "### (e). Xavier initialization"
   ]
  },
  {
   "cell_type": "code",
   "execution_count": 8,
   "metadata": {
    "collapsed": false
   },
   "outputs": [
    {
     "name": "stdout",
     "output_type": "stream",
     "text": [
      "Running basic tests...\n",
      "Basic (non-exhaustive) Xavier initialization tests pass\n"
     ]
    }
   ],
   "source": [
    "%run q2_initialization.py"
   ]
  },
  {
   "cell_type": "markdown",
   "metadata": {
    "collapsed": true
   },
   "source": [
    "### (h). Implement the neural network"
   ]
  },
  {
   "cell_type": "code",
   "execution_count": 10,
   "metadata": {
    "collapsed": false
   },
   "outputs": [
    {
     "name": "stdout",
     "output_type": "stream",
     "text": [
      "================================================================================\n",
      "INITIALIZING\n",
      "================================================================================\n",
      "Loading data...\n",
      "took 2.75 seconds\n",
      "Building parser...\n",
      "took 0.04 seconds\n",
      "Loading pretrained embeddings...\n",
      "took 3.44 seconds\n",
      "Vectorizing data...\n",
      "took 0.25 seconds\n",
      "Preprocessing training data...\n",
      "1000/1000 [==============================] - 2s     \n",
      "Building model...\n",
      "took 0.20 seconds\n",
      "\n",
      "================================================================================\n",
      "TRAINING\n",
      "================================================================================\n",
      "Epoch 1 out of 10\n",
      "24/24 [============================>.] - ETA: 0s - train loss: 0.7662Evaluating on dev set\n",
      "- dev UAS: 43.44\n",
      "\n",
      "Epoch 2 out of 10\n",
      "24/24 [============================>.] - ETA: 0s - train loss: 0.3955Evaluating on dev set\n",
      "- dev UAS: 55.74\n",
      "\n",
      "Epoch 3 out of 10\n",
      "24/24 [============================>.] - ETA: 0s - train loss: 0.3098Evaluating on dev set\n",
      "- dev UAS: 59.84\n",
      "\n",
      "Epoch 4 out of 10\n",
      "24/24 [============================>.] - ETA: 0s - train loss: 0.2758Evaluating on dev set\n",
      "- dev UAS: 60.51\n",
      "\n",
      "Epoch 5 out of 10\n",
      "24/24 [============================>.] - ETA: 0s - train loss: 0.2478Evaluating on dev set\n",
      "- dev UAS: 63.68\n",
      "\n",
      "Epoch 6 out of 10\n",
      "24/24 [============================>.] - ETA: 0s - train loss: 0.2334Evaluating on dev set\n",
      "- dev UAS: 63.94\n",
      "\n",
      "Epoch 7 out of 10\n",
      "24/24 [============================>.] - ETA: 0s - train loss: 0.2174Evaluating on dev set\n",
      "- dev UAS: 65.63\n",
      "\n",
      "Epoch 8 out of 10\n",
      "24/24 [============================>.] - ETA: 0s - train loss: 0.2033Evaluating on dev set\n",
      "- dev UAS: 65.87\n",
      "\n",
      "Epoch 9 out of 10\n",
      "24/24 [============================>.] - ETA: 0s - train loss: 0.1909Evaluating on dev set\n",
      "- dev UAS: 66.82\n",
      "\n",
      "Epoch 10 out of 10\n",
      "24/24 [============================>.] - ETA: 0s - train loss: 0.1822Evaluating on dev set\n",
      "- dev UAS: 68.01\n",
      "\n"
     ]
    }
   ],
   "source": [
    "# Debugging Mode\n",
    "%run q2_parser_model.py"
   ]
  },
  {
   "cell_type": "code",
   "execution_count": 1,
   "metadata": {
    "collapsed": false,
    "scrolled": true
   },
   "outputs": [
    {
     "name": "stdout",
     "output_type": "stream",
     "text": [
      "================================================================================\n",
      "INITIALIZING\n",
      "================================================================================\n",
      "Loading data...\n",
      "took 2.43 seconds\n",
      "Building parser...\n",
      "took 1.55 seconds\n",
      "Loading pretrained embeddings...\n",
      "took 3.64 seconds\n",
      "Vectorizing data...\n",
      "took 1.76 seconds\n",
      "Preprocessing training data...\n",
      "39832/39832 [==============================] - 56s    \n",
      "Building model...\n",
      "took 0.22 seconds\n",
      "\n",
      "================================================================================\n",
      "TRAINING\n",
      "================================================================================\n",
      "Epoch 1 out of 30\n",
      "924/924 [============================>.] - ETA: 0s - train loss: 0.2067Evaluating on dev set\n",
      "- dev UAS: 81.39\n",
      "New best dev UAS! Saving model in ./data/weights/parser.weights\n",
      "\n",
      "Epoch 2 out of 30\n",
      "924/924 [============================>.] - ETA: 0s - train loss: 0.1369Evaluating on dev set\n",
      "- dev UAS: 83.73\n",
      "New best dev UAS! Saving model in ./data/weights/parser.weights\n",
      "\n",
      "Epoch 3 out of 30\n",
      "924/924 [============================>.] - ETA: 0s - train loss: 0.1259Evaluating on dev set\n",
      "- dev UAS: 84.44\n",
      "New best dev UAS! Saving model in ./data/weights/parser.weights\n",
      "\n",
      "Epoch 4 out of 30\n",
      "924/924 [============================>.] - ETA: 0s - train loss: 0.1204Evaluating on dev set\n",
      "- dev UAS: 85.00\n",
      "New best dev UAS! Saving model in ./data/weights/parser.weights\n",
      "\n",
      "Epoch 5 out of 30\n",
      "924/924 [============================>.] - ETA: 0s - train loss: 0.1164Evaluating on dev set\n",
      "- dev UAS: 85.73\n",
      "New best dev UAS! Saving model in ./data/weights/parser.weights\n",
      "\n",
      "Epoch 6 out of 30\n",
      "924/924 [============================>.] - ETA: 0s - train loss: 0.1137Evaluating on dev set\n",
      "- dev UAS: 85.83\n",
      "New best dev UAS! Saving model in ./data/weights/parser.weights\n",
      "\n",
      "Epoch 7 out of 30\n",
      "924/924 [============================>.] - ETA: 0s - train loss: 0.1109Evaluating on dev set\n",
      "- dev UAS: 86.08\n",
      "New best dev UAS! Saving model in ./data/weights/parser.weights\n",
      "\n",
      "Epoch 8 out of 30\n",
      "924/924 [============================>.] - ETA: 0s - train loss: 0.1091Evaluating on dev set\n",
      "- dev UAS: 86.31\n",
      "New best dev UAS! Saving model in ./data/weights/parser.weights\n",
      "\n",
      "Epoch 9 out of 30\n",
      "924/924 [============================>.] - ETA: 0s - train loss: 0.1077Evaluating on dev set\n",
      "- dev UAS: 85.95\n",
      "\n",
      "Epoch 10 out of 30\n",
      "924/924 [============================>.] - ETA: 0s - train loss: 0.1066Evaluating on dev set\n",
      "- dev UAS: 86.17\n",
      "\n",
      "Epoch 11 out of 30\n",
      "924/924 [============================>.] - ETA: 0s - train loss: 0.1054Evaluating on dev set\n",
      "- dev UAS: 86.24\n",
      "\n",
      "Epoch 12 out of 30\n",
      "924/924 [============================>.] - ETA: 0s - train loss: 0.1044Evaluating on dev set\n",
      "- dev UAS: 86.69\n",
      "New best dev UAS! Saving model in ./data/weights/parser.weights\n",
      "\n",
      "Epoch 13 out of 30\n",
      "924/924 [============================>.] - ETA: 0s - train loss: 0.1031Evaluating on dev set\n",
      "- dev UAS: 86.62\n",
      "\n",
      "Epoch 14 out of 30\n",
      "924/924 [============================>.] - ETA: 0s - train loss: 0.1022Evaluating on dev set\n",
      "- dev UAS: 86.86\n",
      "New best dev UAS! Saving model in ./data/weights/parser.weights\n",
      "\n",
      "Epoch 15 out of 30\n",
      "924/924 [============================>.] - ETA: 0s - train loss: 0.1014Evaluating on dev set\n",
      "- dev UAS: 86.83\n",
      "\n",
      "Epoch 16 out of 30\n",
      "924/924 [============================>.] - ETA: 0s - train loss: 0.1010Evaluating on dev set\n",
      "- dev UAS: 86.59\n",
      "\n",
      "Epoch 17 out of 30\n",
      "924/924 [============================>.] - ETA: 0s - train loss: 0.1001Evaluating on dev set\n",
      "- dev UAS: 86.93\n",
      "New best dev UAS! Saving model in ./data/weights/parser.weights\n",
      "\n",
      "Epoch 18 out of 30\n",
      "924/924 [============================>.] - ETA: 0s - train loss: 0.0995Evaluating on dev set\n",
      "- dev UAS: 86.74\n",
      "\n",
      "Epoch 19 out of 30\n",
      "924/924 [============================>.] - ETA: 0s - train loss: 0.0990Evaluating on dev set\n",
      "- dev UAS: 86.68\n",
      "\n",
      "Epoch 20 out of 30\n",
      "924/924 [============================>.] - ETA: 0s - train loss: 0.0988Evaluating on dev set\n",
      "- dev UAS: 87.00\n",
      "New best dev UAS! Saving model in ./data/weights/parser.weights\n",
      "\n",
      "Epoch 21 out of 30\n",
      "924/924 [============================>.] - ETA: 0s - train loss: 0.0982Evaluating on dev set\n",
      "- dev UAS: 87.09\n",
      "New best dev UAS! Saving model in ./data/weights/parser.weights\n",
      "\n",
      "Epoch 22 out of 30\n",
      "924/924 [============================>.] - ETA: 0s - train loss: 0.0975Evaluating on dev set\n",
      "- dev UAS: 86.72\n",
      "\n",
      "Epoch 23 out of 30\n",
      "924/924 [============================>.] - ETA: 0s - train loss: 0.0971Evaluating on dev set\n",
      "- dev UAS: 86.68\n",
      "\n",
      "Epoch 24 out of 30\n",
      "924/924 [============================>.] - ETA: 0s - train loss: 0.0968Evaluating on dev set\n",
      "- dev UAS: 87.09\n",
      "New best dev UAS! Saving model in ./data/weights/parser.weights\n",
      "\n",
      "Epoch 25 out of 30\n",
      "924/924 [============================>.] - ETA: 0s - train loss: 0.0964Evaluating on dev set\n",
      "- dev UAS: 86.87\n",
      "\n",
      "Epoch 26 out of 30\n",
      "924/924 [============================>.] - ETA: 0s - train loss: 0.0959Evaluating on dev set\n",
      "- dev UAS: 86.98\n",
      "\n",
      "Epoch 27 out of 30\n",
      "924/924 [============================>.] - ETA: 0s - train loss: 0.0956Evaluating on dev set\n",
      "- dev UAS: 87.01\n",
      "\n",
      "Epoch 28 out of 30\n",
      "924/924 [============================>.] - ETA: 0s - train loss: 0.0950Evaluating on dev set\n",
      "- dev UAS: 86.76\n",
      "\n",
      "Epoch 29 out of 30\n",
      "924/924 [============================>.] - ETA: 0s - train loss: 0.0946Evaluating on dev set\n",
      "- dev UAS: 87.08\n",
      "\n",
      "Epoch 30 out of 30\n",
      "924/924 [============================>.] - ETA: 0s - train loss: 0.0945Evaluating on dev set\n",
      "- dev UAS: 87.31\n",
      "New best dev UAS! Saving model in ./data/weights/parser.weights\n",
      "\n",
      "================================================================================\n",
      "TESTING\n",
      "================================================================================\n",
      "Restoring the best model weights found on the dev set\n",
      "Final evaluation on test set\n",
      "- test UAS: 87.53\n",
      "Writing predictions\n",
      "Done!\n"
     ]
    }
   ],
   "source": [
    "# Training Mode\n",
    "%run q2_parser_model.py"
   ]
  },
  {
   "cell_type": "code",
   "execution_count": null,
   "metadata": {
    "collapsed": true
   },
   "outputs": [],
   "source": []
  }
 ],
 "metadata": {
  "anaconda-cloud": {},
  "kernelspec": {
   "display_name": "Python [default]",
   "language": "python",
   "name": "python3"
  },
  "language_info": {
   "codemirror_mode": {
    "name": "ipython",
    "version": 3
   },
   "file_extension": ".py",
   "mimetype": "text/x-python",
   "name": "python",
   "nbconvert_exporter": "python",
   "pygments_lexer": "ipython3",
   "version": "3.5.2"
  }
 },
 "nbformat": 4,
 "nbformat_minor": 1
}
