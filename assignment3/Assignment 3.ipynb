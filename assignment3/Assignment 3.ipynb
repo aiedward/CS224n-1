{
 "cells": [
  {
   "cell_type": "markdown",
   "metadata": {},
   "source": [
    "# CS 224N: Assignment 3"
   ]
  },
  {
   "cell_type": "markdown",
   "metadata": {},
   "source": [
    "## 1. A window into NER (30 points)"
   ]
  },
  {
   "cell_type": "markdown",
   "metadata": {},
   "source": [
    "### (c). Implement a window-based feedforward classifier model"
   ]
  },
  {
   "cell_type": "code",
   "execution_count": 8,
   "metadata": {},
   "outputs": [
    {
     "name": "stderr",
     "output_type": "stream",
     "text": [
      "INFO:Testing make_windowed_data\n",
      "INFO:Passed!\n"
     ]
    }
   ],
   "source": [
    "%run q1_window.py test1"
   ]
  },
  {
   "cell_type": "code",
   "execution_count": 9,
   "metadata": {},
   "outputs": [
    {
     "name": "stderr",
     "output_type": "stream",
     "text": [
      "INFO:Testing implementation of WindowModel\n",
      "INFO:Loading training data...\n",
      "INFO:Done. Read 721 sentences\n",
      "INFO:Loading dev data...\n",
      "INFO:Done. Read 721 sentences\n",
      "INFO:Built dictionary for 2653 features.\n",
      "INFO:Initialized embeddings.\n",
      "INFO:Building model...\n",
      "INFO:took 0.31 seconds\n",
      "INFO:Epoch 1 out of 10\n"
     ]
    },
    {
     "name": "stdout",
     "output_type": "stream",
     "text": [
      "5/5 [==============================] - 0s - train loss: 1.4058     "
     ]
    },
    {
     "name": "stderr",
     "output_type": "stream",
     "text": [
      "INFO:Evaluating on development data\n"
     ]
    },
    {
     "name": "stdout",
     "output_type": "stream",
     "text": [
      "\n",
      "\n",
      "5/5 [==============================] - 0s     "
     ]
    },
    {
     "name": "stderr",
     "output_type": "stream",
     "text": [
      "DEBUG:Token-level confusion matrix:\n",
      "go\\gu  \tPER    \tORG    \tLOC    \tMISC   \tO      \n",
      "PER    \t231.00 \t0.00   \t10.00  \t1.00   \t582.00 \n",
      "ORG    \t39.00  \t0.00   \t9.00   \t0.00   \t343.00 \n",
      "LOC    \t3.00   \t0.00   \t186.00 \t0.00   \t388.00 \n",
      "MISC   \t5.00   \t0.00   \t1.00   \t0.00   \t252.00 \n",
      "O      \t13.00  \t1.00   \t7.00   \t3.00   \t7092.00\n",
      "\n",
      "DEBUG:Token-level scores:\n",
      "label\tacc  \tprec \trec  \tf1   \n",
      "PER  \t0.93 \t0.79 \t0.28 \t0.41 \n",
      "ORG  \t0.00 \t0.00 \t0.00 \t0.00 \n",
      "LOC  \t0.95 \t0.87 \t0.32 \t0.47 \n",
      "MISC \t0.00 \t0.00 \t0.00 \t0.00 \n",
      "O    \t0.83 \t0.82 \t1.00 \t0.90 \n",
      "micro\t0.93 \t0.82 \t0.82 \t0.82 \n",
      "macro\t0.54 \t0.50 \t0.32 \t0.36 \n",
      "not-O\t0.95 \t0.82 \t0.20 \t0.33 \n",
      "\n",
      "INFO:Entity level P/R/F1: 0.48/0.16/0.24\n",
      "INFO:Epoch 2 out of 10\n"
     ]
    },
    {
     "name": "stdout",
     "output_type": "stream",
     "text": [
      "\n",
      "\n",
      "5/5 [==============================] - 0s - train loss: 0.5956     "
     ]
    },
    {
     "name": "stderr",
     "output_type": "stream",
     "text": [
      "INFO:Evaluating on development data\n"
     ]
    },
    {
     "name": "stdout",
     "output_type": "stream",
     "text": [
      "\n",
      "\n",
      "5/5 [==============================] - 0s     "
     ]
    },
    {
     "name": "stderr",
     "output_type": "stream",
     "text": [
      "DEBUG:Token-level confusion matrix:\n",
      "go\\gu  \tPER    \tORG    \tLOC    \tMISC   \tO      \n",
      "PER    \t497.00 \t0.00   \t23.00  \t0.00   \t304.00 \n",
      "ORG    \t110.00 \t1.00   \t19.00  \t0.00   \t261.00 \n",
      "LOC    \t72.00  \t0.00   \t196.00 \t0.00   \t309.00 \n",
      "MISC   \t35.00  \t0.00   \t3.00   \t0.00   \t220.00 \n",
      "O      \t58.00  \t0.00   \t14.00  \t0.00   \t7044.00\n",
      "\n",
      "DEBUG:Token-level scores:\n",
      "label\tacc  \tprec \trec  \tf1   \n",
      "PER  \t0.93 \t0.64 \t0.60 \t0.62 \n",
      "ORG  \t0.96 \t1.00 \t0.00 \t0.01 \n",
      "LOC  \t0.95 \t0.77 \t0.34 \t0.47 \n",
      "MISC \t0.00 \t0.00 \t0.00 \t0.00 \n",
      "O    \t0.87 \t0.87 \t0.99 \t0.92 \n",
      "micro\t0.94 \t0.84 \t0.84 \t0.84 \n",
      "macro\t0.74 \t0.66 \t0.39 \t0.40 \n",
      "not-O\t0.95 \t0.68 \t0.34 \t0.45 \n",
      "\n",
      "INFO:Entity level P/R/F1: 0.47/0.25/0.33\n",
      "INFO:Epoch 3 out of 10\n"
     ]
    },
    {
     "name": "stdout",
     "output_type": "stream",
     "text": [
      "\n",
      "\n",
      "5/5 [==============================] - 0s - train loss: 0.4649     "
     ]
    },
    {
     "name": "stderr",
     "output_type": "stream",
     "text": [
      "INFO:Evaluating on development data\n"
     ]
    },
    {
     "name": "stdout",
     "output_type": "stream",
     "text": [
      "\n",
      "\n",
      "5/5 [==============================] - 0s     "
     ]
    },
    {
     "name": "stderr",
     "output_type": "stream",
     "text": [
      "DEBUG:Token-level confusion matrix:\n",
      "go\\gu  \tPER    \tORG    \tLOC    \tMISC   \tO      \n",
      "PER    \t634.00 \t19.00  \t48.00  \t0.00   \t123.00 \n",
      "ORG    \t164.00 \t30.00  \t53.00  \t0.00   \t144.00 \n",
      "LOC    \t89.00  \t14.00  \t339.00 \t0.00   \t135.00 \n",
      "MISC   \t68.00  \t16.00  \t45.00  \t0.00   \t129.00 \n",
      "O      \t107.00 \t8.00   \t96.00  \t0.00   \t6905.00\n",
      "\n",
      "DEBUG:Token-level scores:\n",
      "label\tacc  \tprec \trec  \tf1   \n",
      "PER  \t0.93 \t0.60 \t0.77 \t0.67 \n",
      "ORG  \t0.95 \t0.34 \t0.08 \t0.13 \n",
      "LOC  \t0.95 \t0.58 \t0.59 \t0.59 \n",
      "MISC \t0.00 \t0.00 \t0.00 \t0.00 \n",
      "O    \t0.92 \t0.93 \t0.97 \t0.95 \n",
      "micro\t0.95 \t0.86 \t0.86 \t0.86 \n",
      "macro\t0.75 \t0.49 \t0.48 \t0.47 \n",
      "not-O\t0.95 \t0.58 \t0.49 \t0.53 \n",
      "\n",
      "INFO:Entity level P/R/F1: 0.48/0.42/0.45\n",
      "INFO:Epoch 4 out of 10\n"
     ]
    },
    {
     "name": "stdout",
     "output_type": "stream",
     "text": [
      "\n",
      "\n",
      "5/5 [==============================] - 0s - train loss: 0.4153     "
     ]
    },
    {
     "name": "stderr",
     "output_type": "stream",
     "text": [
      "INFO:Evaluating on development data\n"
     ]
    },
    {
     "name": "stdout",
     "output_type": "stream",
     "text": [
      "\n",
      "\n",
      "5/5 [==============================] - 0s     "
     ]
    },
    {
     "name": "stderr",
     "output_type": "stream",
     "text": [
      "DEBUG:Token-level confusion matrix:\n",
      "go\\gu  \tPER    \tORG    \tLOC    \tMISC   \tO      \n",
      "PER    \t674.00 \t21.00  \t54.00  \t0.00   \t75.00  \n",
      "ORG    \t160.00 \t58.00  \t67.00  \t0.00   \t106.00 \n",
      "LOC    \t86.00  \t20.00  \t403.00 \t0.00   \t68.00  \n",
      "MISC   \t57.00  \t31.00  \t81.00  \t12.00  \t77.00  \n",
      "O      \t118.00 \t14.00  \t135.00 \t0.00   \t6849.00\n",
      "\n",
      "DEBUG:Token-level scores:\n",
      "label\tacc  \tprec \trec  \tf1   \n",
      "PER  \t0.94 \t0.62 \t0.82 \t0.70 \n",
      "ORG  \t0.95 \t0.40 \t0.15 \t0.22 \n",
      "LOC  \t0.94 \t0.54 \t0.70 \t0.61 \n",
      "MISC \t0.97 \t1.00 \t0.05 \t0.09 \n",
      "O    \t0.94 \t0.95 \t0.96 \t0.96 \n",
      "micro\t0.95 \t0.87 \t0.87 \t0.87 \n",
      "macro\t0.95 \t0.70 \t0.53 \t0.52 \n",
      "not-O\t0.95 \t0.58 \t0.56 \t0.57 \n",
      "\n",
      "INFO:Entity level P/R/F1: 0.48/0.50/0.49\n",
      "INFO:Epoch 5 out of 10\n"
     ]
    },
    {
     "name": "stdout",
     "output_type": "stream",
     "text": [
      "\n",
      "\n",
      "5/5 [==============================] - 0s - train loss: 0.3888     "
     ]
    },
    {
     "name": "stderr",
     "output_type": "stream",
     "text": [
      "INFO:Evaluating on development data\n"
     ]
    },
    {
     "name": "stdout",
     "output_type": "stream",
     "text": [
      "\n",
      "\n",
      "5/5 [==============================] - 0s     "
     ]
    },
    {
     "name": "stderr",
     "output_type": "stream",
     "text": [
      "DEBUG:Token-level confusion matrix:\n",
      "go\\gu  \tPER    \tORG    \tLOC    \tMISC   \tO      \n",
      "PER    \t700.00 \t17.00  \t46.00  \t6.00   \t55.00  \n",
      "ORG    \t162.00 \t54.00  \t54.00  \t18.00  \t103.00 \n",
      "LOC    \t75.00  \t10.00  \t414.00 \t13.00  \t65.00  \n",
      "MISC   \t52.00  \t21.00  \t34.00  \t89.00  \t62.00  \n",
      "O      \t123.00 \t6.00   \t90.00  \t4.00   \t6893.00\n",
      "\n",
      "DEBUG:Token-level scores:\n",
      "label\tacc  \tprec \trec  \tf1   \n",
      "PER  \t0.94 \t0.63 \t0.85 \t0.72 \n",
      "ORG  \t0.96 \t0.50 \t0.14 \t0.22 \n",
      "LOC  \t0.96 \t0.65 \t0.72 \t0.68 \n",
      "MISC \t0.98 \t0.68 \t0.34 \t0.46 \n",
      "O    \t0.94 \t0.96 \t0.97 \t0.96 \n",
      "micro\t0.96 \t0.89 \t0.89 \t0.89 \n",
      "macro\t0.96 \t0.68 \t0.60 \t0.61 \n",
      "not-O\t0.96 \t0.63 \t0.61 \t0.62 \n",
      "\n",
      "INFO:Entity level P/R/F1: 0.53/0.56/0.54\n",
      "INFO:Epoch 6 out of 10\n"
     ]
    },
    {
     "name": "stdout",
     "output_type": "stream",
     "text": [
      "\n",
      "\n",
      "5/5 [==============================] - 0s - train loss: 0.3518     "
     ]
    },
    {
     "name": "stderr",
     "output_type": "stream",
     "text": [
      "INFO:Evaluating on development data\n"
     ]
    },
    {
     "name": "stdout",
     "output_type": "stream",
     "text": [
      "\n",
      "\n",
      "5/5 [==============================] - 0s     "
     ]
    },
    {
     "name": "stderr",
     "output_type": "stream",
     "text": [
      "DEBUG:Token-level confusion matrix:\n",
      "go\\gu  \tPER    \tORG    \tLOC    \tMISC   \tO      \n",
      "PER    \t704.00 \t13.00  \t31.00  \t14.00  \t62.00  \n",
      "ORG    \t158.00 \t52.00  \t39.00  \t29.00  \t113.00 \n",
      "LOC    \t65.00  \t10.00  \t406.00 \t26.00  \t70.00  \n",
      "MISC   \t47.00  \t11.00  \t17.00  \t121.00 \t62.00  \n",
      "O      \t98.00  \t8.00   \t42.00  \t9.00   \t6959.00\n",
      "\n",
      "DEBUG:Token-level scores:\n",
      "label\tacc  \tprec \trec  \tf1   \n",
      "PER  \t0.95 \t0.66 \t0.85 \t0.74 \n",
      "ORG  \t0.96 \t0.55 \t0.13 \t0.21 \n",
      "LOC  \t0.97 \t0.76 \t0.70 \t0.73 \n",
      "MISC \t0.98 \t0.61 \t0.47 \t0.53 \n",
      "O    \t0.95 \t0.96 \t0.98 \t0.97 \n",
      "micro\t0.96 \t0.90 \t0.90 \t0.90 \n",
      "macro\t0.96 \t0.71 \t0.63 \t0.64 \n",
      "not-O\t0.96 \t0.68 \t0.63 \t0.65 \n",
      "\n",
      "INFO:Entity level P/R/F1: 0.57/0.57/0.57\n",
      "INFO:Epoch 7 out of 10\n"
     ]
    },
    {
     "name": "stdout",
     "output_type": "stream",
     "text": [
      "\n",
      "\n",
      "5/5 [==============================] - 0s - train loss: 0.3275     "
     ]
    },
    {
     "name": "stderr",
     "output_type": "stream",
     "text": [
      "INFO:Evaluating on development data\n"
     ]
    },
    {
     "name": "stdout",
     "output_type": "stream",
     "text": [
      "\n",
      "\n",
      "5/5 [==============================] - 0s     "
     ]
    },
    {
     "name": "stderr",
     "output_type": "stream",
     "text": [
      "DEBUG:Token-level confusion matrix:\n",
      "go\\gu  \tPER    \tORG    \tLOC    \tMISC   \tO      \n",
      "PER    \t712.00 \t7.00   \t20.00  \t10.00  \t75.00  \n",
      "ORG    \t142.00 \t66.00  \t29.00  \t27.00  \t127.00 \n",
      "LOC    \t32.00  \t8.00   \t425.00 \t30.00  \t82.00  \n",
      "MISC   \t41.00  \t12.00  \t12.00  \t132.00 \t61.00  \n",
      "O      \t66.00  \t12.00  \t25.00  \t5.00   \t7008.00\n",
      "\n",
      "DEBUG:Token-level scores:\n",
      "label\tacc  \tprec \trec  \tf1   \n",
      "PER  \t0.96 \t0.72 \t0.86 \t0.78 \n",
      "ORG  \t0.96 \t0.63 \t0.17 \t0.27 \n",
      "LOC  \t0.97 \t0.83 \t0.74 \t0.78 \n",
      "MISC \t0.98 \t0.65 \t0.51 \t0.57 \n",
      "O    \t0.95 \t0.95 \t0.98 \t0.97 \n",
      "micro\t0.96 \t0.91 \t0.91 \t0.91 \n",
      "macro\t0.96 \t0.76 \t0.65 \t0.67 \n",
      "not-O\t0.97 \t0.74 \t0.65 \t0.69 \n",
      "\n",
      "INFO:Entity level P/R/F1: 0.63/0.59/0.61\n",
      "INFO:Epoch 8 out of 10\n"
     ]
    },
    {
     "name": "stdout",
     "output_type": "stream",
     "text": [
      "\n",
      "\n",
      "5/5 [==============================] - 0s - train loss: 0.3111     "
     ]
    },
    {
     "name": "stderr",
     "output_type": "stream",
     "text": [
      "INFO:Evaluating on development data\n"
     ]
    },
    {
     "name": "stdout",
     "output_type": "stream",
     "text": [
      "\n",
      "\n",
      "5/5 [==============================] - 0s     "
     ]
    },
    {
     "name": "stderr",
     "output_type": "stream",
     "text": [
      "DEBUG:Token-level confusion matrix:\n",
      "go\\gu  \tPER    \tORG    \tLOC    \tMISC   \tO      \n",
      "PER    \t721.00 \t5.00   \t22.00  \t5.00   \t71.00  \n",
      "ORG    \t121.00 \t89.00  \t29.00  \t22.00  \t130.00 \n",
      "LOC    \t31.00  \t10.00  \t434.00 \t20.00  \t82.00  \n",
      "MISC   \t40.00  \t14.00  \t20.00  \t122.00 \t62.00  \n",
      "O      \t51.00  \t18.00  \t19.00  \t3.00   \t7025.00\n",
      "\n",
      "DEBUG:Token-level scores:\n",
      "label\tacc  \tprec \trec  \tf1   \n",
      "PER  \t0.96 \t0.75 \t0.88 \t0.81 \n",
      "ORG  \t0.96 \t0.65 \t0.23 \t0.34 \n",
      "LOC  \t0.97 \t0.83 \t0.75 \t0.79 \n",
      "MISC \t0.98 \t0.71 \t0.47 \t0.57 \n",
      "O    \t0.95 \t0.95 \t0.99 \t0.97 \n",
      "micro\t0.97 \t0.92 \t0.92 \t0.92 \n",
      "macro\t0.97 \t0.78 \t0.66 \t0.69 \n",
      "not-O\t0.97 \t0.76 \t0.67 \t0.71 \n",
      "\n",
      "INFO:Entity level P/R/F1: 0.64/0.60/0.62\n",
      "INFO:Epoch 9 out of 10\n"
     ]
    },
    {
     "name": "stdout",
     "output_type": "stream",
     "text": [
      "\n",
      "\n",
      "5/5 [==============================] - ETA: 0s - train loss: 0.289 - 0s - train loss: 0.2931     "
     ]
    },
    {
     "name": "stderr",
     "output_type": "stream",
     "text": [
      "INFO:Evaluating on development data\n"
     ]
    },
    {
     "name": "stdout",
     "output_type": "stream",
     "text": [
      "\n",
      "\n",
      "5/5 [==============================] - 0s     "
     ]
    },
    {
     "name": "stderr",
     "output_type": "stream",
     "text": [
      "DEBUG:Token-level confusion matrix:\n",
      "go\\gu  \tPER    \tORG    \tLOC    \tMISC   \tO      \n",
      "PER    \t733.00 \t5.00   \t22.00  \t3.00   \t61.00  \n",
      "ORG    \t132.00 \t94.00  \t30.00  \t17.00  \t118.00 \n",
      "LOC    \t36.00  \t8.00   \t462.00 \t7.00   \t64.00  \n",
      "MISC   \t41.00  \t12.00  \t29.00  \t116.00 \t60.00  \n",
      "O      \t51.00  \t16.00  \t21.00  \t2.00   \t7026.00\n",
      "\n",
      "DEBUG:Token-level scores:\n",
      "label\tacc  \tprec \trec  \tf1   \n",
      "PER  \t0.96 \t0.74 \t0.89 \t0.81 \n",
      "ORG  \t0.96 \t0.70 \t0.24 \t0.36 \n",
      "LOC  \t0.98 \t0.82 \t0.80 \t0.81 \n",
      "MISC \t0.98 \t0.80 \t0.45 \t0.58 \n",
      "O    \t0.96 \t0.96 \t0.99 \t0.97 \n",
      "micro\t0.97 \t0.92 \t0.92 \t0.92 \n",
      "macro\t0.97 \t0.80 \t0.67 \t0.70 \n",
      "not-O\t0.97 \t0.76 \t0.69 \t0.72 \n",
      "\n",
      "INFO:Entity level P/R/F1: 0.65/0.62/0.63\n",
      "INFO:Epoch 10 out of 10\n"
     ]
    },
    {
     "name": "stdout",
     "output_type": "stream",
     "text": [
      "\n",
      "\n",
      "5/5 [==============================] - 0s - train loss: 0.2763     "
     ]
    },
    {
     "name": "stderr",
     "output_type": "stream",
     "text": [
      "INFO:Evaluating on development data\n"
     ]
    },
    {
     "name": "stdout",
     "output_type": "stream",
     "text": [
      "\n",
      "\n",
      "5/5 [==============================] - 0s     "
     ]
    },
    {
     "name": "stderr",
     "output_type": "stream",
     "text": [
      "DEBUG:Token-level confusion matrix:\n",
      "go\\gu  \tPER    \tORG    \tLOC    \tMISC   \tO      \n",
      "PER    \t741.00 \t9.00   \t18.00  \t3.00   \t53.00  \n",
      "ORG    \t122.00 \t116.00 \t28.00  \t16.00  \t109.00 \n",
      "LOC    \t32.00  \t8.00   \t474.00 \t5.00   \t58.00  \n",
      "MISC   \t39.00  \t14.00  \t29.00  \t117.00 \t59.00  \n",
      "O      \t41.00  \t27.00  \t22.00  \t2.00   \t7024.00\n",
      "\n",
      "DEBUG:Token-level scores:\n",
      "label\tacc  \tprec \trec  \tf1   \n",
      "PER  \t0.97 \t0.76 \t0.90 \t0.82 \n",
      "ORG  \t0.96 \t0.67 \t0.30 \t0.41 \n",
      "LOC  \t0.98 \t0.83 \t0.82 \t0.83 \n",
      "MISC \t0.98 \t0.82 \t0.45 \t0.58 \n",
      "O    \t0.96 \t0.96 \t0.99 \t0.97 \n",
      "micro\t0.97 \t0.92 \t0.92 \t0.92 \n",
      "macro\t0.97 \t0.81 \t0.69 \t0.72 \n",
      "not-O\t0.97 \t0.78 \t0.71 \t0.74 \n",
      "\n",
      "INFO:Entity level P/R/F1: 0.66/0.65/0.66\n",
      "INFO:Model did not crash!\n",
      "INFO:Passed!\n"
     ]
    },
    {
     "name": "stdout",
     "output_type": "stream",
     "text": [
      "\n",
      "\n"
     ]
    }
   ],
   "source": [
    "%run q1_window.py test2"
   ]
  },
  {
   "cell_type": "code",
   "execution_count": 10,
   "metadata": {},
   "outputs": [
    {
     "name": "stderr",
     "output_type": "stream",
     "text": [
      "INFO:Loading training data...\n",
      "INFO:Done. Read 14041 sentences\n",
      "INFO:Loading dev data...\n",
      "INFO:Done. Read 3250 sentences\n",
      "INFO:Built dictionary for 10007 features.\n",
      "INFO:Initialized embeddings.\n",
      "INFO:Building model...\n",
      "INFO:took 0.30 seconds\n",
      "INFO:Epoch 1 out of 10\n"
     ]
    },
    {
     "name": "stdout",
     "output_type": "stream",
     "text": [
      "100/100 [==============================] - 3s - train loss: 0.3290     "
     ]
    },
    {
     "name": "stderr",
     "output_type": "stream",
     "text": [
      "INFO:Evaluating on development data\n"
     ]
    },
    {
     "name": "stdout",
     "output_type": "stream",
     "text": [
      "\n",
      "\n",
      "26/26 [==============================] - 0s     \n"
     ]
    },
    {
     "name": "stderr",
     "output_type": "stream",
     "text": [
      "DEBUG:Token-level confusion matrix:\n",
      "go\\gu   \tPER     \tORG     \tLOC     \tMISC    \tO       \n",
      "PER     \t2805.00 \t105.00  \t88.00   \t7.00    \t144.00  \n",
      "ORG     \t501.00  \t1004.00 \t248.00  \t111.00  \t228.00  \n",
      "LOC     \t187.00  \t228.00  \t1459.00 \t93.00   \t127.00  \n",
      "MISC    \t149.00  \t211.00  \t109.00  \t639.00  \t160.00  \n",
      "O       \t172.00  \t125.00  \t44.00   \t31.00   \t42387.00\n",
      "\n",
      "DEBUG:Token-level scores:\n",
      "label\tacc  \tprec \trec  \tf1   \n",
      "PER  \t0.97 \t0.74 \t0.89 \t0.81 \n",
      "ORG  \t0.97 \t0.60 \t0.48 \t0.53 \n",
      "LOC  \t0.98 \t0.75 \t0.70 \t0.72 \n",
      "MISC \t0.98 \t0.73 \t0.50 \t0.59 \n",
      "O    \t0.98 \t0.98 \t0.99 \t0.99 \n",
      "micro\t0.98 \t0.94 \t0.94 \t0.94 \n",
      "macro\t0.98 \t0.76 \t0.71 \t0.73 \n",
      "not-O\t0.98 \t0.71 \t0.69 \t0.70 \n",
      "\n",
      "INFO:Entity level P/R/F1: 0.59/0.64/0.62\n",
      "INFO:New best score! Saving model in results/window/20180130_140417/model.weights\n",
      "INFO:Epoch 2 out of 10\n"
     ]
    },
    {
     "name": "stdout",
     "output_type": "stream",
     "text": [
      "\n",
      "100/100 [==============================] - 4s - train loss: 0.1884     "
     ]
    },
    {
     "name": "stderr",
     "output_type": "stream",
     "text": [
      "INFO:Evaluating on development data\n"
     ]
    },
    {
     "name": "stdout",
     "output_type": "stream",
     "text": [
      "\n",
      "\n",
      "26/26 [==============================] - 0s     \n"
     ]
    },
    {
     "name": "stderr",
     "output_type": "stream",
     "text": [
      "DEBUG:Token-level confusion matrix:\n",
      "go\\gu   \tPER     \tORG     \tLOC     \tMISC    \tO       \n",
      "PER     \t2889.00 \t87.00   \t62.00   \t7.00    \t104.00  \n",
      "ORG     \t387.00  \t1288.00 \t128.00  \t82.00   \t207.00  \n",
      "LOC     \t161.00  \t257.00  \t1508.00 \t67.00   \t101.00  \n",
      "MISC    \t98.00   \t191.00  \t86.00   \t756.00  \t137.00  \n",
      "O       \t104.00  \t97.00   \t28.00   \t34.00   \t42496.00\n",
      "\n",
      "DEBUG:Token-level scores:\n",
      "label\tacc  \tprec \trec  \tf1   \n",
      "PER  \t0.98 \t0.79 \t0.92 \t0.85 \n",
      "ORG  \t0.97 \t0.67 \t0.62 \t0.64 \n",
      "LOC  \t0.98 \t0.83 \t0.72 \t0.77 \n",
      "MISC \t0.99 \t0.80 \t0.60 \t0.68 \n",
      "O    \t0.98 \t0.99 \t0.99 \t0.99 \n",
      "micro\t0.98 \t0.95 \t0.95 \t0.95 \n",
      "macro\t0.98 \t0.82 \t0.77 \t0.79 \n",
      "not-O\t0.98 \t0.77 \t0.75 \t0.76 \n",
      "\n",
      "INFO:Entity level P/R/F1: 0.67/0.71/0.69\n",
      "INFO:New best score! Saving model in results/window/20180130_140417/model.weights\n",
      "INFO:Epoch 3 out of 10\n"
     ]
    },
    {
     "name": "stdout",
     "output_type": "stream",
     "text": [
      "\n",
      "100/100 [==============================] - 3s - train loss: 0.1490     "
     ]
    },
    {
     "name": "stderr",
     "output_type": "stream",
     "text": [
      "INFO:Evaluating on development data\n"
     ]
    },
    {
     "name": "stdout",
     "output_type": "stream",
     "text": [
      "\n",
      "\n",
      "26/26 [==============================] - 0s     \n"
     ]
    },
    {
     "name": "stderr",
     "output_type": "stream",
     "text": [
      "DEBUG:Token-level confusion matrix:\n",
      "go\\gu   \tPER     \tORG     \tLOC     \tMISC    \tO       \n",
      "PER     \t2883.00 \t59.00   \t72.00   \t8.00    \t127.00  \n",
      "ORG     \t275.00  \t1395.00 \t165.00  \t50.00   \t207.00  \n",
      "LOC     \t98.00   \t119.00  \t1750.00 \t32.00   \t95.00   \n",
      "MISC    \t64.00   \t150.00  \t109.00  \t809.00  \t136.00  \n",
      "O       \t71.00   \t75.00   \t28.00   \t29.00   \t42556.00\n",
      "\n",
      "DEBUG:Token-level scores:\n",
      "label\tacc  \tprec \trec  \tf1   \n",
      "PER  \t0.98 \t0.85 \t0.92 \t0.88 \n",
      "ORG  \t0.98 \t0.78 \t0.67 \t0.72 \n",
      "LOC  \t0.99 \t0.82 \t0.84 \t0.83 \n",
      "MISC \t0.99 \t0.87 \t0.64 \t0.74 \n",
      "O    \t0.99 \t0.99 \t1.00 \t0.99 \n",
      "micro\t0.98 \t0.96 \t0.96 \t0.96 \n",
      "macro\t0.98 \t0.86 \t0.81 \t0.83 \n",
      "not-O\t0.98 \t0.83 \t0.79 \t0.81 \n",
      "\n",
      "INFO:Entity level P/R/F1: 0.73/0.76/0.75\n",
      "INFO:New best score! Saving model in results/window/20180130_140417/model.weights\n",
      "INFO:Epoch 4 out of 10\n"
     ]
    },
    {
     "name": "stdout",
     "output_type": "stream",
     "text": [
      "\n",
      "100/100 [==============================] - 3s - train loss: 0.1229     "
     ]
    },
    {
     "name": "stderr",
     "output_type": "stream",
     "text": [
      "INFO:Evaluating on development data\n"
     ]
    },
    {
     "name": "stdout",
     "output_type": "stream",
     "text": [
      "\n",
      "\n",
      "26/26 [==============================] - 0s     \n"
     ]
    },
    {
     "name": "stderr",
     "output_type": "stream",
     "text": [
      "DEBUG:Token-level confusion matrix:\n",
      "go\\gu   \tPER     \tORG     \tLOC     \tMISC    \tO       \n",
      "PER     \t2917.00 \t65.00   \t54.00   \t19.00   \t94.00   \n",
      "ORG     \t207.00  \t1496.00 \t130.00  \t70.00   \t189.00  \n",
      "LOC     \t67.00   \t143.00  \t1773.00 \t39.00   \t72.00   \n",
      "MISC    \t48.00   \t108.00  \t62.00   \t926.00  \t124.00  \n",
      "O       \t51.00   \t66.00   \t15.00   \t36.00   \t42591.00\n",
      "\n",
      "DEBUG:Token-level scores:\n",
      "label\tacc  \tprec \trec  \tf1   \n",
      "PER  \t0.99 \t0.89 \t0.93 \t0.91 \n",
      "ORG  \t0.98 \t0.80 \t0.72 \t0.75 \n",
      "LOC  \t0.99 \t0.87 \t0.85 \t0.86 \n",
      "MISC \t0.99 \t0.85 \t0.73 \t0.79 \n",
      "O    \t0.99 \t0.99 \t1.00 \t0.99 \n",
      "micro\t0.99 \t0.97 \t0.97 \t0.97 \n",
      "macro\t0.99 \t0.88 \t0.84 \t0.86 \n",
      "not-O\t0.99 \t0.86 \t0.83 \t0.84 \n",
      "\n",
      "INFO:Entity level P/R/F1: 0.76/0.80/0.78\n",
      "INFO:New best score! Saving model in results/window/20180130_140417/model.weights\n",
      "INFO:Epoch 5 out of 10\n"
     ]
    },
    {
     "name": "stdout",
     "output_type": "stream",
     "text": [
      "\n",
      "100/100 [==============================] - 3s - train loss: 0.1014     "
     ]
    },
    {
     "name": "stderr",
     "output_type": "stream",
     "text": [
      "INFO:Evaluating on development data\n"
     ]
    },
    {
     "name": "stdout",
     "output_type": "stream",
     "text": [
      "\n",
      "\n",
      "26/26 [==============================] - 1s     \n"
     ]
    },
    {
     "name": "stderr",
     "output_type": "stream",
     "text": [
      "DEBUG:Token-level confusion matrix:\n",
      "go\\gu   \tPER     \tORG     \tLOC     \tMISC    \tO       \n",
      "PER     \t2958.00 \t47.00   \t72.00   \t11.00   \t61.00   \n",
      "ORG     \t186.00  \t1546.00 \t163.00  \t51.00   \t146.00  \n",
      "LOC     \t64.00   \t109.00  \t1850.00 \t14.00   \t57.00   \n",
      "MISC    \t53.00   \t93.00   \t82.00   \t926.00  \t114.00  \n",
      "O       \t52.00   \t66.00   \t25.00   \t37.00   \t42579.00\n",
      "\n",
      "DEBUG:Token-level scores:\n",
      "label\tacc  \tprec \trec  \tf1   \n",
      "PER  \t0.99 \t0.89 \t0.94 \t0.92 \n",
      "ORG  \t0.98 \t0.83 \t0.74 \t0.78 \n",
      "LOC  \t0.99 \t0.84 \t0.88 \t0.86 \n",
      "MISC \t0.99 \t0.89 \t0.73 \t0.80 \n",
      "O    \t0.99 \t0.99 \t1.00 \t0.99 \n",
      "micro\t0.99 \t0.97 \t0.97 \t0.97 \n",
      "macro\t0.99 \t0.89 \t0.86 \t0.87 \n",
      "not-O\t0.99 \t0.87 \t0.85 \t0.86 \n",
      "\n",
      "INFO:Entity level P/R/F1: 0.79/0.82/0.80\n",
      "INFO:New best score! Saving model in results/window/20180130_140417/model.weights\n",
      "INFO:Epoch 6 out of 10\n"
     ]
    },
    {
     "name": "stdout",
     "output_type": "stream",
     "text": [
      "\n",
      "100/100 [==============================] - 3s - train loss: 0.0865     - ETA\n"
     ]
    },
    {
     "name": "stderr",
     "output_type": "stream",
     "text": [
      "INFO:Evaluating on development data\n"
     ]
    },
    {
     "name": "stdout",
     "output_type": "stream",
     "text": [
      "\n",
      "26/26 [==============================] - 1s     \n"
     ]
    },
    {
     "name": "stderr",
     "output_type": "stream",
     "text": [
      "DEBUG:Token-level confusion matrix:\n",
      "go\\gu   \tPER     \tORG     \tLOC     \tMISC    \tO       \n",
      "PER     \t2982.00 \t42.00   \t48.00   \t19.00   \t58.00   \n",
      "ORG     \t179.00  \t1583.00 \t110.00  \t80.00   \t140.00  \n",
      "LOC     \t70.00   \t127.00  \t1801.00 \t43.00   \t53.00   \n",
      "MISC    \t47.00   \t67.00   \t50.00   \t988.00  \t116.00  \n",
      "O       \t53.00   \t68.00   \t17.00   \t31.00   \t42590.00\n",
      "\n",
      "DEBUG:Token-level scores:\n",
      "label\tacc  \tprec \trec  \tf1   \n",
      "PER  \t0.99 \t0.90 \t0.95 \t0.92 \n",
      "ORG  \t0.98 \t0.84 \t0.76 \t0.80 \n",
      "LOC  \t0.99 \t0.89 \t0.86 \t0.87 \n",
      "MISC \t0.99 \t0.85 \t0.78 \t0.81 \n",
      "O    \t0.99 \t0.99 \t1.00 \t0.99 \n",
      "micro\t0.99 \t0.97 \t0.97 \t0.97 \n",
      "macro\t0.99 \t0.89 \t0.87 \t0.88 \n",
      "not-O\t0.99 \t0.87 \t0.85 \t0.86 \n",
      "\n",
      "INFO:Entity level P/R/F1: 0.79/0.83/0.81\n",
      "INFO:New best score! Saving model in results/window/20180130_140417/model.weights\n",
      "INFO:Epoch 7 out of 10\n"
     ]
    },
    {
     "name": "stdout",
     "output_type": "stream",
     "text": [
      "\n",
      "100/100 [==============================] - 4s - train loss: 0.0743     "
     ]
    },
    {
     "name": "stderr",
     "output_type": "stream",
     "text": [
      "INFO:Evaluating on development data\n"
     ]
    },
    {
     "name": "stdout",
     "output_type": "stream",
     "text": [
      "\n",
      "\n",
      "26/26 [==============================] - 1s     \n"
     ]
    },
    {
     "name": "stderr",
     "output_type": "stream",
     "text": [
      "DEBUG:Token-level confusion matrix:\n",
      "go\\gu   \tPER     \tORG     \tLOC     \tMISC    \tO       \n",
      "PER     \t2999.00 \t38.00   \t43.00   \t10.00   \t59.00   \n",
      "ORG     \t188.00  \t1586.00 \t105.00  \t69.00   \t144.00  \n",
      "LOC     \t70.00   \t104.00  \t1842.00 \t31.00   \t47.00   \n",
      "MISC    \t51.00   \t59.00   \t49.00   \t992.00  \t117.00  \n",
      "O       \t52.00   \t55.00   \t16.00   \t26.00   \t42610.00\n",
      "\n",
      "DEBUG:Token-level scores:\n",
      "label\tacc  \tprec \trec  \tf1   \n",
      "PER  \t0.99 \t0.89 \t0.95 \t0.92 \n",
      "ORG  \t0.99 \t0.86 \t0.76 \t0.81 \n",
      "LOC  \t0.99 \t0.90 \t0.88 \t0.89 \n",
      "MISC \t0.99 \t0.88 \t0.78 \t0.83 \n",
      "O    \t0.99 \t0.99 \t1.00 \t0.99 \n",
      "micro\t0.99 \t0.97 \t0.97 \t0.97 \n",
      "macro\t0.99 \t0.90 \t0.87 \t0.89 \n",
      "not-O\t0.99 \t0.88 \t0.86 \t0.87 \n",
      "\n",
      "INFO:Entity level P/R/F1: 0.80/0.84/0.82\n",
      "INFO:New best score! Saving model in results/window/20180130_140417/model.weights\n",
      "INFO:Epoch 8 out of 10\n"
     ]
    },
    {
     "name": "stdout",
     "output_type": "stream",
     "text": [
      "\n",
      "100/100 [==============================] - 3s - train loss: 0.0656     "
     ]
    },
    {
     "name": "stderr",
     "output_type": "stream",
     "text": [
      "INFO:Evaluating on development data\n"
     ]
    },
    {
     "name": "stdout",
     "output_type": "stream",
     "text": [
      "\n",
      "\n",
      "26/26 [==============================] - 1s     \n"
     ]
    },
    {
     "name": "stderr",
     "output_type": "stream",
     "text": [
      "DEBUG:Token-level confusion matrix:\n",
      "go\\gu   \tPER     \tORG     \tLOC     \tMISC    \tO       \n",
      "PER     \t2998.00 \t36.00   \t39.00   \t11.00   \t65.00   \n",
      "ORG     \t183.00  \t1613.00 \t93.00   \t53.00   \t150.00  \n",
      "LOC     \t71.00   \t103.00  \t1853.00 \t20.00   \t47.00   \n",
      "MISC    \t51.00   \t62.00   \t49.00   \t991.00  \t115.00  \n",
      "O       \t51.00   \t50.00   \t16.00   \t33.00   \t42609.00\n",
      "\n",
      "DEBUG:Token-level scores:\n",
      "label\tacc  \tprec \trec  \tf1   \n",
      "PER  \t0.99 \t0.89 \t0.95 \t0.92 \n",
      "ORG  \t0.99 \t0.87 \t0.77 \t0.82 \n",
      "LOC  \t0.99 \t0.90 \t0.88 \t0.89 \n",
      "MISC \t0.99 \t0.89 \t0.78 \t0.83 \n",
      "O    \t0.99 \t0.99 \t1.00 \t0.99 \n",
      "micro\t0.99 \t0.97 \t0.97 \t0.97 \n",
      "macro\t0.99 \t0.91 \t0.88 \t0.89 \n",
      "not-O\t0.99 \t0.89 \t0.87 \t0.88 \n",
      "\n",
      "INFO:Entity level P/R/F1: 0.81/0.84/0.83\n",
      "INFO:New best score! Saving model in results/window/20180130_140417/model.weights\n",
      "INFO:Epoch 9 out of 10\n"
     ]
    },
    {
     "name": "stdout",
     "output_type": "stream",
     "text": [
      "\n",
      "100/100 [==============================] - 4s - train loss: 0.0583     "
     ]
    },
    {
     "name": "stderr",
     "output_type": "stream",
     "text": [
      "INFO:Evaluating on development data\n"
     ]
    },
    {
     "name": "stdout",
     "output_type": "stream",
     "text": [
      "\n",
      "\n",
      "26/26 [==============================] - 1s     \n"
     ]
    },
    {
     "name": "stderr",
     "output_type": "stream",
     "text": [
      "DEBUG:Token-level confusion matrix:\n",
      "go\\gu   \tPER     \tORG     \tLOC     \tMISC    \tO       \n",
      "PER     \t2930.00 \t63.00   \t96.00   \t8.00    \t52.00   \n",
      "ORG     \t139.00  \t1671.00 \t107.00  \t42.00   \t133.00  \n",
      "LOC     \t49.00   \t107.00  \t1887.00 \t13.00   \t38.00   \n",
      "MISC    \t40.00   \t69.00   \t64.00   \t981.00  \t114.00  \n",
      "O       \t41.00   \t58.00   \t26.00   \t25.00   \t42609.00\n",
      "\n",
      "DEBUG:Token-level scores:\n",
      "label\tacc  \tprec \trec  \tf1   \n",
      "PER  \t0.99 \t0.92 \t0.93 \t0.92 \n",
      "ORG  \t0.99 \t0.85 \t0.80 \t0.82 \n",
      "LOC  \t0.99 \t0.87 \t0.90 \t0.88 \n",
      "MISC \t0.99 \t0.92 \t0.77 \t0.84 \n",
      "O    \t0.99 \t0.99 \t1.00 \t0.99 \n",
      "micro\t0.99 \t0.98 \t0.98 \t0.98 \n",
      "macro\t0.99 \t0.91 \t0.88 \t0.89 \n",
      "not-O\t0.99 \t0.89 \t0.87 \t0.88 \n",
      "\n",
      "INFO:Entity level P/R/F1: 0.81/0.85/0.83\n",
      "INFO:Epoch 10 out of 10\n"
     ]
    },
    {
     "name": "stdout",
     "output_type": "stream",
     "text": [
      "\n",
      "100/100 [==============================] - 3s - train loss: 0.0526     "
     ]
    },
    {
     "name": "stderr",
     "output_type": "stream",
     "text": [
      "INFO:Evaluating on development data\n"
     ]
    },
    {
     "name": "stdout",
     "output_type": "stream",
     "text": [
      "\n",
      "\n",
      "26/26 [==============================] - 1s     \n"
     ]
    },
    {
     "name": "stderr",
     "output_type": "stream",
     "text": [
      "DEBUG:Token-level confusion matrix:\n",
      "go\\gu   \tPER     \tORG     \tLOC     \tMISC    \tO       \n",
      "PER     \t2965.00 \t41.00   \t78.00   \t13.00   \t52.00   \n",
      "ORG     \t147.00  \t1638.00 \t107.00  \t74.00   \t126.00  \n",
      "LOC     \t56.00   \t97.00   \t1873.00 \t31.00   \t37.00   \n",
      "MISC    \t40.00   \t49.00   \t47.00   \t1022.00 \t110.00  \n",
      "O       \t44.00   \t51.00   \t20.00   \t34.00   \t42610.00\n",
      "\n",
      "DEBUG:Token-level scores:\n",
      "label\tacc  \tprec \trec  \tf1   \n",
      "PER  \t0.99 \t0.91 \t0.94 \t0.93 \n",
      "ORG  \t0.99 \t0.87 \t0.78 \t0.83 \n",
      "LOC  \t0.99 \t0.88 \t0.89 \t0.89 \n",
      "MISC \t0.99 \t0.87 \t0.81 \t0.84 \n",
      "O    \t0.99 \t0.99 \t1.00 \t0.99 \n",
      "micro\t0.99 \t0.98 \t0.98 \t0.98 \n",
      "macro\t0.99 \t0.91 \t0.88 \t0.89 \n",
      "not-O\t0.99 \t0.89 \t0.87 \t0.88 \n",
      "\n",
      "INFO:Entity level P/R/F1: 0.81/0.85/0.83\n",
      "INFO:New best score! Saving model in results/window/20180130_140417/model.weights\n"
     ]
    },
    {
     "name": "stdout",
     "output_type": "stream",
     "text": [
      "\n",
      "26/26 [==============================] - 1s     \n"
     ]
    }
   ],
   "source": [
    "%run q1_window.py train"
   ]
  },
  {
   "cell_type": "markdown",
   "metadata": {},
   "source": [
    "## 2. Recurrent neural nets for NER (40 points)"
   ]
  },
  {
   "cell_type": "markdown",
   "metadata": {},
   "source": [
    "### (c)(d)(e)(f). Implement an RNN classifier model"
   ]
  },
  {
   "cell_type": "code",
   "execution_count": 11,
   "metadata": {},
   "outputs": [
    {
     "name": "stderr",
     "output_type": "stream",
     "text": [
      "INFO:Testing rnn_cell\n",
      "INFO:Passed!\n"
     ]
    },
    {
     "name": "stdout",
     "output_type": "stream",
     "text": [
      "y_ = [[ 0.83201838  0.88079703]\n",
      " [ 0.7310586   0.62245935]]\n",
      "ht_ = [[ 0.83201838  0.88079703]\n",
      " [ 0.7310586   0.62245935]]\n"
     ]
    }
   ],
   "source": [
    "%run q2_rnn_cell.py test"
   ]
  },
  {
   "cell_type": "code",
   "execution_count": 12,
   "metadata": {},
   "outputs": [
    {
     "name": "stderr",
     "output_type": "stream",
     "text": [
      "INFO:Testing pad_sequences\n",
      "INFO:Passed!\n"
     ]
    }
   ],
   "source": [
    "%run q2_rnn.py test1"
   ]
  },
  {
   "cell_type": "code",
   "execution_count": 13,
   "metadata": {},
   "outputs": [
    {
     "name": "stderr",
     "output_type": "stream",
     "text": [
      "INFO:Testing implementation of RNNModel\n",
      "INFO:Loading training data...\n",
      "INFO:Done. Read 721 sentences\n",
      "INFO:Loading dev data...\n",
      "INFO:Done. Read 721 sentences\n",
      "INFO:Built dictionary for 2653 features.\n",
      "INFO:Initialized embeddings.\n",
      "INFO:Building model...\n",
      "C:\\Users\\Roy\\Anaconda3\\lib\\site-packages\\tensorflow\\python\\ops\\gradients_impl.py:95: UserWarning: Converting sparse IndexedSlices to a dense Tensor of unknown shape. This may consume a large amount of memory.\n",
      "  \"Converting sparse IndexedSlices to a dense Tensor of unknown shape. \"\n",
      "INFO:took 7.34 seconds\n",
      "INFO:Epoch 1 out of 10\n"
     ]
    },
    {
     "name": "stdout",
     "output_type": "stream",
     "text": [
      "23/23 [==============================] - 2s - train loss: 0.7964     "
     ]
    },
    {
     "name": "stderr",
     "output_type": "stream",
     "text": [
      "INFO:Evaluating on development data\n"
     ]
    },
    {
     "name": "stdout",
     "output_type": "stream",
     "text": [
      "\n",
      "\n",
      "23/23 [==============================] - 4s     "
     ]
    },
    {
     "name": "stderr",
     "output_type": "stream",
     "text": [
      "DEBUG:Token-level confusion matrix:\n",
      "go\\gu  \tPER    \tORG    \tLOC    \tMISC   \tO      \n",
      "PER    \t626.00 \t0.00   \t61.00  \t0.00   \t137.00 \n",
      "ORG    \t154.00 \t4.00   \t73.00  \t0.00   \t160.00 \n",
      "LOC    \t50.00  \t3.00   \t368.00 \t0.00   \t156.00 \n",
      "MISC   \t56.00  \t2.00   \t31.00  \t0.00   \t169.00 \n",
      "O      \t105.00 \t0.00   \t219.00 \t0.00   \t6792.00\n",
      "\n",
      "DEBUG:Token-level scores:\n",
      "label\tacc  \tprec \trec  \tf1   \n",
      "PER  \t0.94 \t0.63 \t0.76 \t0.69 \n",
      "ORG  \t0.96 \t0.44 \t0.01 \t0.02 \n",
      "LOC  \t0.94 \t0.49 \t0.64 \t0.55 \n",
      "MISC \t0.00 \t0.00 \t0.00 \t0.00 \n",
      "O    \t0.90 \t0.92 \t0.95 \t0.93 \n",
      "micro\t0.94 \t0.85 \t0.85 \t0.85 \n",
      "macro\t0.75 \t0.50 \t0.47 \t0.44 \n",
      "not-O\t0.95 \t0.57 \t0.49 \t0.52 \n",
      "\n",
      "INFO:Entity level P/R/F1: 0.46/0.42/0.44\n",
      "INFO:Epoch 2 out of 10\n"
     ]
    },
    {
     "name": "stdout",
     "output_type": "stream",
     "text": [
      "\n",
      "\n",
      "23/23 [==============================] - 2s - train loss: 0.4295     "
     ]
    },
    {
     "name": "stderr",
     "output_type": "stream",
     "text": [
      "INFO:Evaluating on development data\n"
     ]
    },
    {
     "name": "stdout",
     "output_type": "stream",
     "text": [
      "\n",
      "\n",
      "23/23 [==============================] - 4s     "
     ]
    },
    {
     "name": "stderr",
     "output_type": "stream",
     "text": [
      "DEBUG:Token-level confusion matrix:\n",
      "go\\gu  \tPER    \tORG    \tLOC    \tMISC   \tO      \n",
      "PER    \t715.00 \t1.00   \t12.00  \t1.00   \t95.00  \n",
      "ORG    \t201.00 \t13.00  \t13.00  \t6.00   \t158.00 \n",
      "LOC    \t98.00  \t1.00   \t350.00 \t5.00   \t123.00 \n",
      "MISC   \t78.00  \t7.00   \t29.00  \t39.00  \t105.00 \n",
      "O      \t93.00  \t0.00   \t17.00  \t0.00   \t7006.00\n",
      "\n",
      "DEBUG:Token-level scores:\n",
      "label\tacc  \tprec \trec  \tf1   \n",
      "PER  \t0.94 \t0.60 \t0.87 \t0.71 \n",
      "ORG  \t0.96 \t0.59 \t0.03 \t0.06 \n",
      "LOC  \t0.97 \t0.83 \t0.61 \t0.70 \n",
      "MISC \t0.97 \t0.76 \t0.15 \t0.25 \n",
      "O    \t0.94 \t0.94 \t0.98 \t0.96 \n",
      "micro\t0.95 \t0.89 \t0.89 \t0.89 \n",
      "macro\t0.95 \t0.75 \t0.53 \t0.54 \n",
      "not-O\t0.96 \t0.67 \t0.54 \t0.60 \n",
      "\n",
      "INFO:Entity level P/R/F1: 0.61/0.50/0.55\n",
      "INFO:Epoch 3 out of 10\n"
     ]
    },
    {
     "name": "stdout",
     "output_type": "stream",
     "text": [
      "\n",
      "\n",
      "23/23 [==============================] - 2s - train loss: 0.3454     "
     ]
    },
    {
     "name": "stderr",
     "output_type": "stream",
     "text": [
      "INFO:Evaluating on development data\n"
     ]
    },
    {
     "name": "stdout",
     "output_type": "stream",
     "text": [
      "\n",
      "\n",
      "23/23 [==============================] - 3s     "
     ]
    },
    {
     "name": "stderr",
     "output_type": "stream",
     "text": [
      "DEBUG:Token-level confusion matrix:\n",
      "go\\gu  \tPER    \tORG    \tLOC    \tMISC   \tO      \n",
      "PER    \t736.00 \t1.00   \t19.00  \t5.00   \t63.00  \n",
      "ORG    \t188.00 \t26.00  \t20.00  \t19.00  \t138.00 \n",
      "LOC    \t48.00  \t5.00   \t426.00 \t21.00  \t77.00  \n",
      "MISC   \t57.00  \t5.00   \t17.00  \t99.00  \t80.00  \n",
      "O      \t74.00  \t2.00   \t24.00  \t1.00   \t7015.00\n",
      "\n",
      "DEBUG:Token-level scores:\n",
      "label\tacc  \tprec \trec  \tf1   \n",
      "PER  \t0.95 \t0.67 \t0.89 \t0.76 \n",
      "ORG  \t0.96 \t0.67 \t0.07 \t0.12 \n",
      "LOC  \t0.97 \t0.84 \t0.74 \t0.79 \n",
      "MISC \t0.98 \t0.68 \t0.38 \t0.49 \n",
      "O    \t0.95 \t0.95 \t0.99 \t0.97 \n",
      "micro\t0.96 \t0.91 \t0.91 \t0.91 \n",
      "macro\t0.96 \t0.76 \t0.61 \t0.63 \n",
      "not-O\t0.97 \t0.72 \t0.63 \t0.67 \n",
      "\n",
      "INFO:Entity level P/R/F1: 0.65/0.59/0.62\n",
      "INFO:Epoch 4 out of 10\n"
     ]
    },
    {
     "name": "stdout",
     "output_type": "stream",
     "text": [
      "\n",
      "\n",
      "23/23 [==============================] - 2s - train loss: 0.3098     "
     ]
    },
    {
     "name": "stderr",
     "output_type": "stream",
     "text": [
      "INFO:Evaluating on development data\n"
     ]
    },
    {
     "name": "stdout",
     "output_type": "stream",
     "text": [
      "\n",
      "\n",
      "23/23 [==============================] - 4s     "
     ]
    },
    {
     "name": "stderr",
     "output_type": "stream",
     "text": [
      "DEBUG:Token-level confusion matrix:\n",
      "go\\gu  \tPER    \tORG    \tLOC    \tMISC   \tO      \n",
      "PER    \t743.00 \t2.00   \t19.00  \t3.00   \t57.00  \n",
      "ORG    \t171.00 \t47.00  \t27.00  \t16.00  \t130.00 \n",
      "LOC    \t36.00  \t7.00   \t453.00 \t16.00  \t65.00  \n",
      "MISC   \t51.00  \t10.00  \t19.00  \t106.00 \t72.00  \n",
      "O      \t68.00  \t6.00   \t22.00  \t1.00   \t7019.00\n",
      "\n",
      "DEBUG:Token-level scores:\n",
      "label\tacc  \tprec \trec  \tf1   \n",
      "PER  \t0.96 \t0.70 \t0.90 \t0.78 \n",
      "ORG  \t0.96 \t0.65 \t0.12 \t0.20 \n",
      "LOC  \t0.98 \t0.84 \t0.79 \t0.81 \n",
      "MISC \t0.98 \t0.75 \t0.41 \t0.53 \n",
      "O    \t0.95 \t0.96 \t0.99 \t0.97 \n",
      "micro\t0.97 \t0.91 \t0.91 \t0.91 \n",
      "macro\t0.97 \t0.78 \t0.64 \t0.66 \n",
      "not-O\t0.97 \t0.74 \t0.66 \t0.70 \n",
      "\n",
      "INFO:Entity level P/R/F1: 0.66/0.61/0.63\n",
      "INFO:Epoch 5 out of 10\n"
     ]
    },
    {
     "name": "stdout",
     "output_type": "stream",
     "text": [
      "\n",
      "\n",
      "23/23 [==============================] - 2s - train loss: 0.2786     "
     ]
    },
    {
     "name": "stderr",
     "output_type": "stream",
     "text": [
      "INFO:Evaluating on development data\n"
     ]
    },
    {
     "name": "stdout",
     "output_type": "stream",
     "text": [
      "\n",
      "\n",
      "23/23 [==============================] - 5s     \n"
     ]
    },
    {
     "name": "stderr",
     "output_type": "stream",
     "text": [
      "DEBUG:Token-level confusion matrix:\n",
      "go\\gu  \tPER    \tORG    \tLOC    \tMISC   \tO      \n",
      "PER    \t765.00 \t4.00   \t10.00  \t2.00   \t43.00  \n",
      "ORG    \t171.00 \t72.00  \t21.00  \t15.00  \t112.00 \n",
      "LOC    \t47.00  \t9.00   \t451.00 \t17.00  \t53.00  \n",
      "MISC   \t50.00  \t15.00  \t11.00  \t121.00 \t61.00  \n",
      "O      \t64.00  \t9.00   \t8.00   \t1.00   \t7034.00\n",
      "\n",
      "DEBUG:Token-level scores:\n",
      "label\tacc  \tprec \trec  \tf1   \n",
      "PER  \t0.96 \t0.70 \t0.93 \t0.80 \n",
      "ORG  \t0.96 \t0.66 \t0.18 \t0.29 \n",
      "LOC  \t0.98 \t0.90 \t0.78 \t0.84 \n",
      "MISC \t0.98 \t0.78 \t0.47 \t0.58 \n",
      "O    \t0.96 \t0.96 \t0.99 \t0.98 \n",
      "micro\t0.97 \t0.92 \t0.92 \t0.92 \n",
      "macro\t0.97 \t0.80 \t0.67 \t0.70 \n",
      "not-O\t0.97 \t0.76 \t0.69 \t0.72 \n",
      "\n",
      "INFO:Entity level P/R/F1: 0.66/0.64/0.65\n",
      "INFO:Epoch 6 out of 10\n"
     ]
    },
    {
     "name": "stdout",
     "output_type": "stream",
     "text": [
      "\n",
      "23/23 [==============================] - 2s - train loss: 0.2564     "
     ]
    },
    {
     "name": "stderr",
     "output_type": "stream",
     "text": [
      "INFO:Evaluating on development data\n"
     ]
    },
    {
     "name": "stdout",
     "output_type": "stream",
     "text": [
      "\n",
      "\n",
      "23/23 [==============================] - 5s     "
     ]
    },
    {
     "name": "stderr",
     "output_type": "stream",
     "text": [
      "DEBUG:Token-level confusion matrix:\n",
      "go\\gu  \tPER    \tORG    \tLOC    \tMISC   \tO      \n",
      "PER    \t765.00 \t5.00   \t11.00  \t0.00   \t43.00  \n",
      "ORG    \t138.00 \t100.00 \t23.00  \t8.00   \t122.00 \n",
      "LOC    \t34.00  \t14.00  \t475.00 \t3.00   \t51.00  \n",
      "MISC   \t37.00  \t25.00  \t24.00  \t110.00 \t62.00  \n",
      "O      \t55.00  \t13.00  \t7.00   \t0.00   \t7041.00\n",
      "\n",
      "DEBUG:Token-level scores:\n",
      "label\tacc  \tprec \trec  \tf1   \n",
      "PER  \t0.96 \t0.74 \t0.93 \t0.83 \n",
      "ORG  \t0.96 \t0.64 \t0.26 \t0.36 \n",
      "LOC  \t0.98 \t0.88 \t0.82 \t0.85 \n",
      "MISC \t0.98 \t0.91 \t0.43 \t0.58 \n",
      "O    \t0.96 \t0.96 \t0.99 \t0.98 \n",
      "micro\t0.97 \t0.93 \t0.93 \t0.93 \n",
      "macro\t0.97 \t0.83 \t0.68 \t0.72 \n",
      "not-O\t0.97 \t0.79 \t0.71 \t0.74 \n",
      "\n",
      "INFO:Entity level P/R/F1: 0.68/0.65/0.67\n",
      "INFO:Epoch 7 out of 10\n"
     ]
    },
    {
     "name": "stdout",
     "output_type": "stream",
     "text": [
      "\n",
      "\n",
      "23/23 [==============================] - 2s - train loss: 0.2397     "
     ]
    },
    {
     "name": "stderr",
     "output_type": "stream",
     "text": [
      "INFO:Evaluating on development data\n"
     ]
    },
    {
     "name": "stdout",
     "output_type": "stream",
     "text": [
      "\n",
      "\n",
      "23/23 [==============================] - 5s     "
     ]
    },
    {
     "name": "stderr",
     "output_type": "stream",
     "text": [
      "DEBUG:Token-level confusion matrix:\n",
      "go\\gu  \tPER    \tORG    \tLOC    \tMISC   \tO      \n",
      "PER    \t765.00 \t9.00   \t12.00  \t2.00   \t36.00  \n",
      "ORG    \t87.00  \t172.00 \t30.00  \t12.00  \t90.00  \n",
      "LOC    \t14.00  \t24.00  \t502.00 \t5.00   \t32.00  \n",
      "MISC   \t26.00  \t30.00  \t17.00  \t139.00 \t46.00  \n",
      "O      \t45.00  \t26.00  \t7.00   \t0.00   \t7038.00\n",
      "\n",
      "DEBUG:Token-level scores:\n",
      "label\tacc  \tprec \trec  \tf1   \n",
      "PER  \t0.97 \t0.82 \t0.93 \t0.87 \n",
      "ORG  \t0.97 \t0.66 \t0.44 \t0.53 \n",
      "LOC  \t0.98 \t0.88 \t0.87 \t0.88 \n",
      "MISC \t0.98 \t0.88 \t0.54 \t0.67 \n",
      "O    \t0.97 \t0.97 \t0.99 \t0.98 \n",
      "micro\t0.98 \t0.94 \t0.94 \t0.94 \n",
      "macro\t0.98 \t0.84 \t0.75 \t0.78 \n",
      "not-O\t0.98 \t0.82 \t0.77 \t0.79 \n",
      "\n",
      "INFO:Entity level P/R/F1: 0.71/0.71/0.71\n",
      "INFO:Epoch 8 out of 10\n"
     ]
    },
    {
     "name": "stdout",
     "output_type": "stream",
     "text": [
      "\n",
      "\n",
      "23/23 [==============================] - 2s - train loss: 0.2183     "
     ]
    },
    {
     "name": "stderr",
     "output_type": "stream",
     "text": [
      "INFO:Evaluating on development data\n"
     ]
    },
    {
     "name": "stdout",
     "output_type": "stream",
     "text": [
      "\n",
      "\n",
      "23/23 [==============================] - 5s     "
     ]
    },
    {
     "name": "stderr",
     "output_type": "stream",
     "text": [
      "DEBUG:Token-level confusion matrix:\n",
      "go\\gu  \tPER    \tORG    \tLOC    \tMISC   \tO      \n",
      "PER    \t772.00 \t5.00   \t11.00  \t4.00   \t32.00  \n",
      "ORG    \t68.00  \t171.00 \t26.00  \t34.00  \t92.00  \n",
      "LOC    \t10.00  \t17.00  \t504.00 \t17.00  \t29.00  \n",
      "MISC   \t19.00  \t17.00  \t14.00  \t170.00 \t38.00  \n",
      "O      \t32.00  \t22.00  \t6.00   \t3.00   \t7053.00\n",
      "\n",
      "DEBUG:Token-level scores:\n",
      "label\tacc  \tprec \trec  \tf1   \n",
      "PER  \t0.98 \t0.86 \t0.94 \t0.90 \n",
      "ORG  \t0.97 \t0.74 \t0.44 \t0.55 \n",
      "LOC  \t0.99 \t0.90 \t0.87 \t0.89 \n",
      "MISC \t0.98 \t0.75 \t0.66 \t0.70 \n",
      "O    \t0.97 \t0.97 \t0.99 \t0.98 \n",
      "micro\t0.98 \t0.95 \t0.95 \t0.95 \n",
      "macro\t0.98 \t0.84 \t0.78 \t0.80 \n",
      "not-O\t0.98 \t0.84 \t0.79 \t0.81 \n",
      "\n",
      "INFO:Entity level P/R/F1: 0.73/0.74/0.73\n",
      "INFO:Epoch 9 out of 10\n"
     ]
    },
    {
     "name": "stdout",
     "output_type": "stream",
     "text": [
      "\n",
      "\n",
      "23/23 [==============================] - 2s - train loss: 0.2025     "
     ]
    },
    {
     "name": "stderr",
     "output_type": "stream",
     "text": [
      "INFO:Evaluating on development data\n"
     ]
    },
    {
     "name": "stdout",
     "output_type": "stream",
     "text": [
      "\n",
      "\n",
      "23/23 [==============================] - 5s     "
     ]
    },
    {
     "name": "stderr",
     "output_type": "stream",
     "text": [
      "DEBUG:Token-level confusion matrix:\n",
      "go\\gu  \tPER    \tORG    \tLOC    \tMISC   \tO      \n",
      "PER    \t770.00 \t10.00  \t10.00  \t3.00   \t31.00  \n",
      "ORG    \t54.00  \t209.00 \t22.00  \t27.00  \t79.00  \n",
      "LOC    \t5.00   \t25.00  \t505.00 \t12.00  \t30.00  \n",
      "MISC   \t17.00  \t21.00  \t13.00  \t167.00 \t40.00  \n",
      "O      \t20.00  \t29.00  \t1.00   \t1.00   \t7065.00\n",
      "\n",
      "DEBUG:Token-level scores:\n",
      "label\tacc  \tprec \trec  \tf1   \n",
      "PER  \t0.98 \t0.89 \t0.93 \t0.91 \n",
      "ORG  \t0.97 \t0.71 \t0.53 \t0.61 \n",
      "LOC  \t0.99 \t0.92 \t0.88 \t0.90 \n",
      "MISC \t0.99 \t0.80 \t0.65 \t0.71 \n",
      "O    \t0.97 \t0.98 \t0.99 \t0.98 \n",
      "micro\t0.98 \t0.95 \t0.95 \t0.95 \n",
      "macro\t0.98 \t0.86 \t0.80 \t0.82 \n",
      "not-O\t0.98 \t0.86 \t0.81 \t0.83 \n",
      "\n",
      "INFO:Entity level P/R/F1: 0.75/0.76/0.75\n",
      "INFO:Epoch 10 out of 10\n"
     ]
    },
    {
     "name": "stdout",
     "output_type": "stream",
     "text": [
      "\n",
      "\n",
      "23/23 [==============================] - 2s - train loss: 0.1778     "
     ]
    },
    {
     "name": "stderr",
     "output_type": "stream",
     "text": [
      "INFO:Evaluating on development data\n"
     ]
    },
    {
     "name": "stdout",
     "output_type": "stream",
     "text": [
      "\n",
      "\n",
      "23/23 [==============================] - 4s     "
     ]
    },
    {
     "name": "stderr",
     "output_type": "stream",
     "text": [
      "DEBUG:Token-level confusion matrix:\n",
      "go\\gu  \tPER    \tORG    \tLOC    \tMISC   \tO      \n",
      "PER    \t774.00 \t9.00   \t10.00  \t4.00   \t27.00  \n",
      "ORG    \t40.00  \t223.00 \t26.00  \t27.00  \t75.00  \n",
      "LOC    \t3.00   \t18.00  \t518.00 \t12.00  \t26.00  \n",
      "MISC   \t13.00  \t19.00  \t14.00  \t181.00 \t31.00  \n",
      "O      \t13.00  \t21.00  \t1.00   \t1.00   \t7080.00\n",
      "\n",
      "DEBUG:Token-level scores:\n",
      "label\tacc  \tprec \trec  \tf1   \n",
      "PER  \t0.99 \t0.92 \t0.94 \t0.93 \n",
      "ORG  \t0.97 \t0.77 \t0.57 \t0.65 \n",
      "LOC  \t0.99 \t0.91 \t0.90 \t0.90 \n",
      "MISC \t0.99 \t0.80 \t0.70 \t0.75 \n",
      "O    \t0.98 \t0.98 \t0.99 \t0.99 \n",
      "micro\t0.98 \t0.96 \t0.96 \t0.96 \n",
      "macro\t0.98 \t0.88 \t0.82 \t0.84 \n",
      "not-O\t0.98 \t0.88 \t0.83 \t0.85 \n",
      "\n",
      "INFO:Entity level P/R/F1: 0.78/0.78/0.78\n",
      "INFO:Model did not crash!\n",
      "INFO:Passed!\n"
     ]
    },
    {
     "name": "stdout",
     "output_type": "stream",
     "text": [
      "\n",
      "\n"
     ]
    }
   ],
   "source": [
    "%run q2_rnn.py test2"
   ]
  },
  {
   "cell_type": "code",
   "execution_count": 14,
   "metadata": {},
   "outputs": [
    {
     "name": "stderr",
     "output_type": "stream",
     "text": [
      "INFO:Loading training data...\n",
      "INFO:Done. Read 14041 sentences\n",
      "INFO:Loading dev data...\n",
      "INFO:Done. Read 3250 sentences\n",
      "INFO:Built dictionary for 10007 features.\n",
      "INFO:Initialized embeddings.\n",
      "INFO:Building model...\n",
      "C:\\Users\\Roy\\Anaconda3\\lib\\site-packages\\tensorflow\\python\\ops\\gradients_impl.py:95: UserWarning: Converting sparse IndexedSlices to a dense Tensor of unknown shape. This may consume a large amount of memory.\n",
      "  \"Converting sparse IndexedSlices to a dense Tensor of unknown shape. \"\n",
      "INFO:took 12.31 seconds\n",
      "INFO:Epoch 1 out of 10\n"
     ]
    },
    {
     "name": "stdout",
     "output_type": "stream",
     "text": [
      "439/439 [==============================] - 133s - train loss: 0.2309   "
     ]
    },
    {
     "name": "stderr",
     "output_type": "stream",
     "text": [
      "INFO:Evaluating on development data\n"
     ]
    },
    {
     "name": "stdout",
     "output_type": "stream",
     "text": [
      "\n",
      "\n",
      "102/102 [==============================] - 36s    "
     ]
    },
    {
     "name": "stderr",
     "output_type": "stream",
     "text": [
      "DEBUG:Token-level confusion matrix:\n",
      "go\\gu   \tPER     \tORG     \tLOC     \tMISC    \tO       \n",
      "PER     \t2822.00 \t98.00   \t38.00   \t13.00   \t178.00  \n",
      "ORG     \t278.00  \t1391.00 \t82.00   \t105.00  \t236.00  \n",
      "LOC     \t102.00  \t403.00  \t1357.00 \t118.00  \t114.00  \n",
      "MISC    \t69.00   \t241.00  \t34.00   \t769.00  \t155.00  \n",
      "O       \t60.00   \t99.00   \t9.00    \t35.00   \t42556.00\n",
      "\n",
      "DEBUG:Token-level scores:\n",
      "label\tacc  \tprec \trec  \tf1   \n",
      "PER  \t0.98 \t0.85 \t0.90 \t0.87 \n",
      "ORG  \t0.97 \t0.62 \t0.66 \t0.64 \n",
      "LOC  \t0.98 \t0.89 \t0.65 \t0.75 \n",
      "MISC \t0.99 \t0.74 \t0.61 \t0.67 \n",
      "O    \t0.98 \t0.98 \t1.00 \t0.99 \n",
      "micro\t0.98 \t0.95 \t0.95 \t0.95 \n",
      "macro\t0.98 \t0.82 \t0.76 \t0.78 \n",
      "not-O\t0.98 \t0.78 \t0.74 \t0.76 \n",
      "\n",
      "INFO:Entity level P/R/F1: 0.67/0.69/0.68\n",
      "INFO:New best score! Saving model in results/rnn/20180130_141016/model.weights\n"
     ]
    },
    {
     "name": "stdout",
     "output_type": "stream",
     "text": [
      "\n"
     ]
    },
    {
     "name": "stderr",
     "output_type": "stream",
     "text": [
      "INFO:Epoch 2 out of 10\n"
     ]
    },
    {
     "name": "stdout",
     "output_type": "stream",
     "text": [
      "\n",
      "439/439 [==============================] - 150s - train loss: 0.1311   "
     ]
    },
    {
     "name": "stderr",
     "output_type": "stream",
     "text": [
      "INFO:Evaluating on development data\n"
     ]
    },
    {
     "name": "stdout",
     "output_type": "stream",
     "text": [
      "\n",
      "\n",
      "102/102 [==============================] - 39s    "
     ]
    },
    {
     "name": "stderr",
     "output_type": "stream",
     "text": [
      "DEBUG:Token-level confusion matrix:\n",
      "go\\gu   \tPER     \tORG     \tLOC     \tMISC    \tO       \n",
      "PER     \t2862.00 \t110.00  \t88.00   \t9.00    \t80.00   \n",
      "ORG     \t149.00  \t1579.00 \t139.00  \t58.00   \t167.00  \n",
      "LOC     \t40.00   \t227.00  \t1751.00 \t13.00   \t63.00   \n",
      "MISC    \t47.00   \t158.00  \t78.00   \t854.00  \t131.00  \n",
      "O       \t66.00   \t89.00   \t20.00   \t29.00   \t42555.00\n",
      "\n",
      "DEBUG:Token-level scores:\n",
      "label\tacc  \tprec \trec  \tf1   \n",
      "PER  \t0.99 \t0.90 \t0.91 \t0.91 \n",
      "ORG  \t0.98 \t0.73 \t0.75 \t0.74 \n",
      "LOC  \t0.99 \t0.84 \t0.84 \t0.84 \n",
      "MISC \t0.99 \t0.89 \t0.67 \t0.77 \n",
      "O    \t0.99 \t0.99 \t1.00 \t0.99 \n",
      "micro\t0.99 \t0.97 \t0.97 \t0.97 \n",
      "macro\t0.99 \t0.87 \t0.83 \t0.85 \n",
      "not-O\t0.99 \t0.84 \t0.82 \t0.83 \n",
      "\n",
      "INFO:Entity level P/R/F1: 0.75/0.79/0.77\n",
      "INFO:New best score! Saving model in results/rnn/20180130_141016/model.weights\n"
     ]
    },
    {
     "name": "stdout",
     "output_type": "stream",
     "text": [
      "\n"
     ]
    },
    {
     "name": "stderr",
     "output_type": "stream",
     "text": [
      "INFO:Epoch 3 out of 10\n"
     ]
    },
    {
     "name": "stdout",
     "output_type": "stream",
     "text": [
      "\n",
      "439/439 [==============================] - 173s - train loss: 0.0953   "
     ]
    },
    {
     "name": "stderr",
     "output_type": "stream",
     "text": [
      "INFO:Evaluating on development data\n"
     ]
    },
    {
     "name": "stdout",
     "output_type": "stream",
     "text": [
      "\n",
      "\n",
      "102/102 [==============================] - 45s    "
     ]
    },
    {
     "name": "stderr",
     "output_type": "stream",
     "text": [
      "DEBUG:Token-level confusion matrix:\n",
      "go\\gu   \tPER     \tORG     \tLOC     \tMISC    \tO       \n",
      "PER     \t2925.00 \t73.00   \t55.00   \t13.00   \t83.00   \n",
      "ORG     \t139.00  \t1626.00 \t104.00  \t76.00   \t147.00  \n",
      "LOC     \t37.00   \t153.00  \t1838.00 \t18.00   \t48.00   \n",
      "MISC    \t40.00   \t92.00   \t57.00   \t960.00  \t119.00  \n",
      "O       \t46.00   \t51.00   \t20.00   \t33.00   \t42609.00\n",
      "\n",
      "DEBUG:Token-level scores:\n",
      "label\tacc  \tprec \trec  \tf1   \n",
      "PER  \t0.99 \t0.92 \t0.93 \t0.92 \n",
      "ORG  \t0.98 \t0.82 \t0.78 \t0.80 \n",
      "LOC  \t0.99 \t0.89 \t0.88 \t0.88 \n",
      "MISC \t0.99 \t0.87 \t0.76 \t0.81 \n",
      "O    \t0.99 \t0.99 \t1.00 \t0.99 \n",
      "micro\t0.99 \t0.97 \t0.97 \t0.97 \n",
      "macro\t0.99 \t0.90 \t0.87 \t0.88 \n",
      "not-O\t0.99 \t0.88 \t0.85 \t0.87 \n",
      "\n",
      "INFO:Entity level P/R/F1: 0.81/0.83/0.82\n",
      "INFO:New best score! Saving model in results/rnn/20180130_141016/model.weights\n"
     ]
    },
    {
     "name": "stdout",
     "output_type": "stream",
     "text": [
      "\n"
     ]
    },
    {
     "name": "stderr",
     "output_type": "stream",
     "text": [
      "INFO:Epoch 4 out of 10\n"
     ]
    },
    {
     "name": "stdout",
     "output_type": "stream",
     "text": [
      "\n",
      "439/439 [==============================] - 206s - train loss: 0.0722   "
     ]
    },
    {
     "name": "stderr",
     "output_type": "stream",
     "text": [
      "INFO:Evaluating on development data\n"
     ]
    },
    {
     "name": "stdout",
     "output_type": "stream",
     "text": [
      "\n",
      "\n",
      "102/102 [==============================] - 50s    "
     ]
    },
    {
     "name": "stderr",
     "output_type": "stream",
     "text": [
      "DEBUG:Token-level confusion matrix:\n",
      "go\\gu   \tPER     \tORG     \tLOC     \tMISC    \tO       \n",
      "PER     \t2957.00 \t33.00   \t53.00   \t8.00    \t98.00   \n",
      "ORG     \t152.00  \t1586.00 \t117.00  \t61.00   \t176.00  \n",
      "LOC     \t42.00   \t117.00  \t1862.00 \t15.00   \t58.00   \n",
      "MISC    \t43.00   \t61.00   \t69.00   \t964.00  \t131.00  \n",
      "O       \t44.00   \t41.00   \t18.00   \t26.00   \t42630.00\n",
      "\n",
      "DEBUG:Token-level scores:\n",
      "label\tacc  \tprec \trec  \tf1   \n",
      "PER  \t0.99 \t0.91 \t0.94 \t0.93 \n",
      "ORG  \t0.99 \t0.86 \t0.76 \t0.81 \n",
      "LOC  \t0.99 \t0.88 \t0.89 \t0.88 \n",
      "MISC \t0.99 \t0.90 \t0.76 \t0.82 \n",
      "O    \t0.99 \t0.99 \t1.00 \t0.99 \n",
      "micro\t0.99 \t0.97 \t0.97 \t0.97 \n",
      "macro\t0.99 \t0.91 \t0.87 \t0.89 \n",
      "not-O\t0.99 \t0.89 \t0.86 \t0.87 \n",
      "\n",
      "INFO:Entity level P/R/F1: 0.82/0.83/0.83\n",
      "INFO:New best score! Saving model in results/rnn/20180130_141016/model.weights\n"
     ]
    },
    {
     "name": "stdout",
     "output_type": "stream",
     "text": [
      "\n"
     ]
    },
    {
     "name": "stderr",
     "output_type": "stream",
     "text": [
      "INFO:Epoch 5 out of 10\n"
     ]
    },
    {
     "name": "stdout",
     "output_type": "stream",
     "text": [
      "\n",
      "439/439 [==============================] - 274s - train loss: 0.0576   "
     ]
    },
    {
     "name": "stderr",
     "output_type": "stream",
     "text": [
      "INFO:Evaluating on development data\n"
     ]
    },
    {
     "name": "stdout",
     "output_type": "stream",
     "text": [
      "\n",
      "\n",
      "102/102 [==============================] - 57s    "
     ]
    },
    {
     "name": "stderr",
     "output_type": "stream",
     "text": [
      "DEBUG:Token-level confusion matrix:\n",
      "go\\gu   \tPER     \tORG     \tLOC     \tMISC    \tO       \n",
      "PER     \t2950.00 \t39.00   \t75.00   \t10.00   \t75.00   \n",
      "ORG     \t139.00  \t1685.00 \t69.00   \t63.00   \t136.00  \n",
      "LOC     \t28.00   \t139.00  \t1859.00 \t22.00   \t46.00   \n",
      "MISC    \t39.00   \t70.00   \t46.00   \t995.00  \t118.00  \n",
      "O       \t40.00   \t60.00   \t20.00   \t28.00   \t42611.00\n",
      "\n",
      "DEBUG:Token-level scores:\n",
      "label\tacc  \tprec \trec  \tf1   \n",
      "PER  \t0.99 \t0.92 \t0.94 \t0.93 \n",
      "ORG  \t0.99 \t0.85 \t0.81 \t0.82 \n",
      "LOC  \t0.99 \t0.90 \t0.89 \t0.89 \n",
      "MISC \t0.99 \t0.89 \t0.78 \t0.83 \n",
      "O    \t0.99 \t0.99 \t1.00 \t0.99 \n",
      "micro\t0.99 \t0.98 \t0.98 \t0.98 \n",
      "macro\t0.99 \t0.91 \t0.88 \t0.90 \n",
      "not-O\t0.99 \t0.89 \t0.87 \t0.88 \n",
      "\n",
      "INFO:Entity level P/R/F1: 0.83/0.84/0.84\n",
      "INFO:New best score! Saving model in results/rnn/20180130_141016/model.weights\n"
     ]
    },
    {
     "name": "stdout",
     "output_type": "stream",
     "text": [
      "\n"
     ]
    },
    {
     "name": "stderr",
     "output_type": "stream",
     "text": [
      "INFO:Epoch 6 out of 10\n"
     ]
    },
    {
     "name": "stdout",
     "output_type": "stream",
     "text": [
      "\n",
      "439/439 [==============================] - 369s - train loss: 0.0477   "
     ]
    },
    {
     "name": "stderr",
     "output_type": "stream",
     "text": [
      "INFO:Evaluating on development data\n"
     ]
    },
    {
     "name": "stdout",
     "output_type": "stream",
     "text": [
      "\n",
      "\n",
      "102/102 [==============================] - 58s    "
     ]
    },
    {
     "name": "stderr",
     "output_type": "stream",
     "text": [
      "DEBUG:Token-level confusion matrix:\n",
      "go\\gu   \tPER     \tORG     \tLOC     \tMISC    \tO       \n",
      "PER     \t2929.00 \t62.00   \t75.00   \t17.00   \t66.00   \n",
      "ORG     \t118.00  \t1671.00 \t85.00   \t91.00   \t127.00  \n",
      "LOC     \t24.00   \t96.00   \t1909.00 \t27.00   \t38.00   \n",
      "MISC    \t31.00   \t60.00   \t42.00   \t1025.00 \t110.00  \n",
      "O       \t34.00   \t62.00   \t22.00   \t32.00   \t42609.00\n",
      "\n",
      "DEBUG:Token-level scores:\n",
      "label\tacc  \tprec \trec  \tf1   \n",
      "PER  \t0.99 \t0.93 \t0.93 \t0.93 \n",
      "ORG  \t0.99 \t0.86 \t0.80 \t0.83 \n",
      "LOC  \t0.99 \t0.89 \t0.91 \t0.90 \n",
      "MISC \t0.99 \t0.86 \t0.81 \t0.83 \n",
      "O    \t0.99 \t0.99 \t1.00 \t0.99 \n",
      "micro\t0.99 \t0.98 \t0.98 \t0.98 \n",
      "macro\t0.99 \t0.91 \t0.89 \t0.90 \n",
      "not-O\t0.99 \t0.90 \t0.88 \t0.89 \n",
      "\n",
      "INFO:Entity level P/R/F1: 0.83/0.85/0.84\n",
      "INFO:New best score! Saving model in results/rnn/20180130_141016/model.weights\n"
     ]
    },
    {
     "name": "stdout",
     "output_type": "stream",
     "text": [
      "\n"
     ]
    },
    {
     "name": "stderr",
     "output_type": "stream",
     "text": [
      "INFO:Epoch 7 out of 10\n"
     ]
    },
    {
     "name": "stdout",
     "output_type": "stream",
     "text": [
      "\n",
      "439/439 [==============================] - 418s - train loss: 0.0405   "
     ]
    },
    {
     "name": "stderr",
     "output_type": "stream",
     "text": [
      "INFO:Evaluating on development data\n"
     ]
    },
    {
     "name": "stdout",
     "output_type": "stream",
     "text": [
      "\n",
      "\n",
      "102/102 [==============================] - 63s    "
     ]
    },
    {
     "name": "stderr",
     "output_type": "stream",
     "text": [
      "DEBUG:Token-level confusion matrix:\n",
      "go\\gu   \tPER     \tORG     \tLOC     \tMISC    \tO       \n",
      "PER     \t2905.00 \t120.00  \t66.00   \t8.00    \t50.00   \n",
      "ORG     \t86.00   \t1822.00 \t48.00   \t42.00   \t94.00   \n",
      "LOC     \t20.00   \t206.00  \t1823.00 \t15.00   \t30.00   \n",
      "MISC    \t26.00   \t119.00  \t36.00   \t989.00  \t98.00   \n",
      "O       \t34.00   \t113.00  \t35.00   \t27.00   \t42550.00\n",
      "\n",
      "DEBUG:Token-level scores:\n",
      "label\tacc  \tprec \trec  \tf1   \n",
      "PER  \t0.99 \t0.95 \t0.92 \t0.93 \n",
      "ORG  \t0.98 \t0.77 \t0.87 \t0.81 \n",
      "LOC  \t0.99 \t0.91 \t0.87 \t0.89 \n",
      "MISC \t0.99 \t0.91 \t0.78 \t0.84 \n",
      "O    \t0.99 \t0.99 \t1.00 \t0.99 \n",
      "micro\t0.99 \t0.98 \t0.98 \t0.98 \n",
      "macro\t0.99 \t0.91 \t0.89 \t0.89 \n",
      "not-O\t0.99 \t0.88 \t0.88 \t0.88 \n",
      "\n",
      "INFO:Entity level P/R/F1: 0.82/0.85/0.83\n",
      "INFO:Epoch 8 out of 10\n"
     ]
    },
    {
     "name": "stdout",
     "output_type": "stream",
     "text": [
      "\n",
      "\n",
      "439/439 [==============================] - 498s - train loss: 0.0340   "
     ]
    },
    {
     "name": "stderr",
     "output_type": "stream",
     "text": [
      "INFO:Evaluating on development data\n"
     ]
    },
    {
     "name": "stdout",
     "output_type": "stream",
     "text": [
      "\n",
      "\n",
      "102/102 [==============================] - 67s    "
     ]
    },
    {
     "name": "stderr",
     "output_type": "stream",
     "text": [
      "DEBUG:Token-level confusion matrix:\n",
      "go\\gu   \tPER     \tORG     \tLOC     \tMISC    \tO       \n",
      "PER     \t2966.00 \t35.00   \t72.00   \t12.00   \t64.00   \n",
      "ORG     \t139.00  \t1617.00 \t104.00  \t98.00   \t134.00  \n",
      "LOC     \t33.00   \t65.00   \t1933.00 \t22.00   \t41.00   \n",
      "MISC    \t40.00   \t38.00   \t49.00   \t1035.00 \t106.00  \n",
      "O       \t34.00   \t38.00   \t18.00   \t37.00   \t42632.00\n",
      "\n",
      "DEBUG:Token-level scores:\n",
      "label\tacc  \tprec \trec  \tf1   \n",
      "PER  \t0.99 \t0.92 \t0.94 \t0.93 \n",
      "ORG  \t0.99 \t0.90 \t0.77 \t0.83 \n",
      "LOC  \t0.99 \t0.89 \t0.92 \t0.91 \n",
      "MISC \t0.99 \t0.86 \t0.82 \t0.84 \n",
      "O    \t0.99 \t0.99 \t1.00 \t0.99 \n",
      "micro\t0.99 \t0.98 \t0.98 \t0.98 \n",
      "macro\t0.99 \t0.91 \t0.89 \t0.90 \n",
      "not-O\t0.99 \t0.90 \t0.88 \t0.89 \n",
      "\n",
      "INFO:Entity level P/R/F1: 0.84/0.86/0.85\n",
      "INFO:New best score! Saving model in results/rnn/20180130_141016/model.weights\n"
     ]
    },
    {
     "name": "stdout",
     "output_type": "stream",
     "text": [
      "\n"
     ]
    },
    {
     "name": "stderr",
     "output_type": "stream",
     "text": [
      "INFO:Epoch 9 out of 10\n"
     ]
    },
    {
     "name": "stdout",
     "output_type": "stream",
     "text": [
      "\n",
      "439/439 [==============================] - 530s - train loss: 0.0301   "
     ]
    },
    {
     "name": "stderr",
     "output_type": "stream",
     "text": [
      "INFO:Evaluating on development data\n"
     ]
    },
    {
     "name": "stdout",
     "output_type": "stream",
     "text": [
      "\n",
      "\n",
      "102/102 [==============================] - 77s    "
     ]
    },
    {
     "name": "stderr",
     "output_type": "stream",
     "text": [
      "DEBUG:Token-level confusion matrix:\n",
      "go\\gu   \tPER     \tORG     \tLOC     \tMISC    \tO       \n",
      "PER     \t2719.00 \t184.00  \t95.00   \t33.00   \t118.00  \n",
      "ORG     \t49.00   \t1718.00 \t92.00   \t92.00   \t141.00  \n",
      "LOC     \t9.00    \t90.00   \t1918.00 \t30.00   \t47.00   \n",
      "MISC    \t12.00   \t49.00   \t45.00   \t1042.00 \t120.00  \n",
      "O       \t15.00   \t59.00   \t14.00   \t36.00   \t42635.00\n",
      "\n",
      "DEBUG:Token-level scores:\n",
      "label\tacc  \tprec \trec  \tf1   \n",
      "PER  \t0.99 \t0.97 \t0.86 \t0.91 \n",
      "ORG  \t0.99 \t0.82 \t0.82 \t0.82 \n",
      "LOC  \t0.99 \t0.89 \t0.92 \t0.90 \n",
      "MISC \t0.99 \t0.85 \t0.82 \t0.83 \n",
      "O    \t0.99 \t0.99 \t1.00 \t0.99 \n",
      "micro\t0.99 \t0.97 \t0.97 \t0.97 \n",
      "macro\t0.99 \t0.90 \t0.88 \t0.89 \n",
      "not-O\t0.99 \t0.89 \t0.86 \t0.88 \n",
      "\n",
      "INFO:Entity level P/R/F1: 0.82/0.83/0.82\n",
      "INFO:Epoch 10 out of 10\n"
     ]
    },
    {
     "name": "stdout",
     "output_type": "stream",
     "text": [
      "\n",
      "\n",
      "439/439 [==============================] - 556s - train loss: 0.0265   "
     ]
    },
    {
     "name": "stderr",
     "output_type": "stream",
     "text": [
      "INFO:Evaluating on development data\n"
     ]
    },
    {
     "name": "stdout",
     "output_type": "stream",
     "text": [
      "\n",
      "\n",
      "102/102 [==============================] - 74s    "
     ]
    },
    {
     "name": "stderr",
     "output_type": "stream",
     "text": [
      "DEBUG:Token-level confusion matrix:\n",
      "go\\gu   \tPER     \tORG     \tLOC     \tMISC    \tO       \n",
      "PER     \t2981.00 \t24.00   \t53.00   \t10.00   \t81.00   \n",
      "ORG     \t129.00  \t1660.00 \t82.00   \t67.00   \t154.00  \n",
      "LOC     \t35.00   \t98.00   \t1897.00 \t14.00   \t50.00   \n",
      "MISC    \t35.00   \t51.00   \t47.00   \t1015.00 \t120.00  \n",
      "O       \t33.00   \t39.00   \t14.00   \t25.00   \t42648.00\n",
      "\n",
      "DEBUG:Token-level scores:\n",
      "label\tacc  \tprec \trec  \tf1   \n",
      "PER  \t0.99 \t0.93 \t0.95 \t0.94 \n",
      "ORG  \t0.99 \t0.89 \t0.79 \t0.84 \n",
      "LOC  \t0.99 \t0.91 \t0.91 \t0.91 \n",
      "MISC \t0.99 \t0.90 \t0.80 \t0.85 \n",
      "O    \t0.99 \t0.99 \t1.00 \t0.99 \n",
      "micro\t0.99 \t0.98 \t0.98 \t0.98 \n",
      "macro\t0.99 \t0.92 \t0.89 \t0.90 \n",
      "not-O\t0.99 \t0.91 \t0.88 \t0.89 \n",
      "\n",
      "INFO:Entity level P/R/F1: 0.85/0.86/0.85\n",
      "INFO:New best score! Saving model in results/rnn/20180130_141016/model.weights\n"
     ]
    },
    {
     "name": "stdout",
     "output_type": "stream",
     "text": [
      "\n",
      "\n",
      "102/102 [==============================] - 74s    \n"
     ]
    }
   ],
   "source": [
    "%run q2_rnn.py train"
   ]
  },
  {
   "cell_type": "markdown",
   "metadata": {
    "collapsed": true
   },
   "source": [
    "## 3. Grooving with GRUs (30 points)"
   ]
  },
  {
   "cell_type": "markdown",
   "metadata": {},
   "source": [
    "### (c)(d)(e)(f). Implement a GRU classifier model"
   ]
  },
  {
   "cell_type": "code",
   "execution_count": 1,
   "metadata": {},
   "outputs": [
    {
     "name": "stderr",
     "output_type": "stream",
     "text": [
      "INFO:Testing gru_cell\n",
      "INFO:Passed!\n"
     ]
    },
    {
     "name": "stdout",
     "output_type": "stream",
     "text": [
      "y_ = [[ 0.32035077  0.55478156]\n",
      " [-0.00592546  0.0195577 ]]\n",
      "ht_ = [[ 0.32035077  0.55478156]\n",
      " [-0.00592546  0.0195577 ]]\n"
     ]
    }
   ],
   "source": [
    "%run q3_gru_cell.py test"
   ]
  },
  {
   "cell_type": "code",
   "execution_count": 2,
   "metadata": {},
   "outputs": [
    {
     "name": "stderr",
     "output_type": "stream",
     "text": [
      "C:\\Users\\Roy\\Anaconda3\\lib\\site-packages\\matplotlib\\__init__.py:1405: UserWarning: \n",
      "This call to matplotlib.use() has no effect because the backend has already\n",
      "been chosen; matplotlib.use() must be called *before* pylab, matplotlib.pyplot,\n",
      "or matplotlib.backends is imported for the first time.\n",
      "\n",
      "  warnings.warn(_use_error_msg)\n",
      "INFO:Building model...\n",
      "INFO:took 0.28 seconds\n",
      "INFO:Epoch 1 out of 40\n"
     ]
    },
    {
     "name": "stdout",
     "output_type": "stream",
     "text": [
      "100/100 [==============================] - 0s - train loss: 12.5980      ETA: 0s - - ETA"
     ]
    },
    {
     "name": "stderr",
     "output_type": "stream",
     "text": [
      "INFO:Epoch 2 out of 40\n"
     ]
    },
    {
     "name": "stdout",
     "output_type": "stream",
     "text": [
      "\n",
      "100/100 [==============================] - 0s - train loss: 12.5083     \n"
     ]
    },
    {
     "name": "stderr",
     "output_type": "stream",
     "text": [
      "INFO:Epoch 3 out of 40\n"
     ]
    },
    {
     "name": "stdout",
     "output_type": "stream",
     "text": [
      "100/100 [==============================] - 0s - train loss: 12.5035     "
     ]
    },
    {
     "name": "stderr",
     "output_type": "stream",
     "text": [
      "INFO:Epoch 4 out of 40\n"
     ]
    },
    {
     "name": "stdout",
     "output_type": "stream",
     "text": [
      "\n",
      "100/100 [==============================] - 0s - train loss: 12.5016     "
     ]
    },
    {
     "name": "stderr",
     "output_type": "stream",
     "text": [
      "INFO:Epoch 5 out of 40\n"
     ]
    },
    {
     "name": "stdout",
     "output_type": "stream",
     "text": [
      "\n",
      "100/100 [==============================] - 0s - train loss: 12.5007     \n"
     ]
    },
    {
     "name": "stderr",
     "output_type": "stream",
     "text": [
      "INFO:Epoch 6 out of 40\n"
     ]
    },
    {
     "name": "stdout",
     "output_type": "stream",
     "text": [
      "100/100 [==============================] - 0s - train loss: 12.5000     "
     ]
    },
    {
     "name": "stderr",
     "output_type": "stream",
     "text": [
      "INFO:Epoch 7 out of 40\n"
     ]
    },
    {
     "name": "stdout",
     "output_type": "stream",
     "text": [
      "\n",
      "100/100 [==============================] - 0s - train loss: 12.4996     "
     ]
    },
    {
     "name": "stderr",
     "output_type": "stream",
     "text": [
      "INFO:Epoch 8 out of 40\n"
     ]
    },
    {
     "name": "stdout",
     "output_type": "stream",
     "text": [
      "\n",
      "100/100 [==============================] - 0s - train loss: 12.4993     "
     ]
    },
    {
     "name": "stderr",
     "output_type": "stream",
     "text": [
      "INFO:Epoch 9 out of 40\n"
     ]
    },
    {
     "name": "stdout",
     "output_type": "stream",
     "text": [
      "\n",
      "100/100 [==============================] - 0s - train loss: 12.4991     \n"
     ]
    },
    {
     "name": "stderr",
     "output_type": "stream",
     "text": [
      "INFO:Epoch 10 out of 40\n"
     ]
    },
    {
     "name": "stdout",
     "output_type": "stream",
     "text": [
      "100/100 [==============================] - 0s - train loss: 12.4989     "
     ]
    },
    {
     "name": "stderr",
     "output_type": "stream",
     "text": [
      "INFO:Epoch 11 out of 40\n"
     ]
    },
    {
     "name": "stdout",
     "output_type": "stream",
     "text": [
      "\n",
      "100/100 [==============================] - 0s - train loss: 12.4988     "
     ]
    },
    {
     "name": "stderr",
     "output_type": "stream",
     "text": [
      "INFO:Epoch 12 out of 40\n"
     ]
    },
    {
     "name": "stdout",
     "output_type": "stream",
     "text": [
      "\n",
      "100/100 [==============================] - 0s - train loss: 12.4987     \n"
     ]
    },
    {
     "name": "stderr",
     "output_type": "stream",
     "text": [
      "INFO:Epoch 13 out of 40\n"
     ]
    },
    {
     "name": "stdout",
     "output_type": "stream",
     "text": [
      "100/100 [==============================] - 0s - train loss: 12.4986      ETA: 0s -"
     ]
    },
    {
     "name": "stderr",
     "output_type": "stream",
     "text": [
      "INFO:Epoch 14 out of 40\n"
     ]
    },
    {
     "name": "stdout",
     "output_type": "stream",
     "text": [
      "\n",
      "100/100 [==============================] - 0s - train loss: 12.4985     "
     ]
    },
    {
     "name": "stderr",
     "output_type": "stream",
     "text": [
      "INFO:Epoch 15 out of 40\n"
     ]
    },
    {
     "name": "stdout",
     "output_type": "stream",
     "text": [
      "\n",
      "100/100 [==============================] - 0s - train loss: 12.4984     \n"
     ]
    },
    {
     "name": "stderr",
     "output_type": "stream",
     "text": [
      "INFO:Epoch 16 out of 40\n"
     ]
    },
    {
     "name": "stdout",
     "output_type": "stream",
     "text": [
      "100/100 [==============================] - 0s - train loss: 12.4984      ETA: 0s - t - ETA: \n"
     ]
    },
    {
     "name": "stderr",
     "output_type": "stream",
     "text": [
      "INFO:Epoch 17 out of 40\n"
     ]
    },
    {
     "name": "stdout",
     "output_type": "stream",
     "text": [
      "100/100 [==============================] - 0s - train loss: 12.4983      ETA: 0s - train loss: 12."
     ]
    },
    {
     "name": "stderr",
     "output_type": "stream",
     "text": [
      "INFO:Epoch 18 out of 40\n"
     ]
    },
    {
     "name": "stdout",
     "output_type": "stream",
     "text": [
      "\n",
      "100/100 [==============================] - 0s - train loss: 12.4983     "
     ]
    },
    {
     "name": "stderr",
     "output_type": "stream",
     "text": [
      "INFO:Epoch 19 out of 40\n"
     ]
    },
    {
     "name": "stdout",
     "output_type": "stream",
     "text": [
      "\n",
      "100/100 [==============================] - 0s - train loss: 12.4982     "
     ]
    },
    {
     "name": "stderr",
     "output_type": "stream",
     "text": [
      "INFO:Epoch 20 out of 40\n"
     ]
    },
    {
     "name": "stdout",
     "output_type": "stream",
     "text": [
      "\n",
      "100/100 [==============================] - 0s - train loss: 12.4982      ETA: 0s - train - ETA: 0s - train loss: - ETA: 0s - - ETA: 0s -"
     ]
    },
    {
     "name": "stderr",
     "output_type": "stream",
     "text": [
      "INFO:Epoch 21 out of 40\n"
     ]
    },
    {
     "name": "stdout",
     "output_type": "stream",
     "text": [
      "\n",
      "100/100 [==============================] - 0s - train loss: 12.4982     "
     ]
    },
    {
     "name": "stderr",
     "output_type": "stream",
     "text": [
      "INFO:Epoch 22 out of 40\n"
     ]
    },
    {
     "name": "stdout",
     "output_type": "stream",
     "text": [
      "\n",
      "100/100 [==============================] - 0s - train loss: 12.4981     "
     ]
    },
    {
     "name": "stderr",
     "output_type": "stream",
     "text": [
      "INFO:Epoch 23 out of 40\n"
     ]
    },
    {
     "name": "stdout",
     "output_type": "stream",
     "text": [
      "\n",
      "100/100 [==============================] - 0s - train loss: 12.4981     "
     ]
    },
    {
     "name": "stderr",
     "output_type": "stream",
     "text": [
      "INFO:Epoch 24 out of 40\n"
     ]
    },
    {
     "name": "stdout",
     "output_type": "stream",
     "text": [
      "\n",
      "100/100 [==============================] - 0s - train loss: 12.4981     "
     ]
    },
    {
     "name": "stderr",
     "output_type": "stream",
     "text": [
      "INFO:Epoch 25 out of 40\n"
     ]
    },
    {
     "name": "stdout",
     "output_type": "stream",
     "text": [
      "\n",
      "100/100 [==============================] - 0s - train loss: 12.4980     "
     ]
    },
    {
     "name": "stderr",
     "output_type": "stream",
     "text": [
      "INFO:Epoch 26 out of 40\n"
     ]
    },
    {
     "name": "stdout",
     "output_type": "stream",
     "text": [
      "\n",
      "100/100 [==============================] - 0s - train loss: 12.4980     "
     ]
    },
    {
     "name": "stderr",
     "output_type": "stream",
     "text": [
      "INFO:Epoch 27 out of 40\n"
     ]
    },
    {
     "name": "stdout",
     "output_type": "stream",
     "text": [
      "\n",
      "100/100 [==============================] - 0s - train loss: 12.4980     "
     ]
    },
    {
     "name": "stderr",
     "output_type": "stream",
     "text": [
      "INFO:Epoch 28 out of 40\n"
     ]
    },
    {
     "name": "stdout",
     "output_type": "stream",
     "text": [
      "\n",
      "100/100 [==============================] - 0s - train loss: 12.4980     "
     ]
    },
    {
     "name": "stderr",
     "output_type": "stream",
     "text": [
      "INFO:Epoch 29 out of 40\n"
     ]
    },
    {
     "name": "stdout",
     "output_type": "stream",
     "text": [
      "\n",
      "100/100 [==============================] - 0s - train loss: 12.4980     "
     ]
    },
    {
     "name": "stderr",
     "output_type": "stream",
     "text": [
      "INFO:Epoch 30 out of 40\n"
     ]
    },
    {
     "name": "stdout",
     "output_type": "stream",
     "text": [
      "\n",
      "100/100 [==============================] - 0s - train loss: 12.4980     "
     ]
    },
    {
     "name": "stderr",
     "output_type": "stream",
     "text": [
      "INFO:Epoch 31 out of 40\n"
     ]
    },
    {
     "name": "stdout",
     "output_type": "stream",
     "text": [
      "\n",
      "100/100 [==============================] - 0s - train loss: 12.4979     "
     ]
    },
    {
     "name": "stderr",
     "output_type": "stream",
     "text": [
      "INFO:Epoch 32 out of 40\n"
     ]
    },
    {
     "name": "stdout",
     "output_type": "stream",
     "text": [
      "\n",
      "100/100 [==============================] - 0s - train loss: 12.4979     "
     ]
    },
    {
     "name": "stderr",
     "output_type": "stream",
     "text": [
      "INFO:Epoch 33 out of 40\n"
     ]
    },
    {
     "name": "stdout",
     "output_type": "stream",
     "text": [
      "\n",
      "100/100 [==============================] - 0s - train loss: 12.4979     "
     ]
    },
    {
     "name": "stderr",
     "output_type": "stream",
     "text": [
      "INFO:Epoch 34 out of 40\n"
     ]
    },
    {
     "name": "stdout",
     "output_type": "stream",
     "text": [
      "\n",
      "100/100 [==============================] - 0s - train loss: 12.4979     "
     ]
    },
    {
     "name": "stderr",
     "output_type": "stream",
     "text": [
      "INFO:Epoch 35 out of 40\n"
     ]
    },
    {
     "name": "stdout",
     "output_type": "stream",
     "text": [
      "\n",
      "100/100 [==============================] - 0s - train loss: 12.4979      ETA: 0s - train loss: 1"
     ]
    },
    {
     "name": "stderr",
     "output_type": "stream",
     "text": [
      "INFO:Epoch 36 out of 40\n"
     ]
    },
    {
     "name": "stdout",
     "output_type": "stream",
     "text": [
      "\n",
      "100/100 [==============================] - 0s - train loss: 12.4979     \n"
     ]
    },
    {
     "name": "stderr",
     "output_type": "stream",
     "text": [
      "INFO:Epoch 37 out of 40\n"
     ]
    },
    {
     "name": "stdout",
     "output_type": "stream",
     "text": [
      "100/100 [==============================] - 0s - train loss: 12.4979     "
     ]
    },
    {
     "name": "stderr",
     "output_type": "stream",
     "text": [
      "INFO:Epoch 38 out of 40\n"
     ]
    },
    {
     "name": "stdout",
     "output_type": "stream",
     "text": [
      "\n",
      "100/100 [==============================] - 0s - train loss: 12.4979     "
     ]
    },
    {
     "name": "stderr",
     "output_type": "stream",
     "text": [
      "INFO:Epoch 39 out of 40\n"
     ]
    },
    {
     "name": "stdout",
     "output_type": "stream",
     "text": [
      "\n",
      "100/100 [==============================] - 0s - train loss: 12.4978     "
     ]
    },
    {
     "name": "stderr",
     "output_type": "stream",
     "text": [
      "INFO:Epoch 40 out of 40\n"
     ]
    },
    {
     "name": "stdout",
     "output_type": "stream",
     "text": [
      "\n",
      "100/100 [==============================] - 0s - train loss: 12.4978     \n"
     ]
    }
   ],
   "source": [
    "# RNN with clipping\n",
    "%run q3_gru.py predict -c rnn -g"
   ]
  },
  {
   "cell_type": "code",
   "execution_count": 3,
   "metadata": {},
   "outputs": [
    {
     "name": "stderr",
     "output_type": "stream",
     "text": [
      "C:\\Users\\Roy\\Anaconda3\\lib\\site-packages\\matplotlib\\__init__.py:1405: UserWarning: \n",
      "This call to matplotlib.use() has no effect because the backend has already\n",
      "been chosen; matplotlib.use() must be called *before* pylab, matplotlib.pyplot,\n",
      "or matplotlib.backends is imported for the first time.\n",
      "\n",
      "  warnings.warn(_use_error_msg)\n",
      "INFO:Building model...\n",
      "INFO:took 0.27 seconds\n",
      "INFO:Epoch 1 out of 40\n"
     ]
    },
    {
     "name": "stdout",
     "output_type": "stream",
     "text": [
      "100/100 [==============================] - 0s - train loss: 12.5980     \n"
     ]
    },
    {
     "name": "stderr",
     "output_type": "stream",
     "text": [
      "INFO:Epoch 2 out of 40\n"
     ]
    },
    {
     "name": "stdout",
     "output_type": "stream",
     "text": [
      "100/100 [==============================] - 0s - train loss: 12.5083     "
     ]
    },
    {
     "name": "stderr",
     "output_type": "stream",
     "text": [
      "INFO:Epoch 3 out of 40\n"
     ]
    },
    {
     "name": "stdout",
     "output_type": "stream",
     "text": [
      "\n",
      "100/100 [==============================] - ETA: 0s - train loss: 12.5052 ETA: 0s - train l - ETA: 0s - train loss: 12.50 - 0s - train loss: 12.5035     "
     ]
    },
    {
     "name": "stderr",
     "output_type": "stream",
     "text": [
      "INFO:Epoch 4 out of 40\n"
     ]
    },
    {
     "name": "stdout",
     "output_type": "stream",
     "text": [
      "\n",
      "100/100 [==============================] - 0s - train loss: 12.5016     \n"
     ]
    },
    {
     "name": "stderr",
     "output_type": "stream",
     "text": [
      "INFO:Epoch 5 out of 40\n"
     ]
    },
    {
     "name": "stdout",
     "output_type": "stream",
     "text": [
      "100/100 [==============================] - 0s - train loss: 12.5007     "
     ]
    },
    {
     "name": "stderr",
     "output_type": "stream",
     "text": [
      "INFO:Epoch 6 out of 40\n"
     ]
    },
    {
     "name": "stdout",
     "output_type": "stream",
     "text": [
      "\n",
      "100/100 [==============================] - 0s - train loss: 12.5000     "
     ]
    },
    {
     "name": "stderr",
     "output_type": "stream",
     "text": [
      "INFO:Epoch 7 out of 40\n"
     ]
    },
    {
     "name": "stdout",
     "output_type": "stream",
     "text": [
      "\n",
      "100/100 [==============================] - 0s - train loss: 12.4996     "
     ]
    },
    {
     "name": "stderr",
     "output_type": "stream",
     "text": [
      "INFO:Epoch 8 out of 40\n"
     ]
    },
    {
     "name": "stdout",
     "output_type": "stream",
     "text": [
      "\n",
      "100/100 [==============================] - 0s - train loss: 12.4993     "
     ]
    },
    {
     "name": "stderr",
     "output_type": "stream",
     "text": [
      "INFO:Epoch 9 out of 40\n"
     ]
    },
    {
     "name": "stdout",
     "output_type": "stream",
     "text": [
      "\n",
      "100/100 [==============================] - 0s - train loss: 12.4991      ETA: 0s - train loss: 12.\n"
     ]
    },
    {
     "name": "stderr",
     "output_type": "stream",
     "text": [
      "INFO:Epoch 10 out of 40\n"
     ]
    },
    {
     "name": "stdout",
     "output_type": "stream",
     "text": [
      "100/100 [==============================] - 0s - train loss: 12.4989     "
     ]
    },
    {
     "name": "stderr",
     "output_type": "stream",
     "text": [
      "INFO:Epoch 11 out of 40\n"
     ]
    },
    {
     "name": "stdout",
     "output_type": "stream",
     "text": [
      "\n",
      "100/100 [==============================] - 0s - train loss: 12.4988     "
     ]
    },
    {
     "name": "stderr",
     "output_type": "stream",
     "text": [
      "INFO:Epoch 12 out of 40\n"
     ]
    },
    {
     "name": "stdout",
     "output_type": "stream",
     "text": [
      "\n",
      "100/100 [==============================] - 0s - train loss: 12.4987     \n"
     ]
    },
    {
     "name": "stderr",
     "output_type": "stream",
     "text": [
      "INFO:Epoch 13 out of 40\n"
     ]
    },
    {
     "name": "stdout",
     "output_type": "stream",
     "text": [
      "100/100 [==============================] - 0s - train loss: 12.4986     "
     ]
    },
    {
     "name": "stderr",
     "output_type": "stream",
     "text": [
      "INFO:Epoch 14 out of 40\n"
     ]
    },
    {
     "name": "stdout",
     "output_type": "stream",
     "text": [
      "\n",
      "100/100 [==============================] - 0s - train loss: 12.4985     "
     ]
    },
    {
     "name": "stderr",
     "output_type": "stream",
     "text": [
      "INFO:Epoch 15 out of 40\n"
     ]
    },
    {
     "name": "stdout",
     "output_type": "stream",
     "text": [
      "\n",
      "100/100 [==============================] - 0s - train loss: 12.4984     "
     ]
    },
    {
     "name": "stderr",
     "output_type": "stream",
     "text": [
      "INFO:Epoch 16 out of 40\n"
     ]
    },
    {
     "name": "stdout",
     "output_type": "stream",
     "text": [
      "\n",
      "100/100 [==============================] - 0s - train loss: 12.4984     \n"
     ]
    },
    {
     "name": "stderr",
     "output_type": "stream",
     "text": [
      "INFO:Epoch 17 out of 40\n"
     ]
    },
    {
     "name": "stdout",
     "output_type": "stream",
     "text": [
      "100/100 [==============================] - 0s - train loss: 12.4983     "
     ]
    },
    {
     "name": "stderr",
     "output_type": "stream",
     "text": [
      "INFO:Epoch 18 out of 40\n"
     ]
    },
    {
     "name": "stdout",
     "output_type": "stream",
     "text": [
      "\n",
      "100/100 [==============================] - 0s - train loss: 12.4983     "
     ]
    },
    {
     "name": "stderr",
     "output_type": "stream",
     "text": [
      "INFO:Epoch 19 out of 40\n"
     ]
    },
    {
     "name": "stdout",
     "output_type": "stream",
     "text": [
      "\n",
      "100/100 [==============================] - 0s - train loss: 12.4982      E"
     ]
    },
    {
     "name": "stderr",
     "output_type": "stream",
     "text": [
      "INFO:Epoch 20 out of 40\n"
     ]
    },
    {
     "name": "stdout",
     "output_type": "stream",
     "text": [
      "\n",
      "100/100 [==============================] - 0s - train loss: 12.4982     "
     ]
    },
    {
     "name": "stderr",
     "output_type": "stream",
     "text": [
      "INFO:Epoch 21 out of 40\n"
     ]
    },
    {
     "name": "stdout",
     "output_type": "stream",
     "text": [
      "\n",
      "100/100 [==============================] - 0s - train loss: 12.4982     "
     ]
    },
    {
     "name": "stderr",
     "output_type": "stream",
     "text": [
      "INFO:Epoch 22 out of 40\n"
     ]
    },
    {
     "name": "stdout",
     "output_type": "stream",
     "text": [
      "\n",
      "100/100 [==============================] - 0s - train loss: 12.4981     \n"
     ]
    },
    {
     "name": "stderr",
     "output_type": "stream",
     "text": [
      "INFO:Epoch 23 out of 40\n"
     ]
    },
    {
     "name": "stdout",
     "output_type": "stream",
     "text": [
      "100/100 [==============================] - 0s - train loss: 12.4981     \n"
     ]
    },
    {
     "name": "stderr",
     "output_type": "stream",
     "text": [
      "INFO:Epoch 24 out of 40\n"
     ]
    },
    {
     "name": "stdout",
     "output_type": "stream",
     "text": [
      "100/100 [==============================] - 0s - train loss: 12.4981     "
     ]
    },
    {
     "name": "stderr",
     "output_type": "stream",
     "text": [
      "INFO:Epoch 25 out of 40\n"
     ]
    },
    {
     "name": "stdout",
     "output_type": "stream",
     "text": [
      "\n",
      "100/100 [==============================] - 0s - train loss: 12.4980     "
     ]
    },
    {
     "name": "stderr",
     "output_type": "stream",
     "text": [
      "INFO:Epoch 26 out of 40\n"
     ]
    },
    {
     "name": "stdout",
     "output_type": "stream",
     "text": [
      "\n",
      "100/100 [==============================] - 0s - train loss: 12.4980     "
     ]
    },
    {
     "name": "stderr",
     "output_type": "stream",
     "text": [
      "INFO:Epoch 27 out of 40\n"
     ]
    },
    {
     "name": "stdout",
     "output_type": "stream",
     "text": [
      "\n",
      "100/100 [==============================] - 0s - train loss: 12.4980     "
     ]
    },
    {
     "name": "stderr",
     "output_type": "stream",
     "text": [
      "INFO:Epoch 28 out of 40\n"
     ]
    },
    {
     "name": "stdout",
     "output_type": "stream",
     "text": [
      "\n",
      "100/100 [==============================] - 0s - train loss: 12.4980     "
     ]
    },
    {
     "name": "stderr",
     "output_type": "stream",
     "text": [
      "INFO:Epoch 29 out of 40\n"
     ]
    },
    {
     "name": "stdout",
     "output_type": "stream",
     "text": [
      "\n",
      "100/100 [==============================] - 0s - train loss: 12.4980     \n"
     ]
    },
    {
     "name": "stderr",
     "output_type": "stream",
     "text": [
      "INFO:Epoch 30 out of 40\n"
     ]
    },
    {
     "name": "stdout",
     "output_type": "stream",
     "text": [
      "100/100 [==============================] - 0s - train loss: 12.4980     "
     ]
    },
    {
     "name": "stderr",
     "output_type": "stream",
     "text": [
      "INFO:Epoch 31 out of 40\n"
     ]
    },
    {
     "name": "stdout",
     "output_type": "stream",
     "text": [
      "\n",
      "100/100 [==============================] - 0s - train loss: 12.4979     "
     ]
    },
    {
     "name": "stderr",
     "output_type": "stream",
     "text": [
      "INFO:Epoch 32 out of 40\n"
     ]
    },
    {
     "name": "stdout",
     "output_type": "stream",
     "text": [
      "\n",
      "100/100 [==============================] - 0s - train loss: 12.4979     \n"
     ]
    },
    {
     "name": "stderr",
     "output_type": "stream",
     "text": [
      "INFO:Epoch 33 out of 40\n"
     ]
    },
    {
     "name": "stdout",
     "output_type": "stream",
     "text": [
      "100/100 [==============================] - 0s - train loss: 12.4979     \n"
     ]
    },
    {
     "name": "stderr",
     "output_type": "stream",
     "text": [
      "INFO:Epoch 34 out of 40\n"
     ]
    },
    {
     "name": "stdout",
     "output_type": "stream",
     "text": [
      "100/100 [==============================] - 0s - train loss: 12.4979     "
     ]
    },
    {
     "name": "stderr",
     "output_type": "stream",
     "text": [
      "INFO:Epoch 35 out of 40\n"
     ]
    },
    {
     "name": "stdout",
     "output_type": "stream",
     "text": [
      "\n",
      "100/100 [==============================] - 0s - train loss: 12.4979      ETA: 0s - train l"
     ]
    },
    {
     "name": "stderr",
     "output_type": "stream",
     "text": [
      "INFO:Epoch 36 out of 40\n"
     ]
    },
    {
     "name": "stdout",
     "output_type": "stream",
     "text": [
      "\n",
      "100/100 [==============================] - 0s - train loss: 12.4979      ETA:  - ETA: 0s - train loss: 12.\n"
     ]
    },
    {
     "name": "stderr",
     "output_type": "stream",
     "text": [
      "INFO:Epoch 37 out of 40\n"
     ]
    },
    {
     "name": "stdout",
     "output_type": "stream",
     "text": [
      "100/100 [==============================] - 0s - train loss: 12.4979     \n"
     ]
    },
    {
     "name": "stderr",
     "output_type": "stream",
     "text": [
      "INFO:Epoch 38 out of 40\n"
     ]
    },
    {
     "name": "stdout",
     "output_type": "stream",
     "text": [
      "100/100 [==============================] - 0s - train loss: 12.4979      ETA: 0s - train l - ETA: 0s - tra"
     ]
    },
    {
     "name": "stderr",
     "output_type": "stream",
     "text": [
      "INFO:Epoch 39 out of 40\n"
     ]
    },
    {
     "name": "stdout",
     "output_type": "stream",
     "text": [
      "\n",
      "100/100 [==============================] - 0s - train loss: 12.4978     "
     ]
    },
    {
     "name": "stderr",
     "output_type": "stream",
     "text": [
      "INFO:Epoch 40 out of 40\n"
     ]
    },
    {
     "name": "stdout",
     "output_type": "stream",
     "text": [
      "\n",
      "100/100 [==============================] - 0s - train loss: 12.4978      ETA: 0s - train loss: 12.50\n"
     ]
    }
   ],
   "source": [
    "# RNN without clipping\n",
    "%run q3_gru.py predict -c rnn"
   ]
  },
  {
   "cell_type": "code",
   "execution_count": 4,
   "metadata": {},
   "outputs": [
    {
     "name": "stderr",
     "output_type": "stream",
     "text": [
      "C:\\Users\\Roy\\Anaconda3\\lib\\site-packages\\matplotlib\\__init__.py:1405: UserWarning: \n",
      "This call to matplotlib.use() has no effect because the backend has already\n",
      "been chosen; matplotlib.use() must be called *before* pylab, matplotlib.pyplot,\n",
      "or matplotlib.backends is imported for the first time.\n",
      "\n",
      "  warnings.warn(_use_error_msg)\n",
      "INFO:Building model...\n",
      "INFO:took 0.70 seconds\n",
      "INFO:Epoch 1 out of 40\n"
     ]
    },
    {
     "name": "stdout",
     "output_type": "stream",
     "text": [
      "100/100 [==============================] - 0s - train loss: 12.5213     "
     ]
    },
    {
     "name": "stderr",
     "output_type": "stream",
     "text": [
      "INFO:Epoch 2 out of 40\n"
     ]
    },
    {
     "name": "stdout",
     "output_type": "stream",
     "text": [
      "\n",
      "100/100 [==============================] - 0s - train loss: 12.5375     "
     ]
    },
    {
     "name": "stderr",
     "output_type": "stream",
     "text": [
      "INFO:Epoch 3 out of 40\n"
     ]
    },
    {
     "name": "stdout",
     "output_type": "stream",
     "text": [
      "\n",
      "100/100 [==============================] - 0s - train loss: 12.5132     "
     ]
    },
    {
     "name": "stderr",
     "output_type": "stream",
     "text": [
      "INFO:Epoch 4 out of 40\n"
     ]
    },
    {
     "name": "stdout",
     "output_type": "stream",
     "text": [
      "\n",
      "100/100 [==============================] - 0s - train loss: 12.5147     "
     ]
    },
    {
     "name": "stderr",
     "output_type": "stream",
     "text": [
      "INFO:Epoch 5 out of 40\n"
     ]
    },
    {
     "name": "stdout",
     "output_type": "stream",
     "text": [
      "\n",
      "100/100 [==============================] - 0s - train loss: 12.5189     "
     ]
    },
    {
     "name": "stderr",
     "output_type": "stream",
     "text": [
      "INFO:Epoch 6 out of 40\n"
     ]
    },
    {
     "name": "stdout",
     "output_type": "stream",
     "text": [
      "\n",
      "100/100 [==============================] - 0s - train loss: 12.5156      ETA: 0s - train los"
     ]
    },
    {
     "name": "stderr",
     "output_type": "stream",
     "text": [
      "INFO:Epoch 7 out of 40\n"
     ]
    },
    {
     "name": "stdout",
     "output_type": "stream",
     "text": [
      "\n",
      "100/100 [==============================] - 0s - train loss: 12.5084     "
     ]
    },
    {
     "name": "stderr",
     "output_type": "stream",
     "text": [
      "INFO:Epoch 8 out of 40\n"
     ]
    },
    {
     "name": "stdout",
     "output_type": "stream",
     "text": [
      "\n",
      "100/100 [==============================] - 0s - train loss: 12.5093      ETA: 0s - train loss:"
     ]
    },
    {
     "name": "stderr",
     "output_type": "stream",
     "text": [
      "INFO:Epoch 9 out of 40\n"
     ]
    },
    {
     "name": "stdout",
     "output_type": "stream",
     "text": [
      "\n",
      "100/100 [==============================] - 0s - train loss: 12.5082     "
     ]
    },
    {
     "name": "stderr",
     "output_type": "stream",
     "text": [
      "INFO:Epoch 10 out of 40\n"
     ]
    },
    {
     "name": "stdout",
     "output_type": "stream",
     "text": [
      "\n",
      "100/100 [==============================] - 0s - train loss: 12.5069     \n"
     ]
    },
    {
     "name": "stderr",
     "output_type": "stream",
     "text": [
      "INFO:Epoch 11 out of 40\n"
     ]
    },
    {
     "name": "stdout",
     "output_type": "stream",
     "text": [
      "100/100 [==============================] - 0s - train loss: 10.6368     "
     ]
    },
    {
     "name": "stderr",
     "output_type": "stream",
     "text": [
      "INFO:Epoch 12 out of 40\n"
     ]
    },
    {
     "name": "stdout",
     "output_type": "stream",
     "text": [
      "\n",
      "100/100 [==============================] - 0s - train loss: 3.7091     - ETA: 0s - train loss: 3.7"
     ]
    },
    {
     "name": "stderr",
     "output_type": "stream",
     "text": [
      "INFO:Epoch 13 out of 40\n"
     ]
    },
    {
     "name": "stdout",
     "output_type": "stream",
     "text": [
      "\n",
      "100/100 [==============================] - 0s - train loss: 3.6507     "
     ]
    },
    {
     "name": "stderr",
     "output_type": "stream",
     "text": [
      "INFO:Epoch 14 out of 40\n"
     ]
    },
    {
     "name": "stdout",
     "output_type": "stream",
     "text": [
      "\n",
      "100/100 [==============================] - 0s - train loss: 3.6379     \n"
     ]
    },
    {
     "name": "stderr",
     "output_type": "stream",
     "text": [
      "INFO:Epoch 15 out of 40\n"
     ]
    },
    {
     "name": "stdout",
     "output_type": "stream",
     "text": [
      "100/100 [==============================] - 0s - train loss: 3.6320     "
     ]
    },
    {
     "name": "stderr",
     "output_type": "stream",
     "text": [
      "INFO:Epoch 16 out of 40\n"
     ]
    },
    {
     "name": "stdout",
     "output_type": "stream",
     "text": [
      "\n",
      "100/100 [==============================] - 0s - train loss: 3.6286     "
     ]
    },
    {
     "name": "stderr",
     "output_type": "stream",
     "text": [
      "INFO:Epoch 17 out of 40\n"
     ]
    },
    {
     "name": "stdout",
     "output_type": "stream",
     "text": [
      "\n",
      "100/100 [==============================] - 0s - train loss: 3.6264     "
     ]
    },
    {
     "name": "stderr",
     "output_type": "stream",
     "text": [
      "INFO:Epoch 18 out of 40\n"
     ]
    },
    {
     "name": "stdout",
     "output_type": "stream",
     "text": [
      "\n",
      "100/100 [==============================] - 0s - train loss: 3.6248     "
     ]
    },
    {
     "name": "stderr",
     "output_type": "stream",
     "text": [
      "INFO:Epoch 19 out of 40\n"
     ]
    },
    {
     "name": "stdout",
     "output_type": "stream",
     "text": [
      "\n",
      "100/100 [==============================] - 0s - train loss: 3.6236     "
     ]
    },
    {
     "name": "stderr",
     "output_type": "stream",
     "text": [
      "INFO:Epoch 20 out of 40\n"
     ]
    },
    {
     "name": "stdout",
     "output_type": "stream",
     "text": [
      "\n",
      "100/100 [==============================] - 0s - train loss: 3.6228     "
     ]
    },
    {
     "name": "stderr",
     "output_type": "stream",
     "text": [
      "INFO:Epoch 21 out of 40\n"
     ]
    },
    {
     "name": "stdout",
     "output_type": "stream",
     "text": [
      "\n",
      "100/100 [==============================] - 0s - train loss: 3.6220     "
     ]
    },
    {
     "name": "stderr",
     "output_type": "stream",
     "text": [
      "INFO:Epoch 22 out of 40\n"
     ]
    },
    {
     "name": "stdout",
     "output_type": "stream",
     "text": [
      "\n",
      "100/100 [==============================] - 0s - train loss: 3.6215     "
     ]
    },
    {
     "name": "stderr",
     "output_type": "stream",
     "text": [
      "INFO:Epoch 23 out of 40\n"
     ]
    },
    {
     "name": "stdout",
     "output_type": "stream",
     "text": [
      "\n",
      "100/100 [==============================] - 0s - train loss: 3.6210     "
     ]
    },
    {
     "name": "stderr",
     "output_type": "stream",
     "text": [
      "INFO:Epoch 24 out of 40\n"
     ]
    },
    {
     "name": "stdout",
     "output_type": "stream",
     "text": [
      "\n",
      "100/100 [==============================] - 0s - train loss: 3.6206     "
     ]
    },
    {
     "name": "stderr",
     "output_type": "stream",
     "text": [
      "INFO:Epoch 25 out of 40\n"
     ]
    },
    {
     "name": "stdout",
     "output_type": "stream",
     "text": [
      "\n",
      "100/100 [==============================] - 0s - train loss: 3.6202     "
     ]
    },
    {
     "name": "stderr",
     "output_type": "stream",
     "text": [
      "INFO:Epoch 26 out of 40\n"
     ]
    },
    {
     "name": "stdout",
     "output_type": "stream",
     "text": [
      "\n",
      "100/100 [==============================] - 0s - train loss: 3.6199     \n"
     ]
    },
    {
     "name": "stderr",
     "output_type": "stream",
     "text": [
      "INFO:Epoch 27 out of 40\n"
     ]
    },
    {
     "name": "stdout",
     "output_type": "stream",
     "text": [
      "100/100 [==============================] - 0s - train loss: 3.6197     "
     ]
    },
    {
     "name": "stderr",
     "output_type": "stream",
     "text": [
      "INFO:Epoch 28 out of 40\n"
     ]
    },
    {
     "name": "stdout",
     "output_type": "stream",
     "text": [
      "\n",
      "100/100 [==============================] - 0s - train loss: 3.6194     "
     ]
    },
    {
     "name": "stderr",
     "output_type": "stream",
     "text": [
      "INFO:Epoch 29 out of 40\n"
     ]
    },
    {
     "name": "stdout",
     "output_type": "stream",
     "text": [
      "\n",
      "100/100 [==============================] - 0s - train loss: 3.6192     "
     ]
    },
    {
     "name": "stderr",
     "output_type": "stream",
     "text": [
      "INFO:Epoch 30 out of 40\n"
     ]
    },
    {
     "name": "stdout",
     "output_type": "stream",
     "text": [
      "\n",
      "100/100 [==============================] - 0s - train loss: 3.6190     "
     ]
    },
    {
     "name": "stderr",
     "output_type": "stream",
     "text": [
      "INFO:Epoch 31 out of 40\n"
     ]
    },
    {
     "name": "stdout",
     "output_type": "stream",
     "text": [
      "\n",
      "100/100 [==============================] - 0s - train loss: 3.6189     "
     ]
    },
    {
     "name": "stderr",
     "output_type": "stream",
     "text": [
      "INFO:Epoch 32 out of 40\n"
     ]
    },
    {
     "name": "stdout",
     "output_type": "stream",
     "text": [
      "\n",
      "100/100 [==============================] - 0s - train loss: 3.6187     "
     ]
    },
    {
     "name": "stderr",
     "output_type": "stream",
     "text": [
      "INFO:Epoch 33 out of 40\n"
     ]
    },
    {
     "name": "stdout",
     "output_type": "stream",
     "text": [
      "\n",
      "100/100 [==============================] - 0s - train loss: 3.6186     "
     ]
    },
    {
     "name": "stderr",
     "output_type": "stream",
     "text": [
      "INFO:Epoch 34 out of 40\n"
     ]
    },
    {
     "name": "stdout",
     "output_type": "stream",
     "text": [
      "\n",
      "100/100 [==============================] - 0s - train loss: 3.6185     "
     ]
    },
    {
     "name": "stderr",
     "output_type": "stream",
     "text": [
      "INFO:Epoch 35 out of 40\n"
     ]
    },
    {
     "name": "stdout",
     "output_type": "stream",
     "text": [
      "\n",
      "100/100 [==============================] - 0s - train loss: 3.6183     "
     ]
    },
    {
     "name": "stderr",
     "output_type": "stream",
     "text": [
      "INFO:Epoch 36 out of 40\n"
     ]
    },
    {
     "name": "stdout",
     "output_type": "stream",
     "text": [
      "\n",
      "100/100 [==============================] - ETA: 0s - train loss: 3.619 - 0s - train loss: 3.6182     "
     ]
    },
    {
     "name": "stderr",
     "output_type": "stream",
     "text": [
      "INFO:Epoch 37 out of 40\n"
     ]
    },
    {
     "name": "stdout",
     "output_type": "stream",
     "text": [
      "\n",
      "100/100 [==============================] - 0s - train loss: 3.6181     "
     ]
    },
    {
     "name": "stderr",
     "output_type": "stream",
     "text": [
      "INFO:Epoch 38 out of 40\n"
     ]
    },
    {
     "name": "stdout",
     "output_type": "stream",
     "text": [
      "\n",
      "100/100 [==============================] - 0s - train loss: 3.6181     \n"
     ]
    },
    {
     "name": "stderr",
     "output_type": "stream",
     "text": [
      "INFO:Epoch 39 out of 40\n"
     ]
    },
    {
     "name": "stdout",
     "output_type": "stream",
     "text": [
      "100/100 [==============================] - 0s - train loss: 3.6180     "
     ]
    },
    {
     "name": "stderr",
     "output_type": "stream",
     "text": [
      "INFO:Epoch 40 out of 40\n"
     ]
    },
    {
     "name": "stdout",
     "output_type": "stream",
     "text": [
      "\n",
      "100/100 [==============================] - 0s - train loss: 3.6179     \n"
     ]
    }
   ],
   "source": [
    "# GRU with clipping\n",
    "%run q3_gru.py predict -c gru -g"
   ]
  },
  {
   "cell_type": "code",
   "execution_count": 6,
   "metadata": {},
   "outputs": [
    {
     "name": "stderr",
     "output_type": "stream",
     "text": [
      "C:\\Users\\Roy\\Anaconda3\\lib\\site-packages\\matplotlib\\__init__.py:1405: UserWarning: \n",
      "This call to matplotlib.use() has no effect because the backend has already\n",
      "been chosen; matplotlib.use() must be called *before* pylab, matplotlib.pyplot,\n",
      "or matplotlib.backends is imported for the first time.\n",
      "\n",
      "  warnings.warn(_use_error_msg)\n",
      "INFO:Building model...\n",
      "INFO:took 0.69 seconds\n",
      "INFO:Epoch 1 out of 40\n"
     ]
    },
    {
     "name": "stdout",
     "output_type": "stream",
     "text": [
      "100/100 [==============================] - 0s - train loss: 12.5213     "
     ]
    },
    {
     "name": "stderr",
     "output_type": "stream",
     "text": [
      "INFO:Epoch 2 out of 40\n"
     ]
    },
    {
     "name": "stdout",
     "output_type": "stream",
     "text": [
      "\n",
      "100/100 [==============================] - 0s - train loss: 12.5375     "
     ]
    },
    {
     "name": "stderr",
     "output_type": "stream",
     "text": [
      "INFO:Epoch 3 out of 40\n"
     ]
    },
    {
     "name": "stdout",
     "output_type": "stream",
     "text": [
      "\n",
      "100/100 [==============================] - 0s - train loss: 12.5132     "
     ]
    },
    {
     "name": "stderr",
     "output_type": "stream",
     "text": [
      "INFO:Epoch 4 out of 40\n"
     ]
    },
    {
     "name": "stdout",
     "output_type": "stream",
     "text": [
      "\n",
      "100/100 [==============================] - 0s - train loss: 12.5147     "
     ]
    },
    {
     "name": "stderr",
     "output_type": "stream",
     "text": [
      "INFO:Epoch 5 out of 40\n"
     ]
    },
    {
     "name": "stdout",
     "output_type": "stream",
     "text": [
      "\n",
      "100/100 [==============================] - 0s - train loss: 12.5189     "
     ]
    },
    {
     "name": "stderr",
     "output_type": "stream",
     "text": [
      "INFO:Epoch 6 out of 40\n"
     ]
    },
    {
     "name": "stdout",
     "output_type": "stream",
     "text": [
      "\n",
      "100/100 [==============================] - 0s - train loss: 12.5156     "
     ]
    },
    {
     "name": "stderr",
     "output_type": "stream",
     "text": [
      "INFO:Epoch 7 out of 40\n"
     ]
    },
    {
     "name": "stdout",
     "output_type": "stream",
     "text": [
      "\n",
      "100/100 [==============================] - 0s - train loss: 12.5084     "
     ]
    },
    {
     "name": "stderr",
     "output_type": "stream",
     "text": [
      "INFO:Epoch 8 out of 40\n"
     ]
    },
    {
     "name": "stdout",
     "output_type": "stream",
     "text": [
      "\n",
      "100/100 [==============================] - 0s - train loss: 12.5093     "
     ]
    },
    {
     "name": "stderr",
     "output_type": "stream",
     "text": [
      "INFO:Epoch 9 out of 40\n"
     ]
    },
    {
     "name": "stdout",
     "output_type": "stream",
     "text": [
      "\n",
      "100/100 [==============================] - 0s - train loss: 12.5082     "
     ]
    },
    {
     "name": "stderr",
     "output_type": "stream",
     "text": [
      "INFO:Epoch 10 out of 40\n"
     ]
    },
    {
     "name": "stdout",
     "output_type": "stream",
     "text": [
      "\n",
      "100/100 [==============================] - 0s - train loss: 12.5069     \n"
     ]
    },
    {
     "name": "stderr",
     "output_type": "stream",
     "text": [
      "INFO:Epoch 11 out of 40\n"
     ]
    },
    {
     "name": "stdout",
     "output_type": "stream",
     "text": [
      "100/100 [==============================] - 0s - train loss: 10.6368      ETA: 0s - train loss: 1\n"
     ]
    },
    {
     "name": "stderr",
     "output_type": "stream",
     "text": [
      "INFO:Epoch 12 out of 40\n"
     ]
    },
    {
     "name": "stdout",
     "output_type": "stream",
     "text": [
      "100/100 [==============================] - 0s - train loss: 3.7091     \n"
     ]
    },
    {
     "name": "stderr",
     "output_type": "stream",
     "text": [
      "INFO:Epoch 13 out of 40\n"
     ]
    },
    {
     "name": "stdout",
     "output_type": "stream",
     "text": [
      "100/100 [==============================] - 0s - train loss: 3.6507     "
     ]
    },
    {
     "name": "stderr",
     "output_type": "stream",
     "text": [
      "INFO:Epoch 14 out of 40\n"
     ]
    },
    {
     "name": "stdout",
     "output_type": "stream",
     "text": [
      "\n",
      "100/100 [==============================] - 0s - train loss: 3.6379     "
     ]
    },
    {
     "name": "stderr",
     "output_type": "stream",
     "text": [
      "INFO:Epoch 15 out of 40\n"
     ]
    },
    {
     "name": "stdout",
     "output_type": "stream",
     "text": [
      "\n",
      "100/100 [==============================] - 0s - train loss: 3.6320     "
     ]
    },
    {
     "name": "stderr",
     "output_type": "stream",
     "text": [
      "INFO:Epoch 16 out of 40\n"
     ]
    },
    {
     "name": "stdout",
     "output_type": "stream",
     "text": [
      "\n",
      "100/100 [==============================] - 0s - train loss: 3.6286     "
     ]
    },
    {
     "name": "stderr",
     "output_type": "stream",
     "text": [
      "INFO:Epoch 17 out of 40\n"
     ]
    },
    {
     "name": "stdout",
     "output_type": "stream",
     "text": [
      "\n",
      "100/100 [==============================] - 0s - train loss: 3.6264     - ETA"
     ]
    },
    {
     "name": "stderr",
     "output_type": "stream",
     "text": [
      "INFO:Epoch 18 out of 40\n"
     ]
    },
    {
     "name": "stdout",
     "output_type": "stream",
     "text": [
      "\n",
      "100/100 [==============================] - 0s - train loss: 3.6248     "
     ]
    },
    {
     "name": "stderr",
     "output_type": "stream",
     "text": [
      "INFO:Epoch 19 out of 40\n"
     ]
    },
    {
     "name": "stdout",
     "output_type": "stream",
     "text": [
      "\n",
      "100/100 [==============================] - 0s - train loss: 3.6236     "
     ]
    },
    {
     "name": "stderr",
     "output_type": "stream",
     "text": [
      "INFO:Epoch 20 out of 40\n"
     ]
    },
    {
     "name": "stdout",
     "output_type": "stream",
     "text": [
      "\n",
      "100/100 [==============================] - 0s - train loss: 3.6228     \n"
     ]
    },
    {
     "name": "stderr",
     "output_type": "stream",
     "text": [
      "INFO:Epoch 21 out of 40\n"
     ]
    },
    {
     "name": "stdout",
     "output_type": "stream",
     "text": [
      "100/100 [==============================] - 0s - train loss: 3.6220     "
     ]
    },
    {
     "name": "stderr",
     "output_type": "stream",
     "text": [
      "INFO:Epoch 22 out of 40\n"
     ]
    },
    {
     "name": "stdout",
     "output_type": "stream",
     "text": [
      "\n",
      "100/100 [==============================] - 0s - train loss: 3.6215     "
     ]
    },
    {
     "name": "stderr",
     "output_type": "stream",
     "text": [
      "INFO:Epoch 23 out of 40\n"
     ]
    },
    {
     "name": "stdout",
     "output_type": "stream",
     "text": [
      "\n",
      "100/100 [==============================] - 0s - train loss: 3.6210     "
     ]
    },
    {
     "name": "stderr",
     "output_type": "stream",
     "text": [
      "INFO:Epoch 24 out of 40\n"
     ]
    },
    {
     "name": "stdout",
     "output_type": "stream",
     "text": [
      "\n",
      "100/100 [==============================] - 0s - train loss: 3.6206     - ETA:"
     ]
    },
    {
     "name": "stderr",
     "output_type": "stream",
     "text": [
      "INFO:Epoch 25 out of 40\n"
     ]
    },
    {
     "name": "stdout",
     "output_type": "stream",
     "text": [
      "\n",
      "100/100 [==============================] - 0s - train loss: 3.6202     "
     ]
    },
    {
     "name": "stderr",
     "output_type": "stream",
     "text": [
      "INFO:Epoch 26 out of 40\n"
     ]
    },
    {
     "name": "stdout",
     "output_type": "stream",
     "text": [
      "\n",
      "100/100 [==============================] - 0s - train loss: 3.6199     "
     ]
    },
    {
     "name": "stderr",
     "output_type": "stream",
     "text": [
      "INFO:Epoch 27 out of 40\n"
     ]
    },
    {
     "name": "stdout",
     "output_type": "stream",
     "text": [
      "\n",
      "100/100 [==============================] - 0s - train loss: 3.6197     "
     ]
    },
    {
     "name": "stderr",
     "output_type": "stream",
     "text": [
      "INFO:Epoch 28 out of 40\n"
     ]
    },
    {
     "name": "stdout",
     "output_type": "stream",
     "text": [
      "\n",
      "100/100 [==============================] - 0s - train loss: 3.6194     "
     ]
    },
    {
     "name": "stderr",
     "output_type": "stream",
     "text": [
      "INFO:Epoch 29 out of 40\n"
     ]
    },
    {
     "name": "stdout",
     "output_type": "stream",
     "text": [
      "\n",
      "100/100 [==============================] - 0s - train loss: 3.6192     "
     ]
    },
    {
     "name": "stderr",
     "output_type": "stream",
     "text": [
      "INFO:Epoch 30 out of 40\n"
     ]
    },
    {
     "name": "stdout",
     "output_type": "stream",
     "text": [
      "\n",
      "100/100 [==============================] - 0s - train loss: 3.6190     "
     ]
    },
    {
     "name": "stderr",
     "output_type": "stream",
     "text": [
      "INFO:Epoch 31 out of 40\n"
     ]
    },
    {
     "name": "stdout",
     "output_type": "stream",
     "text": [
      "\n",
      "100/100 [==============================] - 0s - train loss: 3.6189     "
     ]
    },
    {
     "name": "stderr",
     "output_type": "stream",
     "text": [
      "INFO:Epoch 32 out of 40\n"
     ]
    },
    {
     "name": "stdout",
     "output_type": "stream",
     "text": [
      "\n",
      "100/100 [==============================] - 0s - train loss: 3.6187     "
     ]
    },
    {
     "name": "stderr",
     "output_type": "stream",
     "text": [
      "INFO:Epoch 33 out of 40\n"
     ]
    },
    {
     "name": "stdout",
     "output_type": "stream",
     "text": [
      "\n",
      "100/100 [==============================] - 0s - train loss: 3.6186     - ETA: 0s - train loss"
     ]
    },
    {
     "name": "stderr",
     "output_type": "stream",
     "text": [
      "INFO:Epoch 34 out of 40\n"
     ]
    },
    {
     "name": "stdout",
     "output_type": "stream",
     "text": [
      "\n",
      "100/100 [==============================] - 0s - train loss: 3.6185     "
     ]
    },
    {
     "name": "stderr",
     "output_type": "stream",
     "text": [
      "INFO:Epoch 35 out of 40\n"
     ]
    },
    {
     "name": "stdout",
     "output_type": "stream",
     "text": [
      "\n",
      "100/100 [==============================] - 0s - train loss: 3.6183     "
     ]
    },
    {
     "name": "stderr",
     "output_type": "stream",
     "text": [
      "INFO:Epoch 36 out of 40\n"
     ]
    },
    {
     "name": "stdout",
     "output_type": "stream",
     "text": [
      "\n",
      "100/100 [==============================] - 0s - train loss: 3.6182     \n"
     ]
    },
    {
     "name": "stderr",
     "output_type": "stream",
     "text": [
      "INFO:Epoch 37 out of 40\n"
     ]
    },
    {
     "name": "stdout",
     "output_type": "stream",
     "text": [
      "100/100 [==============================] - 0s - train loss: 3.6181     "
     ]
    },
    {
     "name": "stderr",
     "output_type": "stream",
     "text": [
      "INFO:Epoch 38 out of 40\n"
     ]
    },
    {
     "name": "stdout",
     "output_type": "stream",
     "text": [
      "\n",
      "100/100 [==============================] - 0s - train loss: 3.6181     "
     ]
    },
    {
     "name": "stderr",
     "output_type": "stream",
     "text": [
      "INFO:Epoch 39 out of 40\n"
     ]
    },
    {
     "name": "stdout",
     "output_type": "stream",
     "text": [
      "\n",
      "100/100 [==============================] - 0s - train loss: 3.6180     "
     ]
    },
    {
     "name": "stderr",
     "output_type": "stream",
     "text": [
      "INFO:Epoch 40 out of 40\n"
     ]
    },
    {
     "name": "stdout",
     "output_type": "stream",
     "text": [
      "\n",
      "100/100 [==============================] - 0s - train loss: 3.6179     \n"
     ]
    }
   ],
   "source": [
    "# GRU without clipping\n",
    "%run q3_gru.py predict -c gru"
   ]
  },
  {
   "cell_type": "code",
   "execution_count": 9,
   "metadata": {},
   "outputs": [
    {
     "name": "stderr",
     "output_type": "stream",
     "text": [
      "INFO:Loading training data...\n",
      "INFO:Done. Read 14041 sentences\n",
      "INFO:Loading dev data...\n",
      "INFO:Done. Read 3250 sentences\n",
      "INFO:Built dictionary for 10007 features.\n",
      "INFO:Initialized embeddings.\n",
      "INFO:Building model...\n",
      "C:\\Users\\Roy\\Anaconda3\\lib\\site-packages\\tensorflow\\python\\ops\\gradients_impl.py:95: UserWarning: Converting sparse IndexedSlices to a dense Tensor of unknown shape. This may consume a large amount of memory.\n",
      "  \"Converting sparse IndexedSlices to a dense Tensor of unknown shape. \"\n",
      "INFO:took 27.39 seconds\n",
      "INFO:Epoch 1 out of 10\n"
     ]
    },
    {
     "name": "stdout",
     "output_type": "stream",
     "text": [
      "439/439 [==============================] - 217s - train loss: 0.1954   "
     ]
    },
    {
     "name": "stderr",
     "output_type": "stream",
     "text": [
      "INFO:Evaluating on development data\n"
     ]
    },
    {
     "name": "stdout",
     "output_type": "stream",
     "text": [
      "\n",
      "\n",
      "102/102 [==============================] - 101s   "
     ]
    },
    {
     "name": "stderr",
     "output_type": "stream",
     "text": [
      "DEBUG:Token-level confusion matrix:\n",
      "go\\gu   \tPER     \tORG     \tLOC     \tMISC    \tO       \n",
      "PER     \t2994.00 \t26.00   \t43.00   \t14.00   \t72.00   \n",
      "ORG     \t386.00  \t1133.00 \t161.00  \t174.00  \t238.00  \n",
      "LOC     \t151.00  \t58.00   \t1738.00 \t69.00   \t78.00   \n",
      "MISC    \t123.00  \t49.00   \t77.00   \t876.00  \t143.00  \n",
      "O       \t102.00  \t56.00   \t19.00   \t54.00   \t42528.00\n",
      "\n",
      "DEBUG:Token-level scores:\n",
      "label\tacc  \tprec \trec  \tf1   \n",
      "PER  \t0.98 \t0.80 \t0.95 \t0.87 \n",
      "ORG  \t0.98 \t0.86 \t0.54 \t0.66 \n",
      "LOC  \t0.99 \t0.85 \t0.83 \t0.84 \n",
      "MISC \t0.99 \t0.74 \t0.69 \t0.71 \n",
      "O    \t0.99 \t0.99 \t0.99 \t0.99 \n",
      "micro\t0.98 \t0.96 \t0.96 \t0.96 \n",
      "macro\t0.98 \t0.85 \t0.80 \t0.82 \n",
      "not-O\t0.98 \t0.81 \t0.78 \t0.80 \n",
      "\n",
      "INFO:Entity level P/R/F1: 0.73/0.75/0.74\n",
      "INFO:New best score! Saving model in results/gru/20180130_172957/model.weights\n"
     ]
    },
    {
     "name": "stdout",
     "output_type": "stream",
     "text": [
      "\n"
     ]
    },
    {
     "name": "stderr",
     "output_type": "stream",
     "text": [
      "INFO:Epoch 2 out of 10\n"
     ]
    },
    {
     "name": "stdout",
     "output_type": "stream",
     "text": [
      "\n",
      "439/439 [==============================] - 355s - train loss: 0.1059   "
     ]
    },
    {
     "name": "stderr",
     "output_type": "stream",
     "text": [
      "INFO:Evaluating on development data\n"
     ]
    },
    {
     "name": "stdout",
     "output_type": "stream",
     "text": [
      "\n",
      "\n",
      "102/102 [==============================] - 133s   "
     ]
    },
    {
     "name": "stderr",
     "output_type": "stream",
     "text": [
      "DEBUG:Token-level confusion matrix:\n",
      "go\\gu   \tPER     \tORG     \tLOC     \tMISC    \tO       \n",
      "PER     \t2955.00 \t25.00   \t32.00   \t22.00   \t115.00  \n",
      "ORG     \t203.00  \t1505.00 \t94.00   \t92.00   \t198.00  \n",
      "LOC     \t92.00   \t81.00   \t1800.00 \t49.00   \t72.00   \n",
      "MISC    \t52.00   \t72.00   \t63.00   \t938.00  \t143.00  \n",
      "O       \t50.00   \t64.00   \t12.00   \t30.00   \t42603.00\n",
      "\n",
      "DEBUG:Token-level scores:\n",
      "label\tacc  \tprec \trec  \tf1   \n",
      "PER  \t0.99 \t0.88 \t0.94 \t0.91 \n",
      "ORG  \t0.98 \t0.86 \t0.72 \t0.78 \n",
      "LOC  \t0.99 \t0.90 \t0.86 \t0.88 \n",
      "MISC \t0.99 \t0.83 \t0.74 \t0.78 \n",
      "O    \t0.99 \t0.99 \t1.00 \t0.99 \n",
      "micro\t0.99 \t0.97 \t0.97 \t0.97 \n",
      "macro\t0.99 \t0.89 \t0.85 \t0.87 \n",
      "not-O\t0.99 \t0.87 \t0.84 \t0.86 \n",
      "\n",
      "INFO:Entity level P/R/F1: 0.81/0.81/0.81\n",
      "INFO:New best score! Saving model in results/gru/20180130_172957/model.weights\n"
     ]
    },
    {
     "name": "stdout",
     "output_type": "stream",
     "text": [
      "\n"
     ]
    },
    {
     "name": "stderr",
     "output_type": "stream",
     "text": [
      "INFO:Epoch 3 out of 10\n"
     ]
    },
    {
     "name": "stdout",
     "output_type": "stream",
     "text": [
      "\n",
      "439/439 [==============================] - 628s - train loss: 0.0722   "
     ]
    },
    {
     "name": "stderr",
     "output_type": "stream",
     "text": [
      "INFO:Evaluating on development data\n"
     ]
    },
    {
     "name": "stdout",
     "output_type": "stream",
     "text": [
      "\n",
      "\n",
      "102/102 [==============================] - 165s   "
     ]
    },
    {
     "name": "stderr",
     "output_type": "stream",
     "text": [
      "DEBUG:Token-level confusion matrix:\n",
      "go\\gu   \tPER     \tORG     \tLOC     \tMISC    \tO       \n",
      "PER     \t2883.00 \t157.00  \t33.00   \t20.00   \t56.00   \n",
      "ORG     \t120.00  \t1730.00 \t52.00   \t102.00  \t88.00   \n",
      "LOC     \t28.00   \t200.00  \t1772.00 \t68.00   \t26.00   \n",
      "MISC    \t32.00   \t85.00   \t37.00   \t1032.00 \t82.00   \n",
      "O       \t62.00   \t121.00  \t17.00   \t73.00   \t42486.00\n",
      "\n",
      "DEBUG:Token-level scores:\n",
      "label\tacc  \tprec \trec  \tf1   \n",
      "PER  \t0.99 \t0.92 \t0.92 \t0.92 \n",
      "ORG  \t0.98 \t0.75 \t0.83 \t0.79 \n",
      "LOC  \t0.99 \t0.93 \t0.85 \t0.88 \n",
      "MISC \t0.99 \t0.80 \t0.81 \t0.81 \n",
      "O    \t0.99 \t0.99 \t0.99 \t0.99 \n",
      "micro\t0.99 \t0.97 \t0.97 \t0.97 \n",
      "macro\t0.99 \t0.88 \t0.88 \t0.88 \n",
      "not-O\t0.99 \t0.86 \t0.86 \t0.86 \n",
      "\n",
      "INFO:Entity level P/R/F1: 0.79/0.83/0.81\n",
      "INFO:New best score! Saving model in results/gru/20180130_172957/model.weights\n"
     ]
    },
    {
     "name": "stdout",
     "output_type": "stream",
     "text": [
      "\n"
     ]
    },
    {
     "name": "stderr",
     "output_type": "stream",
     "text": [
      "INFO:Epoch 4 out of 10\n"
     ]
    },
    {
     "name": "stdout",
     "output_type": "stream",
     "text": [
      "\n",
      "439/439 [==============================] - 951s - train loss: 0.0516   "
     ]
    },
    {
     "name": "stderr",
     "output_type": "stream",
     "text": [
      "INFO:Evaluating on development data\n"
     ]
    },
    {
     "name": "stdout",
     "output_type": "stream",
     "text": [
      "\n",
      "\n",
      "102/102 [==============================] - 212s   "
     ]
    },
    {
     "name": "stderr",
     "output_type": "stream",
     "text": [
      "DEBUG:Token-level confusion matrix:\n",
      "go\\gu   \tPER     \tORG     \tLOC     \tMISC    \tO       \n",
      "PER     \t2967.00 \t60.00   \t42.00   \t11.00   \t69.00   \n",
      "ORG     \t139.00  \t1693.00 \t84.00   \t62.00   \t114.00  \n",
      "LOC     \t33.00   \t111.00  \t1898.00 \t20.00   \t32.00   \n",
      "MISC    \t46.00   \t79.00   \t57.00   \t972.00  \t114.00  \n",
      "O       \t53.00   \t84.00   \t14.00   \t33.00   \t42575.00\n",
      "\n",
      "DEBUG:Token-level scores:\n",
      "label\tacc  \tprec \trec  \tf1   \n",
      "PER  \t0.99 \t0.92 \t0.94 \t0.93 \n",
      "ORG  \t0.99 \t0.84 \t0.81 \t0.82 \n",
      "LOC  \t0.99 \t0.91 \t0.91 \t0.91 \n",
      "MISC \t0.99 \t0.89 \t0.77 \t0.82 \n",
      "O    \t0.99 \t0.99 \t1.00 \t0.99 \n",
      "micro\t0.99 \t0.98 \t0.98 \t0.98 \n",
      "macro\t0.99 \t0.91 \t0.88 \t0.89 \n",
      "not-O\t0.99 \t0.89 \t0.88 \t0.88 \n",
      "\n",
      "INFO:Entity level P/R/F1: 0.84/0.85/0.84\n",
      "INFO:New best score! Saving model in results/gru/20180130_172957/model.weights\n"
     ]
    },
    {
     "name": "stdout",
     "output_type": "stream",
     "text": [
      "\n"
     ]
    },
    {
     "name": "stderr",
     "output_type": "stream",
     "text": [
      "INFO:Epoch 5 out of 10\n"
     ]
    },
    {
     "name": "stdout",
     "output_type": "stream",
     "text": [
      "\n",
      "439/439 [==============================] - 1423s - train loss: 0.0381  "
     ]
    },
    {
     "name": "stderr",
     "output_type": "stream",
     "text": [
      "INFO:Evaluating on development data\n"
     ]
    },
    {
     "name": "stdout",
     "output_type": "stream",
     "text": [
      "\n",
      "\n",
      "102/102 [==============================] - 222s   "
     ]
    },
    {
     "name": "stderr",
     "output_type": "stream",
     "text": [
      "DEBUG:Token-level confusion matrix:\n",
      "go\\gu   \tPER     \tORG     \tLOC     \tMISC    \tO       \n",
      "PER     \t2921.00 \t43.00   \t68.00   \t35.00   \t82.00   \n",
      "ORG     \t122.00  \t1540.00 \t130.00  \t169.00  \t131.00  \n",
      "LOC     \t26.00   \t47.00   \t1951.00 \t35.00   \t35.00   \n",
      "MISC    \t32.00   \t24.00   \t61.00   \t1064.00 \t87.00   \n",
      "O       \t33.00   \t36.00   \t31.00   \t43.00   \t42616.00\n",
      "\n",
      "DEBUG:Token-level scores:\n",
      "label\tacc  \tprec \trec  \tf1   \n",
      "PER  \t0.99 \t0.93 \t0.93 \t0.93 \n",
      "ORG  \t0.99 \t0.91 \t0.74 \t0.81 \n",
      "LOC  \t0.99 \t0.87 \t0.93 \t0.90 \n",
      "MISC \t0.99 \t0.79 \t0.84 \t0.81 \n",
      "O    \t0.99 \t0.99 \t1.00 \t0.99 \n",
      "micro\t0.99 \t0.98 \t0.98 \t0.98 \n",
      "macro\t0.99 \t0.90 \t0.89 \t0.89 \n",
      "not-O\t0.99 \t0.89 \t0.87 \t0.88 \n",
      "\n",
      "INFO:Entity level P/R/F1: 0.83/0.85/0.84\n",
      "INFO:Epoch 6 out of 10\n"
     ]
    },
    {
     "name": "stdout",
     "output_type": "stream",
     "text": [
      "\n",
      "\n",
      "439/439 [==============================] - 1734s - train loss: 0.0286  "
     ]
    },
    {
     "name": "stderr",
     "output_type": "stream",
     "text": [
      "INFO:Evaluating on development data\n"
     ]
    },
    {
     "name": "stdout",
     "output_type": "stream",
     "text": [
      "\n",
      "\n",
      "102/102 [==============================] - 251s   "
     ]
    },
    {
     "name": "stderr",
     "output_type": "stream",
     "text": [
      "DEBUG:Token-level confusion matrix:\n",
      "go\\gu   \tPER     \tORG     \tLOC     \tMISC    \tO       \n",
      "PER     \t2989.00 \t27.00   \t43.00   \t11.00   \t79.00   \n",
      "ORG     \t178.00  \t1655.00 \t79.00   \t81.00   \t99.00   \n",
      "LOC     \t47.00   \t71.00   \t1915.00 \t25.00   \t36.00   \n",
      "MISC    \t61.00   \t34.00   \t48.00   \t1026.00 \t99.00   \n",
      "O       \t59.00   \t58.00   \t16.00   \t33.00   \t42593.00\n",
      "\n",
      "DEBUG:Token-level scores:\n",
      "label\tacc  \tprec \trec  \tf1   \n",
      "PER  \t0.99 \t0.90 \t0.95 \t0.92 \n",
      "ORG  \t0.99 \t0.90 \t0.79 \t0.84 \n",
      "LOC  \t0.99 \t0.91 \t0.91 \t0.91 \n",
      "MISC \t0.99 \t0.87 \t0.81 \t0.84 \n",
      "O    \t0.99 \t0.99 \t1.00 \t0.99 \n",
      "micro\t0.99 \t0.98 \t0.98 \t0.98 \n",
      "macro\t0.99 \t0.91 \t0.89 \t0.90 \n",
      "not-O\t0.99 \t0.90 \t0.88 \t0.89 \n",
      "\n",
      "INFO:Entity level P/R/F1: 0.84/0.86/0.85\n",
      "INFO:New best score! Saving model in results/gru/20180130_172957/model.weights\n"
     ]
    },
    {
     "name": "stdout",
     "output_type": "stream",
     "text": [
      "\n"
     ]
    },
    {
     "name": "stderr",
     "output_type": "stream",
     "text": [
      "INFO:Epoch 7 out of 10\n"
     ]
    },
    {
     "name": "stdout",
     "output_type": "stream",
     "text": [
      "\n",
      "439/439 [==============================] - 2486s - train loss: 0.0216  "
     ]
    },
    {
     "name": "stderr",
     "output_type": "stream",
     "text": [
      "INFO:Evaluating on development data\n"
     ]
    },
    {
     "name": "stdout",
     "output_type": "stream",
     "text": [
      "\n",
      "\n",
      "102/102 [==============================] - 297s   "
     ]
    },
    {
     "name": "stderr",
     "output_type": "stream",
     "text": [
      "DEBUG:Token-level confusion matrix:\n",
      "go\\gu   \tPER     \tORG     \tLOC     \tMISC    \tO       \n",
      "PER     \t2970.00 \t37.00   \t51.00   \t21.00   \t70.00   \n",
      "ORG     \t138.00  \t1652.00 \t79.00   \t104.00  \t119.00  \n",
      "LOC     \t31.00   \t68.00   \t1910.00 \t50.00   \t35.00   \n",
      "MISC    \t55.00   \t28.00   \t36.00   \t1048.00 \t101.00  \n",
      "O       \t52.00   \t58.00   \t15.00   \t40.00   \t42594.00\n",
      "\n",
      "DEBUG:Token-level scores:\n",
      "label\tacc  \tprec \trec  \tf1   \n",
      "PER  \t0.99 \t0.91 \t0.94 \t0.93 \n",
      "ORG  \t0.99 \t0.90 \t0.79 \t0.84 \n",
      "LOC  \t0.99 \t0.91 \t0.91 \t0.91 \n",
      "MISC \t0.99 \t0.83 \t0.83 \t0.83 \n",
      "O    \t0.99 \t0.99 \t1.00 \t0.99 \n",
      "micro\t0.99 \t0.98 \t0.98 \t0.98 \n",
      "macro\t0.99 \t0.91 \t0.89 \t0.90 \n",
      "not-O\t0.99 \t0.90 \t0.88 \t0.89 \n",
      "\n",
      "INFO:Entity level P/R/F1: 0.84/0.86/0.85\n",
      "INFO:New best score! Saving model in results/gru/20180130_172957/model.weights\n"
     ]
    },
    {
     "name": "stdout",
     "output_type": "stream",
     "text": [
      "\n"
     ]
    },
    {
     "name": "stderr",
     "output_type": "stream",
     "text": [
      "INFO:Epoch 8 out of 10\n"
     ]
    },
    {
     "name": "stdout",
     "output_type": "stream",
     "text": [
      "\n",
      "439/439 [==============================] - 3038s - train loss: 0.0181  "
     ]
    },
    {
     "name": "stderr",
     "output_type": "stream",
     "text": [
      "INFO:Evaluating on development data\n"
     ]
    },
    {
     "name": "stdout",
     "output_type": "stream",
     "text": [
      "\n",
      "\n",
      "102/102 [==============================] - 308s   "
     ]
    },
    {
     "name": "stderr",
     "output_type": "stream",
     "text": [
      "DEBUG:Token-level confusion matrix:\n",
      "go\\gu   \tPER     \tORG     \tLOC     \tMISC    \tO       \n",
      "PER     \t2779.00 \t133.00  \t57.00   \t9.00    \t171.00  \n",
      "ORG     \t69.00   \t1740.00 \t70.00   \t42.00   \t171.00  \n",
      "LOC     \t8.00    \t131.00  \t1875.00 \t11.00   \t69.00   \n",
      "MISC    \t19.00   \t59.00   \t56.00   \t944.00  \t190.00  \n",
      "O       \t24.00   \t55.00   \t14.00   \t13.00   \t42653.00\n",
      "\n",
      "DEBUG:Token-level scores:\n",
      "label\tacc  \tprec \trec  \tf1   \n",
      "PER  \t0.99 \t0.96 \t0.88 \t0.92 \n",
      "ORG  \t0.99 \t0.82 \t0.83 \t0.83 \n",
      "LOC  \t0.99 \t0.90 \t0.90 \t0.90 \n",
      "MISC \t0.99 \t0.93 \t0.74 \t0.83 \n",
      "O    \t0.99 \t0.99 \t1.00 \t0.99 \n",
      "micro\t0.99 \t0.97 \t0.97 \t0.97 \n",
      "macro\t0.99 \t0.92 \t0.87 \t0.89 \n",
      "not-O\t0.99 \t0.91 \t0.85 \t0.88 \n",
      "\n",
      "INFO:Entity level P/R/F1: 0.84/0.83/0.84\n",
      "INFO:Epoch 9 out of 10\n"
     ]
    },
    {
     "name": "stdout",
     "output_type": "stream",
     "text": [
      "\n",
      "\n",
      "439/439 [==============================] - 3459s - train loss: 0.0152  "
     ]
    },
    {
     "name": "stderr",
     "output_type": "stream",
     "text": [
      "INFO:Evaluating on development data\n"
     ]
    },
    {
     "name": "stdout",
     "output_type": "stream",
     "text": [
      "\n",
      "\n",
      "102/102 [==============================] - 342s   "
     ]
    },
    {
     "name": "stderr",
     "output_type": "stream",
     "text": [
      "DEBUG:Token-level confusion matrix:\n",
      "go\\gu   \tPER     \tORG     \tLOC     \tMISC    \tO       \n",
      "PER     \t2949.00 \t86.00   \t24.00   \t16.00   \t74.00   \n",
      "ORG     \t106.00  \t1724.00 \t78.00   \t72.00   \t112.00  \n",
      "LOC     \t27.00   \t86.00   \t1908.00 \t30.00   \t43.00   \n",
      "MISC    \t33.00   \t53.00   \t38.00   \t1033.00 \t111.00  \n",
      "O       \t30.00   \t61.00   \t17.00   \t22.00   \t42629.00\n",
      "\n",
      "DEBUG:Token-level scores:\n",
      "label\tacc  \tprec \trec  \tf1   \n",
      "PER  \t0.99 \t0.94 \t0.94 \t0.94 \n",
      "ORG  \t0.99 \t0.86 \t0.82 \t0.84 \n",
      "LOC  \t0.99 \t0.92 \t0.91 \t0.92 \n",
      "MISC \t0.99 \t0.88 \t0.81 \t0.85 \n",
      "O    \t0.99 \t0.99 \t1.00 \t0.99 \n",
      "micro\t0.99 \t0.98 \t0.98 \t0.98 \n",
      "macro\t0.99 \t0.92 \t0.90 \t0.91 \n",
      "not-O\t0.99 \t0.91 \t0.89 \t0.90 \n",
      "\n",
      "INFO:Entity level P/R/F1: 0.85/0.86/0.86\n",
      "INFO:New best score! Saving model in results/gru/20180130_172957/model.weights\n"
     ]
    },
    {
     "name": "stdout",
     "output_type": "stream",
     "text": [
      "\n"
     ]
    },
    {
     "name": "stderr",
     "output_type": "stream",
     "text": [
      "INFO:Epoch 10 out of 10\n"
     ]
    },
    {
     "name": "stdout",
     "output_type": "stream",
     "text": [
      "\n",
      "439/439 [==============================] - 3923s - train loss: 0.0122  "
     ]
    },
    {
     "name": "stderr",
     "output_type": "stream",
     "text": [
      "INFO:Evaluating on development data\n"
     ]
    },
    {
     "name": "stdout",
     "output_type": "stream",
     "text": [
      "\n",
      "\n",
      "102/102 [==============================] - 377s   "
     ]
    },
    {
     "name": "stderr",
     "output_type": "stream",
     "text": [
      "DEBUG:Token-level confusion matrix:\n",
      "go\\gu   \tPER     \tORG     \tLOC     \tMISC    \tO       \n",
      "PER     \t2764.00 \t127.00  \t128.00  \t34.00   \t96.00   \n",
      "ORG     \t73.00   \t1752.00 \t97.00   \t64.00   \t106.00  \n",
      "LOC     \t14.00   \t95.00   \t1929.00 \t22.00   \t34.00   \n",
      "MISC    \t24.00   \t43.00   \t78.00   \t1024.00 \t99.00   \n",
      "O       \t16.00   \t67.00   \t27.00   \t35.00   \t42614.00\n",
      "\n",
      "DEBUG:Token-level scores:\n",
      "label\tacc  \tprec \trec  \tf1   \n",
      "PER  \t0.99 \t0.96 \t0.88 \t0.92 \n",
      "ORG  \t0.99 \t0.84 \t0.84 \t0.84 \n",
      "LOC  \t0.99 \t0.85 \t0.92 \t0.89 \n",
      "MISC \t0.99 \t0.87 \t0.81 \t0.84 \n",
      "O    \t0.99 \t0.99 \t1.00 \t0.99 \n",
      "micro\t0.99 \t0.98 \t0.98 \t0.98 \n",
      "macro\t0.99 \t0.90 \t0.89 \t0.89 \n",
      "not-O\t0.99 \t0.89 \t0.87 \t0.88 \n",
      "\n",
      "INFO:Entity level P/R/F1: 0.82/0.84/0.83\n"
     ]
    },
    {
     "name": "stdout",
     "output_type": "stream",
     "text": [
      "\n",
      "\n",
      "102/102 [==============================] - 406s   \n"
     ]
    }
   ],
   "source": [
    "%run q2_rnn.py train -c gru"
   ]
  },
  {
   "cell_type": "code",
   "execution_count": null,
   "metadata": {
    "collapsed": true
   },
   "outputs": [],
   "source": []
  }
 ],
 "metadata": {
  "anaconda-cloud": {},
  "kernelspec": {
   "display_name": "Python 3",
   "language": "python",
   "name": "python3"
  },
  "language_info": {
   "codemirror_mode": {
    "name": "ipython",
    "version": 3
   },
   "file_extension": ".py",
   "mimetype": "text/x-python",
   "name": "python",
   "nbconvert_exporter": "python",
   "pygments_lexer": "ipython3",
   "version": "3.6.1"
  }
 },
 "nbformat": 4,
 "nbformat_minor": 1
}
