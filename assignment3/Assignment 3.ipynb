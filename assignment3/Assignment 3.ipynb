{
 "cells": [
  {
   "cell_type": "markdown",
   "metadata": {},
   "source": [
    "# CS 224N: Assignment 3"
   ]
  },
  {
   "cell_type": "markdown",
   "metadata": {},
   "source": [
    "## 1. A window into NER (30 points)"
   ]
  },
  {
   "cell_type": "markdown",
   "metadata": {},
   "source": [
    "### (c). Implement a window-based feedforward classifier model"
   ]
  },
  {
   "cell_type": "code",
   "execution_count": 1,
   "metadata": {
    "collapsed": false
   },
   "outputs": [
    {
     "name": "stderr",
     "output_type": "stream",
     "text": [
      "INFO:Testing make_windowed_data\n",
      "INFO:Passed!\n"
     ]
    }
   ],
   "source": [
    "%run q1_window.py test1"
   ]
  },
  {
   "cell_type": "code",
   "execution_count": 2,
   "metadata": {
    "collapsed": false
   },
   "outputs": [
    {
     "name": "stderr",
     "output_type": "stream",
     "text": [
      "INFO:Testing implementation of WindowModel\n",
      "INFO:Loading training data...\n",
      "INFO:Done. Read 721 sentences\n",
      "INFO:Loading dev data...\n",
      "INFO:Done. Read 721 sentences\n",
      "INFO:Built dictionary for 2653 features.\n",
      "INFO:Initialized embeddings.\n",
      "INFO:Building model...\n",
      "INFO:took 7.81 seconds\n",
      "INFO:Epoch 1 out of 10\n"
     ]
    },
    {
     "name": "stdout",
     "output_type": "stream",
     "text": [
      "5/5 [==============================] - 0s - train loss: 1.0713     "
     ]
    },
    {
     "name": "stderr",
     "output_type": "stream",
     "text": [
      "INFO:Evaluating on development data\n"
     ]
    },
    {
     "name": "stdout",
     "output_type": "stream",
     "text": [
      "\n",
      "\n",
      "5/5 [==============================] - 0s     "
     ]
    },
    {
     "name": "stderr",
     "output_type": "stream",
     "text": [
      "DEBUG:Token-level confusion matrix:\n",
      "go\\gu  \tPER    \tORG    \tLOC    \tMISC   \tO      \n",
      "PER    \t235.00 \t1.00   \t3.00   \t1.00   \t584.00 \n",
      "ORG    \t52.00  \t0.00   \t7.00   \t0.00   \t332.00 \n",
      "LOC    \t16.00  \t0.00   \t156.00 \t0.00   \t405.00 \n",
      "MISC   \t15.00  \t0.00   \t0.00   \t0.00   \t243.00 \n",
      "O      \t19.00  \t0.00   \t4.00   \t1.00   \t7092.00\n",
      "\n",
      "DEBUG:Token-level scores:\n",
      "label\tacc  \tprec \trec  \tf1   \n",
      "PER  \t0.92 \t0.70 \t0.29 \t0.40 \n",
      "ORG  \t0.00 \t0.00 \t0.00 \t0.00 \n",
      "LOC  \t0.95 \t0.92 \t0.27 \t0.42 \n",
      "MISC \t0.00 \t0.00 \t0.00 \t0.00 \n",
      "O    \t0.83 \t0.82 \t1.00 \t0.90 \n",
      "micro\t0.93 \t0.82 \t0.82 \t0.82 \n",
      "macro\t0.54 \t0.49 \t0.31 \t0.34 \n",
      "not-O\t0.95 \t0.77 \t0.19 \t0.31 \n",
      "\n",
      "INFO:Entity level P/R/F1: 0.42/0.13/0.20\n",
      "INFO:Epoch 2 out of 10\n"
     ]
    },
    {
     "name": "stdout",
     "output_type": "stream",
     "text": [
      "\n",
      "\n",
      "5/5 [==============================] - 0s - train loss: 0.6165     "
     ]
    },
    {
     "name": "stderr",
     "output_type": "stream",
     "text": [
      "INFO:Evaluating on development data\n"
     ]
    },
    {
     "name": "stdout",
     "output_type": "stream",
     "text": [
      "\n",
      "\n",
      "5/5 [==============================] - 0s     \n"
     ]
    },
    {
     "name": "stderr",
     "output_type": "stream",
     "text": [
      "DEBUG:Token-level confusion matrix:\n",
      "go\\gu  \tPER    \tORG    \tLOC    \tMISC   \tO      \n",
      "PER    \t559.00 \t1.00   \t0.00   \t0.00   \t264.00 \n",
      "ORG    \t148.00 \t1.00   \t4.00   \t0.00   \t238.00 \n",
      "LOC    \t85.00  \t0.00   \t158.00 \t0.00   \t334.00 \n",
      "MISC   \t39.00  \t0.00   \t0.00   \t0.00   \t219.00 \n",
      "O      \t76.00  \t0.00   \t0.00   \t0.00   \t7040.00\n",
      "\n",
      "DEBUG:Token-level scores:\n",
      "label\tacc  \tprec \trec  \tf1   \n",
      "PER  \t0.93 \t0.62 \t0.68 \t0.65 \n",
      "ORG  \t0.96 \t0.50 \t0.00 \t0.01 \n",
      "LOC  \t0.95 \t0.98 \t0.27 \t0.43 \n",
      "MISC \t0.00 \t0.00 \t0.00 \t0.00 \n",
      "O    \t0.88 \t0.87 \t0.99 \t0.93 \n",
      "micro\t0.94 \t0.85 \t0.85 \t0.85 \n",
      "macro\t0.74 \t0.59 \t0.39 \t0.40 \n",
      "not-O\t0.95 \t0.67 \t0.35 \t0.46 \n",
      "\n",
      "INFO:Entity level P/R/F1: 0.52/0.26/0.35\n",
      "INFO:Epoch 3 out of 10\n"
     ]
    },
    {
     "name": "stdout",
     "output_type": "stream",
     "text": [
      "\n",
      "5/5 [==============================] - 0s - train loss: 0.4931     "
     ]
    },
    {
     "name": "stderr",
     "output_type": "stream",
     "text": [
      "INFO:Evaluating on development data\n"
     ]
    },
    {
     "name": "stdout",
     "output_type": "stream",
     "text": [
      "\n",
      "\n",
      "5/5 [==============================] - 0s     "
     ]
    },
    {
     "name": "stderr",
     "output_type": "stream",
     "text": [
      "DEBUG:Token-level confusion matrix:\n",
      "go\\gu  \tPER    \tORG    \tLOC    \tMISC   \tO      \n",
      "PER    \t715.00 \t2.00   \t2.00   \t0.00   \t105.00 \n",
      "ORG    \t229.00 \t3.00   \t13.00  \t0.00   \t146.00 \n",
      "LOC    \t122.00 \t1.00   \t269.00 \t0.00   \t185.00 \n",
      "MISC   \t92.00  \t1.00   \t7.00   \t8.00   \t150.00 \n",
      "O      \t183.00 \t3.00   \t41.00  \t1.00   \t6888.00\n",
      "\n"
     ]
    },
    {
     "name": "stdout",
     "output_type": "stream",
     "text": [
      "\n"
     ]
    },
    {
     "name": "stderr",
     "output_type": "stream",
     "text": [
      "DEBUG:Token-level scores:\n",
      "label\tacc  \tprec \trec  \tf1   \n",
      "PER  \t0.92 \t0.53 \t0.87 \t0.66 \n",
      "ORG  \t0.96 \t0.30 \t0.01 \t0.01 \n",
      "LOC  \t0.96 \t0.81 \t0.47 \t0.59 \n",
      "MISC \t0.97 \t0.89 \t0.03 \t0.06 \n",
      "O    \t0.91 \t0.92 \t0.97 \t0.94 \n",
      "micro\t0.94 \t0.86 \t0.86 \t0.86 \n",
      "macro\t0.94 \t0.69 \t0.47 \t0.45 \n",
      "not-O\t0.95 \t0.59 \t0.49 \t0.53 \n",
      "\n",
      "INFO:Entity level P/R/F1: 0.56/0.43/0.48\n",
      "INFO:Epoch 4 out of 10\n"
     ]
    },
    {
     "name": "stdout",
     "output_type": "stream",
     "text": [
      "\n",
      "5/5 [==============================] - 0s - train loss: 0.4277     "
     ]
    },
    {
     "name": "stderr",
     "output_type": "stream",
     "text": [
      "INFO:Evaluating on development data\n"
     ]
    },
    {
     "name": "stdout",
     "output_type": "stream",
     "text": [
      "\n",
      "\n",
      "5/5 [==============================] - 0s     "
     ]
    },
    {
     "name": "stderr",
     "output_type": "stream",
     "text": [
      "DEBUG:Token-level confusion matrix:\n",
      "go\\gu  \tPER    \tORG    \tLOC    \tMISC   \tO      \n",
      "PER    \t708.00 \t14.00  \t41.00  \t4.00   \t57.00  \n",
      "ORG    \t184.00 \t35.00  \t61.00  \t15.00  \t96.00  \n",
      "LOC    \t76.00  \t21.00  \t415.00 \t10.00  \t55.00  \n",
      "MISC   \t71.00  \t11.00  \t52.00  \t62.00  \t62.00  \n",
      "O      \t110.00 \t38.00  \t157.00 \t3.00   \t6808.00\n",
      "\n"
     ]
    },
    {
     "name": "stdout",
     "output_type": "stream",
     "text": [
      "\n"
     ]
    },
    {
     "name": "stderr",
     "output_type": "stream",
     "text": [
      "DEBUG:Token-level scores:\n",
      "label\tacc  \tprec \trec  \tf1   \n",
      "PER  \t0.94 \t0.62 \t0.86 \t0.72 \n",
      "ORG  \t0.95 \t0.29 \t0.09 \t0.14 \n",
      "LOC  \t0.95 \t0.57 \t0.72 \t0.64 \n",
      "MISC \t0.98 \t0.66 \t0.24 \t0.35 \n",
      "O    \t0.94 \t0.96 \t0.96 \t0.96 \n",
      "micro\t0.95 \t0.88 \t0.88 \t0.88 \n",
      "macro\t0.95 \t0.62 \t0.57 \t0.56 \n",
      "not-O\t0.95 \t0.58 \t0.60 \t0.59 \n",
      "\n",
      "INFO:Entity level P/R/F1: 0.51/0.56/0.53\n",
      "INFO:Epoch 5 out of 10\n"
     ]
    },
    {
     "name": "stdout",
     "output_type": "stream",
     "text": [
      "\n",
      "5/5 [==============================] - 0s - train loss: 0.3871     "
     ]
    },
    {
     "name": "stderr",
     "output_type": "stream",
     "text": [
      "INFO:Evaluating on development data\n"
     ]
    },
    {
     "name": "stdout",
     "output_type": "stream",
     "text": [
      "\n",
      "\n",
      "5/5 [==============================] - 0s     \n"
     ]
    },
    {
     "name": "stderr",
     "output_type": "stream",
     "text": [
      "DEBUG:Token-level confusion matrix:\n",
      "go\\gu  \tPER    \tORG    \tLOC    \tMISC   \tO      \n",
      "PER    \t704.00 \t17.00  \t51.00  \t9.00   \t43.00  \n",
      "ORG    \t144.00 \t59.00  \t67.00  \t28.00  \t93.00  \n",
      "LOC    \t45.00  \t13.00  \t447.00 \t22.00  \t50.00  \n",
      "MISC   \t50.00  \t17.00  \t32.00  \t100.00 \t59.00  \n",
      "O      \t71.00  \t36.00  \t168.00 \t9.00   \t6832.00\n",
      "\n",
      "DEBUG:Token-level scores:\n",
      "label\tacc  \tprec \trec  \tf1   \n",
      "PER  \t0.95 \t0.69 \t0.85 \t0.77 \n",
      "ORG  \t0.95 \t0.42 \t0.15 \t0.22 \n",
      "LOC  \t0.95 \t0.58 \t0.77 \t0.67 \n",
      "MISC \t0.98 \t0.60 \t0.39 \t0.47 \n",
      "O    \t0.94 \t0.97 \t0.96 \t0.96 \n",
      "micro\t0.96 \t0.89 \t0.89 \t0.89 \n",
      "macro\t0.96 \t0.65 \t0.63 \t0.62 \n",
      "not-O\t0.96 \t0.63 \t0.64 \t0.63 \n",
      "\n",
      "INFO:Entity level P/R/F1: 0.52/0.60/0.56\n",
      "INFO:Epoch 6 out of 10\n"
     ]
    },
    {
     "name": "stdout",
     "output_type": "stream",
     "text": [
      "\n",
      "5/5 [==============================] - 0s - train loss: 0.3638     "
     ]
    },
    {
     "name": "stderr",
     "output_type": "stream",
     "text": [
      "INFO:Evaluating on development data\n"
     ]
    },
    {
     "name": "stdout",
     "output_type": "stream",
     "text": [
      "\n",
      "\n",
      "5/5 [==============================] - 0s     "
     ]
    },
    {
     "name": "stderr",
     "output_type": "stream",
     "text": [
      "DEBUG:Token-level confusion matrix:\n",
      "go\\gu  \tPER    \tORG    \tLOC    \tMISC   \tO      \n",
      "PER    \t711.00 \t7.00   \t30.00  \t8.00   \t68.00  \n",
      "ORG    \t167.00 \t32.00  \t38.00  \t25.00  \t129.00 \n",
      "LOC    \t45.00  \t4.00   \t440.00 \t22.00  \t66.00  \n",
      "MISC   \t53.00  \t8.00   \t22.00  \t103.00 \t72.00  \n",
      "O      \t59.00  \t16.00  \t94.00  \t7.00   \t6940.00\n",
      "\n"
     ]
    },
    {
     "name": "stdout",
     "output_type": "stream",
     "text": [
      "\n"
     ]
    },
    {
     "name": "stderr",
     "output_type": "stream",
     "text": [
      "DEBUG:Token-level scores:\n",
      "label\tacc  \tprec \trec  \tf1   \n",
      "PER  \t0.95 \t0.69 \t0.86 \t0.76 \n",
      "ORG  \t0.96 \t0.48 \t0.08 \t0.14 \n",
      "LOC  \t0.96 \t0.71 \t0.76 \t0.73 \n",
      "MISC \t0.98 \t0.62 \t0.40 \t0.49 \n",
      "O    \t0.94 \t0.95 \t0.98 \t0.96 \n",
      "micro\t0.96 \t0.90 \t0.90 \t0.90 \n",
      "macro\t0.96 \t0.69 \t0.62 \t0.62 \n",
      "not-O\t0.96 \t0.68 \t0.63 \t0.65 \n",
      "\n",
      "INFO:Entity level P/R/F1: 0.58/0.58/0.58\n",
      "INFO:Epoch 7 out of 10\n"
     ]
    },
    {
     "name": "stdout",
     "output_type": "stream",
     "text": [
      "\n",
      "5/5 [==============================] - 0s - train loss: 0.3358     "
     ]
    },
    {
     "name": "stderr",
     "output_type": "stream",
     "text": [
      "INFO:Evaluating on development data\n"
     ]
    },
    {
     "name": "stdout",
     "output_type": "stream",
     "text": [
      "\n",
      "\n",
      "5/5 [==============================] - 0s     "
     ]
    },
    {
     "name": "stderr",
     "output_type": "stream",
     "text": [
      "DEBUG:Token-level confusion matrix:\n",
      "go\\gu  \tPER    \tORG    \tLOC    \tMISC   \tO      \n",
      "PER    \t718.00 \t3.00   \t19.00  \t6.00   \t78.00  \n",
      "ORG    \t172.00 \t28.00  \t24.00  \t20.00  \t147.00 \n",
      "LOC    \t49.00  \t3.00   \t424.00 \t19.00  \t82.00  \n",
      "MISC   \t56.00  \t6.00   \t12.00  \t106.00 \t78.00  \n",
      "O      \t63.00  \t11.00  \t34.00  \t4.00   \t7004.00\n",
      "\n",
      "DEBUG:Token-level scores:\n",
      "label\tacc  \tprec \trec  \tf1   \n",
      "PER  \t0.95 \t0.68 \t0.87 \t0.76 \n",
      "ORG  \t0.96 \t0.55 \t0.07 \t0.13 \n",
      "LOC  \t0.97 \t0.83 \t0.73 \t0.78 \n",
      "MISC \t0.98 \t0.68 \t0.41 \t0.51 \n",
      "O    \t0.95 \t0.95 \t0.98 \t0.97 \n",
      "micro\t0.96 \t0.90 \t0.90 \t0.90 \n",
      "macro\t0.96 \t0.74 \t0.61 \t0.63 \n",
      "not-O\t0.97 \t0.72 \t0.62 \t0.67 \n",
      "\n",
      "INFO:Entity level P/R/F1: 0.63/0.58/0.61\n",
      "INFO:Epoch 8 out of 10\n"
     ]
    },
    {
     "name": "stdout",
     "output_type": "stream",
     "text": [
      "\n",
      "\n",
      "5/5 [==============================] - 0s - train loss: 0.3230     "
     ]
    },
    {
     "name": "stderr",
     "output_type": "stream",
     "text": [
      "INFO:Evaluating on development data\n"
     ]
    },
    {
     "name": "stdout",
     "output_type": "stream",
     "text": [
      "\n",
      "\n",
      "5/5 [==============================] - 0s     \n"
     ]
    },
    {
     "name": "stderr",
     "output_type": "stream",
     "text": [
      "DEBUG:Token-level confusion matrix:\n",
      "go\\gu  \tPER    \tORG    \tLOC    \tMISC   \tO      \n",
      "PER    \t725.00 \t3.00   \t16.00  \t6.00   \t74.00  \n",
      "ORG    \t180.00 \t34.00  \t22.00  \t19.00  \t136.00 \n",
      "LOC    \t51.00  \t4.00   \t417.00 \t18.00  \t87.00  \n",
      "MISC   \t54.00  \t8.00   \t12.00  \t107.00 \t77.00  \n",
      "O      \t65.00  \t13.00  \t12.00  \t4.00   \t7022.00\n",
      "\n",
      "DEBUG:Token-level scores:\n",
      "label\tacc  \tprec \trec  \tf1   \n",
      "PER  \t0.95 \t0.67 \t0.88 \t0.76 \n",
      "ORG  \t0.96 \t0.55 \t0.09 \t0.15 \n",
      "LOC  \t0.98 \t0.87 \t0.72 \t0.79 \n",
      "MISC \t0.98 \t0.69 \t0.41 \t0.52 \n",
      "O    \t0.95 \t0.95 \t0.99 \t0.97 \n",
      "micro\t0.96 \t0.91 \t0.91 \t0.91 \n",
      "macro\t0.96 \t0.75 \t0.62 \t0.64 \n",
      "not-O\t0.97 \t0.72 \t0.63 \t0.67 \n",
      "\n",
      "INFO:Entity level P/R/F1: 0.64/0.58/0.61\n",
      "INFO:Epoch 9 out of 10\n"
     ]
    },
    {
     "name": "stdout",
     "output_type": "stream",
     "text": [
      "\n",
      "5/5 [==============================] - 0s - train loss: 0.3034     "
     ]
    },
    {
     "name": "stderr",
     "output_type": "stream",
     "text": [
      "INFO:Evaluating on development data\n"
     ]
    },
    {
     "name": "stdout",
     "output_type": "stream",
     "text": [
      "\n",
      "\n",
      "5/5 [==============================] - 0s     "
     ]
    },
    {
     "name": "stderr",
     "output_type": "stream",
     "text": [
      "DEBUG:Token-level confusion matrix:\n",
      "go\\gu  \tPER    \tORG    \tLOC    \tMISC   \tO      \n",
      "PER    \t730.00 \t4.00   \t17.00  \t6.00   \t67.00  \n",
      "ORG    \t166.00 \t59.00  \t25.00  \t16.00  \t125.00 \n",
      "LOC    \t47.00  \t12.00  \t436.00 \t10.00  \t72.00  \n",
      "MISC   \t47.00  \t13.00  \t11.00  \t116.00 \t71.00  \n",
      "O      \t62.00  \t18.00  \t15.00  \t4.00   \t7017.00\n",
      "\n",
      "DEBUG:Token-level scores:\n",
      "label\tacc  \tprec \trec  \tf1   \n",
      "PER  \t0.95 \t0.69 \t0.89 \t0.78 \n",
      "ORG  \t0.96 \t0.56 \t0.15 \t0.24 \n",
      "LOC  \t0.98 \t0.87 \t0.76 \t0.81 \n",
      "MISC \t0.98 \t0.76 \t0.45 \t0.57 \n",
      "O    \t0.95 \t0.95 \t0.99 \t0.97 \n",
      "micro\t0.96 \t0.91 \t0.91 \t0.91 \n",
      "macro\t0.96 \t0.77 \t0.65 \t0.67 \n",
      "not-O\t0.97 \t0.74 \t0.65 \t0.69 \n",
      "\n",
      "INFO:Entity level P/R/F1: 0.64/0.60/0.62\n",
      "INFO:Epoch 10 out of 10\n"
     ]
    },
    {
     "name": "stdout",
     "output_type": "stream",
     "text": [
      "\n",
      "\n",
      "5/5 [==============================] - 0s - train loss: 0.2922     "
     ]
    },
    {
     "name": "stderr",
     "output_type": "stream",
     "text": [
      "INFO:Evaluating on development data\n"
     ]
    },
    {
     "name": "stdout",
     "output_type": "stream",
     "text": [
      "\n",
      "\n",
      "5/5 [==============================] - 0s     "
     ]
    },
    {
     "name": "stderr",
     "output_type": "stream",
     "text": [
      "DEBUG:Token-level confusion matrix:\n",
      "go\\gu  \tPER    \tORG    \tLOC    \tMISC   \tO      \n",
      "PER    \t737.00 \t8.00   \t19.00  \t7.00   \t53.00  \n",
      "ORG    \t145.00 \t83.00  \t31.00  \t17.00  \t115.00 \n",
      "LOC    \t38.00  \t18.00  \t459.00 \t11.00  \t51.00  \n",
      "MISC   \t40.00  \t20.00  \t12.00  \t124.00 \t62.00  \n",
      "O      \t50.00  \t30.00  \t28.00  \t4.00   \t7004.00\n",
      "\n"
     ]
    },
    {
     "name": "stdout",
     "output_type": "stream",
     "text": [
      "\n"
     ]
    },
    {
     "name": "stderr",
     "output_type": "stream",
     "text": [
      "DEBUG:Token-level scores:\n",
      "label\tacc  \tprec \trec  \tf1   \n",
      "PER  \t0.96 \t0.73 \t0.89 \t0.80 \n",
      "ORG  \t0.96 \t0.52 \t0.21 \t0.30 \n",
      "LOC  \t0.98 \t0.84 \t0.80 \t0.82 \n",
      "MISC \t0.98 \t0.76 \t0.48 \t0.59 \n",
      "O    \t0.96 \t0.96 \t0.98 \t0.97 \n",
      "micro\t0.97 \t0.92 \t0.92 \t0.92 \n",
      "macro\t0.97 \t0.76 \t0.67 \t0.70 \n",
      "not-O\t0.97 \t0.75 \t0.68 \t0.71 \n",
      "\n",
      "INFO:Entity level P/R/F1: 0.64/0.64/0.64\n",
      "INFO:Model did not crash!\n",
      "INFO:Passed!\n"
     ]
    },
    {
     "name": "stdout",
     "output_type": "stream",
     "text": [
      "\n"
     ]
    }
   ],
   "source": [
    "%run q1_window.py test2"
   ]
  },
  {
   "cell_type": "code",
   "execution_count": 3,
   "metadata": {
    "collapsed": false
   },
   "outputs": [
    {
     "name": "stderr",
     "output_type": "stream",
     "text": [
      "INFO:Loading training data...\n",
      "INFO:Done. Read 14041 sentences\n",
      "INFO:Loading dev data...\n",
      "INFO:Done. Read 3250 sentences\n",
      "INFO:Built dictionary for 10007 features.\n",
      "INFO:Initialized embeddings.\n",
      "INFO:Building model...\n",
      "INFO:took 0.19 seconds\n",
      "INFO:Epoch 1 out of 10\n"
     ]
    },
    {
     "name": "stdout",
     "output_type": "stream",
     "text": [
      "100/100 [==============================] - 1s - train loss: 0.3673     "
     ]
    },
    {
     "name": "stderr",
     "output_type": "stream",
     "text": [
      "INFO:Evaluating on development data\n"
     ]
    },
    {
     "name": "stdout",
     "output_type": "stream",
     "text": [
      "\n",
      "\n",
      "26/26 [==============================] - 0s     \n"
     ]
    },
    {
     "name": "stderr",
     "output_type": "stream",
     "text": [
      "DEBUG:Token-level confusion matrix:\n",
      "go\\gu   \tPER     \tORG     \tLOC     \tMISC    \tO       \n",
      "PER     \t2698.00 \t113.00  \t81.00   \t10.00   \t247.00  \n",
      "ORG     \t492.00  \t933.00  \t241.00  \t112.00  \t314.00  \n",
      "LOC     \t176.00  \t186.00  \t1356.00 \t105.00  \t271.00  \n",
      "MISC    \t150.00  \t190.00  \t97.00   \t592.00  \t239.00  \n",
      "O       \t142.00  \t108.00  \t43.00   \t24.00   \t42442.00\n",
      "\n",
      "DEBUG:Token-level scores:\n",
      "label\tacc  \tprec \trec  \tf1   \n",
      "PER  \t0.97 \t0.74 \t0.86 \t0.79 \n",
      "ORG  \t0.97 \t0.61 \t0.45 \t0.52 \n",
      "LOC  \t0.98 \t0.75 \t0.65 \t0.69 \n",
      "MISC \t0.98 \t0.70 \t0.47 \t0.56 \n",
      "O    \t0.97 \t0.98 \t0.99 \t0.98 \n",
      "micro\t0.97 \t0.93 \t0.93 \t0.93 \n",
      "macro\t0.97 \t0.75 \t0.68 \t0.71 \n",
      "not-O\t0.97 \t0.71 \t0.65 \t0.68 \n",
      "\n",
      "INFO:Entity level P/R/F1: 0.59/0.60/0.60\n",
      "INFO:New best score! Saving model in results/window/20170703_231418/model.weights\n",
      "INFO:Epoch 2 out of 10\n"
     ]
    },
    {
     "name": "stdout",
     "output_type": "stream",
     "text": [
      "\n",
      "100/100 [==============================] - 1s - train loss: 0.2110     "
     ]
    },
    {
     "name": "stderr",
     "output_type": "stream",
     "text": [
      "INFO:Evaluating on development data\n"
     ]
    },
    {
     "name": "stdout",
     "output_type": "stream",
     "text": [
      "\n",
      "\n",
      "26/26 [==============================] - 0s     \n"
     ]
    },
    {
     "name": "stderr",
     "output_type": "stream",
     "text": [
      "DEBUG:Token-level confusion matrix:\n",
      "go\\gu   \tPER     \tORG     \tLOC     \tMISC    \tO       \n",
      "PER     \t2694.00 \t125.00  \t101.00  \t15.00   \t214.00  \n",
      "ORG     \t381.00  \t1102.00 \t238.00  \t111.00  \t260.00  \n",
      "LOC     \t117.00  \t194.00  \t1488.00 \t82.00   \t213.00  \n",
      "MISC    \t96.00   \t203.00  \t106.00  \t680.00  \t183.00  \n",
      "O       \t121.00  \t122.00  \t45.00   \t34.00   \t42437.00\n",
      "\n",
      "DEBUG:Token-level scores:\n",
      "label\tacc  \tprec \trec  \tf1   \n",
      "PER  \t0.98 \t0.79 \t0.86 \t0.82 \n",
      "ORG  \t0.97 \t0.63 \t0.53 \t0.57 \n",
      "LOC  \t0.98 \t0.75 \t0.71 \t0.73 \n",
      "MISC \t0.98 \t0.74 \t0.54 \t0.62 \n",
      "O    \t0.98 \t0.98 \t0.99 \t0.99 \n",
      "micro\t0.98 \t0.94 \t0.94 \t0.94 \n",
      "macro\t0.98 \t0.78 \t0.72 \t0.75 \n",
      "not-O\t0.98 \t0.74 \t0.69 \t0.72 \n",
      "\n",
      "INFO:Entity level P/R/F1: 0.63/0.65/0.64\n",
      "INFO:New best score! Saving model in results/window/20170703_231418/model.weights\n",
      "INFO:Epoch 3 out of 10\n"
     ]
    },
    {
     "name": "stdout",
     "output_type": "stream",
     "text": [
      "\n",
      "100/100 [==============================] - 1s - train loss: 0.1888     "
     ]
    },
    {
     "name": "stderr",
     "output_type": "stream",
     "text": [
      "INFO:Evaluating on development data\n"
     ]
    },
    {
     "name": "stdout",
     "output_type": "stream",
     "text": [
      "\n",
      "\n",
      "26/26 [==============================] - 0s     \n"
     ]
    },
    {
     "name": "stderr",
     "output_type": "stream",
     "text": [
      "DEBUG:Token-level confusion matrix:\n",
      "go\\gu   \tPER     \tORG     \tLOC     \tMISC    \tO       \n",
      "PER     \t2750.00 \t108.00  \t116.00  \t20.00   \t155.00  \n",
      "ORG     \t397.00  \t1138.00 \t204.00  \t123.00  \t230.00  \n",
      "LOC     \t130.00  \t188.00  \t1530.00 \t82.00   \t164.00  \n",
      "MISC    \t109.00  \t165.00  \t89.00   \t735.00  \t170.00  \n",
      "O       \t118.00  \t105.00  \t42.00   \t37.00   \t42457.00\n",
      "\n",
      "DEBUG:Token-level scores:\n",
      "label\tacc  \tprec \trec  \tf1   \n",
      "PER  \t0.98 \t0.78 \t0.87 \t0.83 \n",
      "ORG  \t0.97 \t0.67 \t0.54 \t0.60 \n",
      "LOC  \t0.98 \t0.77 \t0.73 \t0.75 \n",
      "MISC \t0.98 \t0.74 \t0.58 \t0.65 \n",
      "O    \t0.98 \t0.98 \t0.99 \t0.99 \n",
      "micro\t0.98 \t0.95 \t0.95 \t0.95 \n",
      "macro\t0.98 \t0.79 \t0.74 \t0.76 \n",
      "not-O\t0.98 \t0.75 \t0.72 \t0.73 \n",
      "\n",
      "INFO:Entity level P/R/F1: 0.64/0.67/0.66\n",
      "INFO:New best score! Saving model in results/window/20170703_231418/model.weights\n",
      "INFO:Epoch 4 out of 10\n"
     ]
    },
    {
     "name": "stdout",
     "output_type": "stream",
     "text": [
      "\n",
      "100/100 [==============================] - 1s - train loss: 0.1782     "
     ]
    },
    {
     "name": "stderr",
     "output_type": "stream",
     "text": [
      "INFO:Evaluating on development data\n"
     ]
    },
    {
     "name": "stdout",
     "output_type": "stream",
     "text": [
      "\n",
      "\n",
      "26/26 [==============================] - 0s     "
     ]
    },
    {
     "name": "stderr",
     "output_type": "stream",
     "text": [
      "DEBUG:Token-level confusion matrix:\n",
      "go\\gu   \tPER     \tORG     \tLOC     \tMISC    \tO       \n",
      "PER     \t2754.00 \t109.00  \t113.00  \t8.00    \t165.00  \n",
      "ORG     \t383.00  \t1183.00 \t201.00  \t89.00   \t236.00  \n",
      "LOC     \t120.00  \t212.00  \t1546.00 \t51.00   \t165.00  \n",
      "MISC    \t110.00  \t163.00  \t102.00  \t738.00  \t155.00  \n",
      "O       \t101.00  \t91.00   \t42.00   \t31.00   \t42494.00\n",
      "\n"
     ]
    },
    {
     "name": "stdout",
     "output_type": "stream",
     "text": [
      "\n"
     ]
    },
    {
     "name": "stderr",
     "output_type": "stream",
     "text": [
      "DEBUG:Token-level scores:\n",
      "label\tacc  \tprec \trec  \tf1   \n",
      "PER  \t0.98 \t0.79 \t0.87 \t0.83 \n",
      "ORG  \t0.97 \t0.67 \t0.57 \t0.61 \n",
      "LOC  \t0.98 \t0.77 \t0.74 \t0.75 \n",
      "MISC \t0.99 \t0.80 \t0.58 \t0.68 \n",
      "O    \t0.98 \t0.98 \t0.99 \t0.99 \n",
      "micro\t0.98 \t0.95 \t0.95 \t0.95 \n",
      "macro\t0.98 \t0.81 \t0.75 \t0.77 \n",
      "not-O\t0.98 \t0.76 \t0.72 \t0.74 \n",
      "\n",
      "INFO:Entity level P/R/F1: 0.65/0.68/0.67\n",
      "INFO:New best score! Saving model in results/window/20170703_231418/model.weights\n",
      "INFO:Epoch 5 out of 10\n"
     ]
    },
    {
     "name": "stdout",
     "output_type": "stream",
     "text": [
      "\n",
      "100/100 [==============================] - 1s - train loss: 0.1702     "
     ]
    },
    {
     "name": "stderr",
     "output_type": "stream",
     "text": [
      "INFO:Evaluating on development data\n"
     ]
    },
    {
     "name": "stdout",
     "output_type": "stream",
     "text": [
      "\n",
      "\n",
      "26/26 [==============================] - 0s     "
     ]
    },
    {
     "name": "stderr",
     "output_type": "stream",
     "text": [
      "DEBUG:Token-level confusion matrix:\n",
      "go\\gu   \tPER     \tORG     \tLOC     \tMISC    \tO       \n",
      "PER     \t2756.00 \t100.00  \t130.00  \t22.00   \t141.00  \n",
      "ORG     \t360.00  \t1170.00 \t229.00  \t111.00  \t222.00  \n",
      "LOC     \t117.00  \t183.00  \t1615.00 \t62.00   \t117.00  \n",
      "MISC    \t95.00   \t124.00  \t115.00  \t780.00  \t154.00  \n",
      "O       \t103.00  \t83.00   \t45.00   \t32.00   \t42496.00\n",
      "\n"
     ]
    },
    {
     "name": "stdout",
     "output_type": "stream",
     "text": [
      "\n"
     ]
    },
    {
     "name": "stderr",
     "output_type": "stream",
     "text": [
      "DEBUG:Token-level scores:\n",
      "label\tacc  \tprec \trec  \tf1   \n",
      "PER  \t0.98 \t0.80 \t0.88 \t0.84 \n",
      "ORG  \t0.97 \t0.70 \t0.56 \t0.62 \n",
      "LOC  \t0.98 \t0.76 \t0.77 \t0.76 \n",
      "MISC \t0.99 \t0.77 \t0.62 \t0.69 \n",
      "O    \t0.98 \t0.99 \t0.99 \t0.99 \n",
      "micro\t0.98 \t0.95 \t0.95 \t0.95 \n",
      "macro\t0.98 \t0.80 \t0.76 \t0.78 \n",
      "not-O\t0.98 \t0.77 \t0.73 \t0.75 \n",
      "\n",
      "INFO:Entity level P/R/F1: 0.66/0.70/0.68\n",
      "INFO:New best score! Saving model in results/window/20170703_231418/model.weights\n",
      "INFO:Epoch 6 out of 10\n"
     ]
    },
    {
     "name": "stdout",
     "output_type": "stream",
     "text": [
      "\n",
      "100/100 [==============================] - 1s - train loss: 0.1641     "
     ]
    },
    {
     "name": "stderr",
     "output_type": "stream",
     "text": [
      "INFO:Evaluating on development data\n"
     ]
    },
    {
     "name": "stdout",
     "output_type": "stream",
     "text": [
      "\n",
      "\n",
      "26/26 [==============================] - 0s     \n"
     ]
    },
    {
     "name": "stderr",
     "output_type": "stream",
     "text": [
      "DEBUG:Token-level confusion matrix:\n",
      "go\\gu   \tPER     \tORG     \tLOC     \tMISC    \tO       \n",
      "PER     \t2743.00 \t164.00  \t95.00   \t17.00   \t130.00  \n",
      "ORG     \t330.00  \t1282.00 \t169.00  \t93.00   \t218.00  \n",
      "LOC     \t111.00  \t235.00  \t1534.00 \t64.00   \t150.00  \n",
      "MISC    \t90.00   \t184.00  \t71.00   \t771.00  \t152.00  \n",
      "O       \t93.00   \t97.00   \t35.00   \t29.00   \t42505.00\n",
      "\n",
      "DEBUG:Token-level scores:\n",
      "label\tacc  \tprec \trec  \tf1   \n",
      "PER  \t0.98 \t0.81 \t0.87 \t0.84 \n",
      "ORG  \t0.97 \t0.65 \t0.61 \t0.63 \n",
      "LOC  \t0.98 \t0.81 \t0.73 \t0.77 \n",
      "MISC \t0.99 \t0.79 \t0.61 \t0.69 \n",
      "O    \t0.98 \t0.98 \t0.99 \t0.99 \n",
      "micro\t0.98 \t0.95 \t0.95 \t0.95 \n",
      "macro\t0.98 \t0.81 \t0.76 \t0.78 \n",
      "not-O\t0.98 \t0.77 \t0.74 \t0.75 \n",
      "\n",
      "INFO:Entity level P/R/F1: 0.66/0.69/0.68\n",
      "INFO:New best score! Saving model in results/window/20170703_231418/model.weights\n",
      "INFO:Epoch 7 out of 10\n"
     ]
    },
    {
     "name": "stdout",
     "output_type": "stream",
     "text": [
      "\n",
      "100/100 [==============================] - 1s - train loss: 0.1592     "
     ]
    },
    {
     "name": "stderr",
     "output_type": "stream",
     "text": [
      "INFO:Evaluating on development data\n"
     ]
    },
    {
     "name": "stdout",
     "output_type": "stream",
     "text": [
      "\n",
      "\n",
      "26/26 [==============================] - 0s     "
     ]
    },
    {
     "name": "stderr",
     "output_type": "stream",
     "text": [
      "DEBUG:Token-level confusion matrix:\n",
      "go\\gu   \tPER     \tORG     \tLOC     \tMISC    \tO       \n",
      "PER     \t2820.00 \t125.00  \t73.00   \t17.00   \t114.00  \n",
      "ORG     \t347.00  \t1270.00 \t148.00  \t107.00  \t220.00  \n",
      "LOC     \t139.00  \t264.00  \t1510.00 \t75.00   \t106.00  \n",
      "MISC    \t93.00   \t151.00  \t55.00   \t823.00  \t146.00  \n",
      "O       \t99.00   \t86.00   \t27.00   \t40.00   \t42507.00\n",
      "\n"
     ]
    },
    {
     "name": "stdout",
     "output_type": "stream",
     "text": [
      "\n"
     ]
    },
    {
     "name": "stderr",
     "output_type": "stream",
     "text": [
      "DEBUG:Token-level scores:\n",
      "label\tacc  \tprec \trec  \tf1   \n",
      "PER  \t0.98 \t0.81 \t0.90 \t0.85 \n",
      "ORG  \t0.97 \t0.67 \t0.61 \t0.64 \n",
      "LOC  \t0.98 \t0.83 \t0.72 \t0.77 \n",
      "MISC \t0.99 \t0.77 \t0.65 \t0.71 \n",
      "O    \t0.98 \t0.99 \t0.99 \t0.99 \n",
      "micro\t0.98 \t0.95 \t0.95 \t0.95 \n",
      "macro\t0.98 \t0.81 \t0.77 \t0.79 \n",
      "not-O\t0.98 \t0.78 \t0.75 \t0.76 \n",
      "\n",
      "INFO:Entity level P/R/F1: 0.66/0.71/0.69\n",
      "INFO:New best score! Saving model in results/window/20170703_231418/model.weights\n",
      "INFO:Epoch 8 out of 10\n"
     ]
    },
    {
     "name": "stdout",
     "output_type": "stream",
     "text": [
      "\n",
      "100/100 [==============================] - 1s - train loss: 0.1549     "
     ]
    },
    {
     "name": "stderr",
     "output_type": "stream",
     "text": [
      "INFO:Evaluating on development data\n"
     ]
    },
    {
     "name": "stdout",
     "output_type": "stream",
     "text": [
      "\n",
      "\n",
      "26/26 [==============================] - 0s     \n"
     ]
    },
    {
     "name": "stderr",
     "output_type": "stream",
     "text": [
      "DEBUG:Token-level confusion matrix:\n",
      "go\\gu   \tPER     \tORG     \tLOC     \tMISC    \tO       \n",
      "PER     \t2856.00 \t90.00   \t86.00   \t16.00   \t101.00  \n",
      "ORG     \t363.00  \t1233.00 \t192.00  \t99.00   \t205.00  \n",
      "LOC     \t127.00  \t209.00  \t1597.00 \t56.00   \t105.00  \n",
      "MISC    \t106.00  \t133.00  \t81.00   \t798.00  \t150.00  \n",
      "O       \t109.00  \t79.00   \t35.00   \t35.00   \t42501.00\n",
      "\n",
      "DEBUG:Token-level scores:\n",
      "label\tacc  \tprec \trec  \tf1   \n",
      "PER  \t0.98 \t0.80 \t0.91 \t0.85 \n",
      "ORG  \t0.97 \t0.71 \t0.59 \t0.64 \n",
      "LOC  \t0.98 \t0.80 \t0.76 \t0.78 \n",
      "MISC \t0.99 \t0.79 \t0.63 \t0.70 \n",
      "O    \t0.98 \t0.99 \t0.99 \t0.99 \n",
      "micro\t0.98 \t0.95 \t0.95 \t0.95 \n",
      "macro\t0.98 \t0.82 \t0.78 \t0.79 \n",
      "not-O\t0.98 \t0.78 \t0.75 \t0.77 \n",
      "\n",
      "INFO:Entity level P/R/F1: 0.68/0.72/0.70\n",
      "INFO:New best score! Saving model in results/window/20170703_231418/model.weights\n",
      "INFO:Epoch 9 out of 10\n"
     ]
    },
    {
     "name": "stdout",
     "output_type": "stream",
     "text": [
      "\n",
      "100/100 [==============================] - 0s - train loss: 0.1509     "
     ]
    },
    {
     "name": "stderr",
     "output_type": "stream",
     "text": [
      "INFO:Evaluating on development data\n"
     ]
    },
    {
     "name": "stdout",
     "output_type": "stream",
     "text": [
      "\n",
      "\n",
      "26/26 [==============================] - 1s     \n"
     ]
    },
    {
     "name": "stderr",
     "output_type": "stream",
     "text": [
      "DEBUG:Token-level confusion matrix:\n",
      "go\\gu   \tPER     \tORG     \tLOC     \tMISC    \tO       \n",
      "PER     \t2773.00 \t115.00  \t123.00  \t12.00   \t126.00  \n",
      "ORG     \t305.00  \t1314.00 \t187.00  \t77.00   \t209.00  \n",
      "LOC     \t111.00  \t230.00  \t1598.00 \t57.00   \t98.00   \n",
      "MISC    \t91.00   \t148.00  \t77.00   \t801.00  \t151.00  \n",
      "O       \t89.00   \t89.00   \t37.00   \t34.00   \t42510.00\n",
      "\n",
      "DEBUG:Token-level scores:\n",
      "label\tacc  \tprec \trec  \tf1   \n",
      "PER  \t0.98 \t0.82 \t0.88 \t0.85 \n",
      "ORG  \t0.97 \t0.69 \t0.63 \t0.66 \n",
      "LOC  \t0.98 \t0.79 \t0.76 \t0.78 \n",
      "MISC \t0.99 \t0.82 \t0.63 \t0.71 \n",
      "O    \t0.98 \t0.99 \t0.99 \t0.99 \n",
      "micro\t0.98 \t0.95 \t0.95 \t0.95 \n",
      "macro\t0.98 \t0.82 \t0.78 \t0.80 \n",
      "not-O\t0.98 \t0.78 \t0.75 \t0.77 \n",
      "\n",
      "INFO:Entity level P/R/F1: 0.67/0.71/0.69\n",
      "INFO:Epoch 10 out of 10\n"
     ]
    },
    {
     "name": "stdout",
     "output_type": "stream",
     "text": [
      "\n",
      "100/100 [==============================] - 0s - train loss: 0.1488     "
     ]
    },
    {
     "name": "stderr",
     "output_type": "stream",
     "text": [
      "INFO:Evaluating on development data\n"
     ]
    },
    {
     "name": "stdout",
     "output_type": "stream",
     "text": [
      "\n",
      "\n",
      "26/26 [==============================] - 1s     \n"
     ]
    },
    {
     "name": "stderr",
     "output_type": "stream",
     "text": [
      "DEBUG:Token-level confusion matrix:\n",
      "go\\gu   \tPER     \tORG     \tLOC     \tMISC    \tO       \n",
      "PER     \t2843.00 \t93.00   \t95.00   \t11.00   \t107.00  \n",
      "ORG     \t319.00  \t1327.00 \t178.00  \t69.00   \t199.00  \n",
      "LOC     \t114.00  \t210.00  \t1618.00 \t50.00   \t102.00  \n",
      "MISC    \t103.00  \t149.00  \t87.00   \t787.00  \t142.00  \n",
      "O       \t91.00   \t86.00   \t39.00   \t23.00   \t42520.00\n",
      "\n",
      "DEBUG:Token-level scores:\n",
      "label\tacc  \tprec \trec  \tf1   \n",
      "PER  \t0.98 \t0.82 \t0.90 \t0.86 \n",
      "ORG  \t0.97 \t0.71 \t0.63 \t0.67 \n",
      "LOC  \t0.98 \t0.80 \t0.77 \t0.79 \n",
      "MISC \t0.99 \t0.84 \t0.62 \t0.71 \n",
      "O    \t0.98 \t0.99 \t0.99 \t0.99 \n",
      "micro\t0.98 \t0.96 \t0.96 \t0.96 \n",
      "macro\t0.98 \t0.83 \t0.78 \t0.80 \n",
      "not-O\t0.98 \t0.79 \t0.76 \t0.78 \n",
      "\n",
      "INFO:Entity level P/R/F1: 0.69/0.73/0.71\n",
      "INFO:New best score! Saving model in results/window/20170703_231418/model.weights\n"
     ]
    },
    {
     "name": "stdout",
     "output_type": "stream",
     "text": [
      "\n",
      "26/26 [==============================] - 1s     \n"
     ]
    }
   ],
   "source": [
    "%run q1_window.py train"
   ]
  },
  {
   "cell_type": "markdown",
   "metadata": {},
   "source": [
    "## 2. Recurrent neural nets for NER (40 points)"
   ]
  },
  {
   "cell_type": "markdown",
   "metadata": {},
   "source": [
    "### (c)(d)(e)(f). Implement an RNN classifier model"
   ]
  },
  {
   "cell_type": "code",
   "execution_count": 1,
   "metadata": {
    "collapsed": false
   },
   "outputs": [
    {
     "name": "stderr",
     "output_type": "stream",
     "text": [
      "INFO:Testing rnn_cell\n",
      "INFO:Passed!\n"
     ]
    },
    {
     "name": "stdout",
     "output_type": "stream",
     "text": [
      "y_ = [[ 0.83201838  0.88079703]\n",
      " [ 0.7310586   0.62245935]]\n",
      "ht_ = [[ 0.83201838  0.88079703]\n",
      " [ 0.7310586   0.62245935]]\n"
     ]
    }
   ],
   "source": [
    "%run q2_rnn_cell.py test"
   ]
  },
  {
   "cell_type": "code",
   "execution_count": 2,
   "metadata": {
    "collapsed": false
   },
   "outputs": [
    {
     "name": "stderr",
     "output_type": "stream",
     "text": [
      "INFO:Testing pad_sequences\n",
      "INFO:Passed!\n"
     ]
    }
   ],
   "source": [
    "%run q2_rnn.py test1"
   ]
  },
  {
   "cell_type": "code",
   "execution_count": 8,
   "metadata": {
    "collapsed": false
   },
   "outputs": [
    {
     "name": "stderr",
     "output_type": "stream",
     "text": [
      "INFO:Testing implementation of RNNModel\n",
      "INFO:Loading training data...\n",
      "INFO:Done. Read 721 sentences\n",
      "INFO:Loading dev data...\n",
      "INFO:Done. Read 721 sentences\n",
      "INFO:Built dictionary for 2653 features.\n",
      "INFO:Initialized embeddings.\n",
      "INFO:Building model...\n",
      "d:\\Anaconda3\\lib\\site-packages\\tensorflow\\python\\ops\\gradients_impl.py:93: UserWarning: Converting sparse IndexedSlices to a dense Tensor of unknown shape. This may consume a large amount of memory.\n",
      "  \"Converting sparse IndexedSlices to a dense Tensor of unknown shape. \"\n",
      "INFO:took 6.23 seconds\n",
      "INFO:Epoch 1 out of 10\n"
     ]
    },
    {
     "name": "stdout",
     "output_type": "stream",
     "text": [
      "23/23 [==============================] - 1s - train loss: 0.9052     "
     ]
    },
    {
     "name": "stderr",
     "output_type": "stream",
     "text": [
      "INFO:Evaluating on development data\n"
     ]
    },
    {
     "name": "stdout",
     "output_type": "stream",
     "text": [
      "\n",
      "\n",
      "23/23 [==============================] - 4s     \n"
     ]
    },
    {
     "name": "stderr",
     "output_type": "stream",
     "text": [
      "DEBUG:Token-level confusion matrix:\n",
      "go\\gu  \tPER    \tORG    \tLOC    \tMISC   \tO      \n",
      "PER    \t729.00 \t0.00   \t15.00  \t0.00   \t80.00  \n",
      "ORG    \t246.00 \t0.00   \t36.00  \t0.00   \t109.00 \n",
      "LOC    \t132.00 \t0.00   \t326.00 \t0.00   \t119.00 \n",
      "MISC   \t99.00  \t0.00   \t24.00  \t0.00   \t135.00 \n",
      "O      \t202.00 \t3.00   \t112.00 \t0.00   \t6799.00\n",
      "\n",
      "DEBUG:Token-level scores:\n",
      "label\tacc  \tprec \trec  \tf1   \n",
      "PER  \t0.92 \t0.52 \t0.88 \t0.65 \n",
      "ORG  \t0.00 \t0.00 \t0.00 \t0.00 \n",
      "LOC  \t0.95 \t0.64 \t0.56 \t0.60 \n",
      "MISC \t0.00 \t0.00 \t0.00 \t0.00 \n",
      "O    \t0.92 \t0.94 \t0.96 \t0.95 \n",
      "micro\t0.94 \t0.86 \t0.86 \t0.86 \n",
      "macro\t0.56 \t0.42 \t0.48 \t0.44 \n",
      "not-O\t0.95 \t0.55 \t0.51 \t0.53 \n",
      "\n",
      "INFO:Entity level P/R/F1: 0.51/0.47/0.49\n",
      "INFO:Epoch 2 out of 10\n"
     ]
    },
    {
     "name": "stdout",
     "output_type": "stream",
     "text": [
      "\n",
      "23/23 [==============================] - 0s - train loss: 0.4444     "
     ]
    },
    {
     "name": "stderr",
     "output_type": "stream",
     "text": [
      "INFO:Evaluating on development data\n"
     ]
    },
    {
     "name": "stdout",
     "output_type": "stream",
     "text": [
      "\n",
      "\n",
      "23/23 [==============================] - 4s     "
     ]
    },
    {
     "name": "stderr",
     "output_type": "stream",
     "text": [
      "DEBUG:Token-level confusion matrix:\n",
      "go\\gu  \tPER    \tORG    \tLOC    \tMISC   \tO      \n",
      "PER    \t705.00 \t0.00   \t7.00   \t1.00   \t111.00 \n",
      "ORG    \t216.00 \t0.00   \t16.00  \t0.00   \t159.00 \n",
      "LOC    \t108.00 \t0.00   \t302.00 \t1.00   \t166.00 \n",
      "MISC   \t81.00  \t0.00   \t12.00  \t25.00  \t140.00 \n",
      "O      \t106.00 \t0.00   \t17.00  \t0.00   \t6993.00\n",
      "\n"
     ]
    },
    {
     "name": "stdout",
     "output_type": "stream",
     "text": [
      "\n"
     ]
    },
    {
     "name": "stderr",
     "output_type": "stream",
     "text": [
      "DEBUG:Token-level scores:\n",
      "label\tacc  \tprec \trec  \tf1   \n",
      "PER  \t0.93 \t0.58 \t0.86 \t0.69 \n",
      "ORG  \t0.00 \t0.00 \t0.00 \t0.00 \n",
      "LOC  \t0.96 \t0.85 \t0.52 \t0.65 \n",
      "MISC \t0.97 \t0.93 \t0.10 \t0.18 \n",
      "O    \t0.92 \t0.92 \t0.98 \t0.95 \n",
      "micro\t0.95 \t0.88 \t0.88 \t0.88 \n",
      "macro\t0.76 \t0.66 \t0.49 \t0.49 \n",
      "not-O\t0.96 \t0.65 \t0.50 \t0.57 \n",
      "\n",
      "INFO:Entity level P/R/F1: 0.62/0.45/0.52\n",
      "INFO:Epoch 3 out of 10\n"
     ]
    },
    {
     "name": "stdout",
     "output_type": "stream",
     "text": [
      "\n",
      "23/23 [==============================] - 0s - train loss: 0.3732     "
     ]
    },
    {
     "name": "stderr",
     "output_type": "stream",
     "text": [
      "INFO:Evaluating on development data\n"
     ]
    },
    {
     "name": "stdout",
     "output_type": "stream",
     "text": [
      "\n",
      "\n",
      "23/23 [==============================] - 4s     \n"
     ]
    },
    {
     "name": "stderr",
     "output_type": "stream",
     "text": [
      "DEBUG:Token-level confusion matrix:\n",
      "go\\gu  \tPER    \tORG    \tLOC    \tMISC   \tO      \n",
      "PER    \t707.00 \t7.00   \t24.00  \t5.00   \t81.00  \n",
      "ORG    \t174.00 \t41.00  \t33.00  \t16.00  \t127.00 \n",
      "LOC    \t53.00  \t13.00  \t425.00 \t6.00   \t80.00  \n",
      "MISC   \t61.00  \t9.00   \t28.00  \t79.00  \t81.00  \n",
      "O      \t76.00  \t7.00   \t68.00  \t2.00   \t6963.00\n",
      "\n",
      "DEBUG:Token-level scores:\n",
      "label\tacc  \tprec \trec  \tf1   \n",
      "PER  \t0.95 \t0.66 \t0.86 \t0.75 \n",
      "ORG  \t0.96 \t0.53 \t0.10 \t0.18 \n",
      "LOC  \t0.97 \t0.74 \t0.74 \t0.74 \n",
      "MISC \t0.98 \t0.73 \t0.31 \t0.43 \n",
      "O    \t0.94 \t0.95 \t0.98 \t0.96 \n",
      "micro\t0.96 \t0.90 \t0.90 \t0.90 \n",
      "macro\t0.96 \t0.72 \t0.60 \t0.61 \n",
      "not-O\t0.96 \t0.68 \t0.61 \t0.64 \n",
      "\n",
      "INFO:Entity level P/R/F1: 0.60/0.56/0.58\n",
      "INFO:Epoch 4 out of 10\n"
     ]
    },
    {
     "name": "stdout",
     "output_type": "stream",
     "text": [
      "\n",
      "23/23 [==============================] - 0s - train loss: 0.3395     "
     ]
    },
    {
     "name": "stderr",
     "output_type": "stream",
     "text": [
      "INFO:Evaluating on development data\n"
     ]
    },
    {
     "name": "stdout",
     "output_type": "stream",
     "text": [
      "\n",
      "\n",
      "23/23 [==============================] - 4s     "
     ]
    },
    {
     "name": "stderr",
     "output_type": "stream",
     "text": [
      "DEBUG:Token-level confusion matrix:\n",
      "go\\gu  \tPER    \tORG    \tLOC    \tMISC   \tO      \n",
      "PER    \t713.00 \t13.00  \t21.00  \t4.00   \t73.00  \n",
      "ORG    \t148.00 \t75.00  \t23.00  \t16.00  \t129.00 \n",
      "LOC    \t31.00  \t24.00  \t433.00 \t8.00   \t81.00  \n",
      "MISC   \t52.00  \t16.00  \t22.00  \t87.00  \t81.00  \n",
      "O      \t64.00  \t20.00  \t33.00  \t1.00   \t6998.00\n",
      "\n",
      "DEBUG:Token-level scores:\n",
      "label\tacc  \tprec \trec  \tf1   \n",
      "PER  \t0.96 \t0.71 \t0.87 \t0.78 \n",
      "ORG  \t0.96 \t0.51 \t0.19 \t0.28 \n",
      "LOC  \t0.97 \t0.81 \t0.75 \t0.78 \n",
      "MISC \t0.98 \t0.75 \t0.34 \t0.47 \n",
      "O    \t0.95 \t0.95 \t0.98 \t0.97 \n",
      "micro\t0.96 \t0.91 \t0.91 \t0.91 \n",
      "macro\t0.96 \t0.75 \t0.63 \t0.65 \n",
      "not-O\t0.97 \t0.73 \t0.64 \t0.68 \n",
      "\n",
      "INFO:Entity level P/R/F1: 0.63/0.58/0.60\n",
      "INFO:Epoch 5 out of 10\n"
     ]
    },
    {
     "name": "stdout",
     "output_type": "stream",
     "text": [
      "\n",
      "\n",
      "23/23 [==============================] - 0s - train loss: 0.3145     "
     ]
    },
    {
     "name": "stderr",
     "output_type": "stream",
     "text": [
      "INFO:Evaluating on development data\n"
     ]
    },
    {
     "name": "stdout",
     "output_type": "stream",
     "text": [
      "\n",
      "\n",
      "23/23 [==============================] - 4s     \n"
     ]
    },
    {
     "name": "stderr",
     "output_type": "stream",
     "text": [
      "DEBUG:Token-level confusion matrix:\n",
      "go\\gu  \tPER    \tORG    \tLOC    \tMISC   \tO      \n",
      "PER    \t732.00 \t6.00   \t19.00  \t4.00   \t63.00  \n",
      "ORG    \t171.00 \t54.00  \t23.00  \t20.00  \t123.00 \n",
      "LOC    \t37.00  \t8.00   \t453.00 \t9.00   \t70.00  \n",
      "MISC   \t57.00  \t7.00   \t13.00  \t113.00 \t68.00  \n",
      "O      \t69.00  \t16.00  \t34.00  \t2.00   \t6995.00\n",
      "\n",
      "DEBUG:Token-level scores:\n",
      "label\tacc  \tprec \trec  \tf1   \n",
      "PER  \t0.95 \t0.69 \t0.89 \t0.77 \n",
      "ORG  \t0.96 \t0.59 \t0.14 \t0.22 \n",
      "LOC  \t0.98 \t0.84 \t0.79 \t0.81 \n",
      "MISC \t0.98 \t0.76 \t0.44 \t0.56 \n",
      "O    \t0.95 \t0.96 \t0.98 \t0.97 \n",
      "micro\t0.96 \t0.91 \t0.91 \t0.91 \n",
      "macro\t0.96 \t0.77 \t0.65 \t0.67 \n",
      "not-O\t0.97 \t0.73 \t0.66 \t0.69 \n",
      "\n",
      "INFO:Entity level P/R/F1: 0.65/0.61/0.63\n",
      "INFO:Epoch 6 out of 10\n"
     ]
    },
    {
     "name": "stdout",
     "output_type": "stream",
     "text": [
      "\n",
      "23/23 [==============================] - 0s - train loss: 0.3001     "
     ]
    },
    {
     "name": "stderr",
     "output_type": "stream",
     "text": [
      "INFO:Evaluating on development data\n"
     ]
    },
    {
     "name": "stdout",
     "output_type": "stream",
     "text": [
      "\n",
      "\n",
      "23/23 [==============================] - 4s     "
     ]
    },
    {
     "name": "stderr",
     "output_type": "stream",
     "text": [
      "DEBUG:Token-level confusion matrix:\n",
      "go\\gu  \tPER    \tORG    \tLOC    \tMISC   \tO      \n",
      "PER    \t739.00 \t2.00   \t18.00  \t7.00   \t58.00  \n",
      "ORG    \t180.00 \t29.00  \t25.00  \t34.00  \t123.00 \n",
      "LOC    \t39.00  \t3.00   \t451.00 \t22.00  \t62.00  \n",
      "MISC   \t52.00  \t4.00   \t12.00  \t133.00 \t57.00  \n",
      "O      \t68.00  \t7.00   \t23.00  \t4.00   \t7014.00\n",
      "\n",
      "DEBUG:Token-level scores:\n",
      "label\tacc  \tprec \trec  \tf1   \n",
      "PER  \t0.95 \t0.69 \t0.90 \t0.78 \n",
      "ORG  \t0.96 \t0.64 \t0.07 \t0.13 \n",
      "LOC  \t0.98 \t0.85 \t0.78 \t0.82 \n",
      "MISC \t0.98 \t0.67 \t0.52 \t0.58 \n",
      "O    \t0.96 \t0.96 \t0.99 \t0.97 \n",
      "micro\t0.97 \t0.91 \t0.91 \t0.91 \n",
      "macro\t0.97 \t0.76 \t0.65 \t0.66 \n",
      "not-O\t0.97 \t0.73 \t0.66 \t0.69 \n",
      "\n",
      "INFO:Entity level P/R/F1: 0.64/0.61/0.63\n",
      "INFO:Epoch 7 out of 10\n"
     ]
    },
    {
     "name": "stdout",
     "output_type": "stream",
     "text": [
      "\n",
      "\n",
      "23/23 [==============================] - 0s - train loss: 0.2850     "
     ]
    },
    {
     "name": "stderr",
     "output_type": "stream",
     "text": [
      "INFO:Evaluating on development data\n"
     ]
    },
    {
     "name": "stdout",
     "output_type": "stream",
     "text": [
      "\n",
      "\n",
      "23/23 [==============================] - 4s     "
     ]
    },
    {
     "name": "stderr",
     "output_type": "stream",
     "text": [
      "DEBUG:Token-level confusion matrix:\n",
      "go\\gu  \tPER    \tORG    \tLOC    \tMISC   \tO      \n",
      "PER    \t739.00 \t8.00   \t22.00  \t4.00   \t51.00  \n",
      "ORG    \t143.00 \t96.00  \t27.00  \t19.00  \t106.00 \n",
      "LOC    \t34.00  \t14.00  \t465.00 \t8.00   \t56.00  \n",
      "MISC   \t45.00  \t15.00  \t17.00  \t124.00 \t57.00  \n",
      "O      \t62.00  \t20.00  \t29.00  \t2.00   \t7003.00\n",
      "\n",
      "DEBUG:Token-level scores:\n",
      "label\tacc  \tprec \trec  \tf1   \n",
      "PER  \t0.96 \t0.72 \t0.90 \t0.80 \n",
      "ORG  \t0.96 \t0.63 \t0.25 \t0.35 \n",
      "LOC  \t0.98 \t0.83 \t0.81 \t0.82 \n",
      "MISC \t0.98 \t0.79 \t0.48 \t0.60 \n",
      "O    \t0.96 \t0.96 \t0.98 \t0.97 \n",
      "micro\t0.97 \t0.92 \t0.92 \t0.92 \n",
      "macro\t0.97 \t0.79 \t0.68 \t0.71 \n",
      "not-O\t0.97 \t0.75 \t0.69 \t0.72 \n",
      "\n",
      "INFO:Entity level P/R/F1: 0.66/0.65/0.65\n",
      "INFO:Epoch 8 out of 10\n"
     ]
    },
    {
     "name": "stdout",
     "output_type": "stream",
     "text": [
      "\n",
      "\n",
      "23/23 [==============================] - 0s - train loss: 0.2736     "
     ]
    },
    {
     "name": "stderr",
     "output_type": "stream",
     "text": [
      "INFO:Evaluating on development data\n"
     ]
    },
    {
     "name": "stdout",
     "output_type": "stream",
     "text": [
      "\n",
      "\n",
      "23/23 [==============================] - 4s     \n"
     ]
    },
    {
     "name": "stderr",
     "output_type": "stream",
     "text": [
      "DEBUG:Token-level confusion matrix:\n",
      "go\\gu  \tPER    \tORG    \tLOC    \tMISC   \tO      \n",
      "PER    \t714.00 \t8.00   \t21.00  \t7.00   \t74.00  \n",
      "ORG    \t122.00 \t96.00  \t26.00  \t24.00  \t123.00 \n",
      "LOC    \t15.00  \t13.00  \t472.00 \t9.00   \t68.00  \n",
      "MISC   \t32.00  \t13.00  \t14.00  \t132.00 \t67.00  \n",
      "O      \t45.00  \t16.00  \t12.00  \t4.00   \t7039.00\n",
      "\n",
      "DEBUG:Token-level scores:\n",
      "label\tacc  \tprec \trec  \tf1   \n",
      "PER  \t0.96 \t0.77 \t0.87 \t0.82 \n",
      "ORG  \t0.96 \t0.66 \t0.25 \t0.36 \n",
      "LOC  \t0.98 \t0.87 \t0.82 \t0.84 \n",
      "MISC \t0.98 \t0.75 \t0.51 \t0.61 \n",
      "O    \t0.96 \t0.95 \t0.99 \t0.97 \n",
      "micro\t0.97 \t0.92 \t0.92 \t0.92 \n",
      "macro\t0.97 \t0.80 \t0.69 \t0.72 \n",
      "not-O\t0.97 \t0.79 \t0.69 \t0.74 \n",
      "\n",
      "INFO:Entity level P/R/F1: 0.68/0.63/0.65\n",
      "INFO:Epoch 9 out of 10\n"
     ]
    },
    {
     "name": "stdout",
     "output_type": "stream",
     "text": [
      "\n",
      "23/23 [==============================] - 0s - train loss: 0.2691     "
     ]
    },
    {
     "name": "stderr",
     "output_type": "stream",
     "text": [
      "INFO:Evaluating on development data\n"
     ]
    },
    {
     "name": "stdout",
     "output_type": "stream",
     "text": [
      "\n",
      "\n",
      "23/23 [==============================] - 4s     "
     ]
    },
    {
     "name": "stderr",
     "output_type": "stream",
     "text": [
      "DEBUG:Token-level confusion matrix:\n",
      "go\\gu  \tPER    \tORG    \tLOC    \tMISC   \tO      \n",
      "PER    \t754.00 \t11.00  \t12.00  \t5.00   \t42.00  \n",
      "ORG    \t130.00 \t130.00 \t15.00  \t19.00  \t97.00  \n",
      "LOC    \t29.00  \t22.00  \t461.00 \t10.00  \t55.00  \n",
      "MISC   \t43.00  \t21.00  \t11.00  \t128.00 \t55.00  \n",
      "O      \t56.00  \t34.00  \t8.00   \t2.00   \t7016.00\n",
      "\n"
     ]
    },
    {
     "name": "stdout",
     "output_type": "stream",
     "text": [
      "\n"
     ]
    },
    {
     "name": "stderr",
     "output_type": "stream",
     "text": [
      "DEBUG:Token-level scores:\n",
      "label\tacc  \tprec \trec  \tf1   \n",
      "PER  \t0.96 \t0.75 \t0.92 \t0.82 \n",
      "ORG  \t0.96 \t0.60 \t0.33 \t0.43 \n",
      "LOC  \t0.98 \t0.91 \t0.80 \t0.85 \n",
      "MISC \t0.98 \t0.78 \t0.50 \t0.61 \n",
      "O    \t0.96 \t0.97 \t0.99 \t0.98 \n",
      "micro\t0.97 \t0.93 \t0.93 \t0.93 \n",
      "macro\t0.97 \t0.80 \t0.71 \t0.74 \n",
      "not-O\t0.97 \t0.77 \t0.72 \t0.75 \n",
      "\n",
      "INFO:Entity level P/R/F1: 0.68/0.67/0.68\n",
      "INFO:Epoch 10 out of 10\n"
     ]
    },
    {
     "name": "stdout",
     "output_type": "stream",
     "text": [
      "\n",
      "23/23 [==============================] - 0s - train loss: 0.2587     "
     ]
    },
    {
     "name": "stderr",
     "output_type": "stream",
     "text": [
      "INFO:Evaluating on development data\n"
     ]
    },
    {
     "name": "stdout",
     "output_type": "stream",
     "text": [
      "\n",
      "\n",
      "23/23 [==============================] - 4s     \n"
     ]
    },
    {
     "name": "stderr",
     "output_type": "stream",
     "text": [
      "DEBUG:Token-level confusion matrix:\n",
      "go\\gu  \tPER    \tORG    \tLOC    \tMISC   \tO      \n",
      "PER    \t763.00 \t10.00  \t10.00  \t3.00   \t38.00  \n",
      "ORG    \t137.00 \t123.00 \t19.00  \t15.00  \t97.00  \n",
      "LOC    \t29.00  \t22.00  \t478.00 \t6.00   \t42.00  \n",
      "MISC   \t46.00  \t21.00  \t14.00  \t121.00 \t56.00  \n",
      "O      \t56.00  \t30.00  \t11.00  \t0.00   \t7019.00\n",
      "\n",
      "DEBUG:Token-level scores:\n",
      "label\tacc  \tprec \trec  \tf1   \n",
      "PER  \t0.96 \t0.74 \t0.93 \t0.82 \n",
      "ORG  \t0.96 \t0.60 \t0.31 \t0.41 \n",
      "LOC  \t0.98 \t0.90 \t0.83 \t0.86 \n",
      "MISC \t0.98 \t0.83 \t0.47 \t0.60 \n",
      "O    \t0.96 \t0.97 \t0.99 \t0.98 \n",
      "micro\t0.97 \t0.93 \t0.93 \t0.93 \n",
      "macro\t0.97 \t0.81 \t0.70 \t0.73 \n",
      "not-O\t0.97 \t0.78 \t0.72 \t0.75 \n",
      "\n",
      "INFO:Entity level P/R/F1: 0.68/0.68/0.68\n",
      "INFO:Model did not crash!\n",
      "INFO:Passed!\n"
     ]
    },
    {
     "name": "stdout",
     "output_type": "stream",
     "text": [
      "\n"
     ]
    }
   ],
   "source": [
    "%run q2_rnn.py test2"
   ]
  },
  {
   "cell_type": "code",
   "execution_count": 3,
   "metadata": {
    "collapsed": false
   },
   "outputs": [],
   "source": [
    "%run q2_rnn.py train\n",
    "# Job run on the server."
   ]
  },
  {
   "cell_type": "markdown",
   "metadata": {
    "collapsed": true
   },
   "source": [
    "## 3. Grooving with GRUs (30 points)"
   ]
  },
  {
   "cell_type": "markdown",
   "metadata": {},
   "source": [
    "### (c)(d)(e)(f). Implement a GRU classifier model"
   ]
  },
  {
   "cell_type": "code",
   "execution_count": 4,
   "metadata": {
    "collapsed": false
   },
   "outputs": [
    {
     "name": "stderr",
     "output_type": "stream",
     "text": [
      "INFO:Testing gru_cell\n",
      "INFO:Passed!\n"
     ]
    },
    {
     "name": "stdout",
     "output_type": "stream",
     "text": [
      "y_ = [[ 0.32035077  0.55478156]\n",
      " [-0.00592549  0.0195577 ]]\n",
      "ht_ = [[ 0.32035077  0.55478156]\n",
      " [-0.00592549  0.0195577 ]]\n"
     ]
    }
   ],
   "source": [
    "%run q3_gru_cell.py test"
   ]
  },
  {
   "cell_type": "code",
   "execution_count": 12,
   "metadata": {
    "collapsed": false
   },
   "outputs": [
    {
     "name": "stderr",
     "output_type": "stream",
     "text": [
      "d:\\Anaconda3\\lib\\site-packages\\matplotlib\\__init__.py:1405: UserWarning: \n",
      "This call to matplotlib.use() has no effect because the backend has already\n",
      "been chosen; matplotlib.use() must be called *before* pylab, matplotlib.pyplot,\n",
      "or matplotlib.backends is imported for the first time.\n",
      "\n",
      "  warnings.warn(_use_error_msg)\n",
      "INFO:Building model...\n",
      "INFO:took 0.30 seconds\n",
      "INFO:Epoch 1 out of 40\n"
     ]
    },
    {
     "name": "stdout",
     "output_type": "stream",
     "text": [
      "100/100 [==============================] - 4s - train loss: 12.6066     "
     ]
    },
    {
     "name": "stderr",
     "output_type": "stream",
     "text": [
      "INFO:Epoch 2 out of 40\n"
     ]
    },
    {
     "name": "stdout",
     "output_type": "stream",
     "text": [
      "\n",
      "100/100 [==============================] - 0s - train loss: 12.5077     "
     ]
    },
    {
     "name": "stderr",
     "output_type": "stream",
     "text": [
      "INFO:Epoch 3 out of 40\n"
     ]
    },
    {
     "name": "stdout",
     "output_type": "stream",
     "text": [
      "\n",
      "100/100 [==============================] - 0s - train loss: 12.5032     "
     ]
    },
    {
     "name": "stderr",
     "output_type": "stream",
     "text": [
      "INFO:Epoch 4 out of 40\n"
     ]
    },
    {
     "name": "stdout",
     "output_type": "stream",
     "text": [
      "\n",
      "100/100 [==============================] - 0s - train loss: 12.5014     "
     ]
    },
    {
     "name": "stderr",
     "output_type": "stream",
     "text": [
      "INFO:Epoch 5 out of 40\n"
     ]
    },
    {
     "name": "stdout",
     "output_type": "stream",
     "text": [
      "\n",
      "100/100 [==============================] - 0s - train loss: 12.5005     "
     ]
    },
    {
     "name": "stderr",
     "output_type": "stream",
     "text": [
      "INFO:Epoch 6 out of 40\n"
     ]
    },
    {
     "name": "stdout",
     "output_type": "stream",
     "text": [
      "\n",
      "100/100 [==============================] - 0s - train loss: 12.5000     "
     ]
    },
    {
     "name": "stderr",
     "output_type": "stream",
     "text": [
      "INFO:Epoch 7 out of 40\n"
     ]
    },
    {
     "name": "stdout",
     "output_type": "stream",
     "text": [
      "\n",
      "100/100 [==============================] - 0s - train loss: 12.4996     "
     ]
    },
    {
     "name": "stderr",
     "output_type": "stream",
     "text": [
      "INFO:Epoch 8 out of 40\n"
     ]
    },
    {
     "name": "stdout",
     "output_type": "stream",
     "text": [
      "\n",
      "100/100 [==============================] - 0s - train loss: 12.4993     "
     ]
    },
    {
     "name": "stderr",
     "output_type": "stream",
     "text": [
      "INFO:Epoch 9 out of 40\n"
     ]
    },
    {
     "name": "stdout",
     "output_type": "stream",
     "text": [
      "\n",
      "100/100 [==============================] - 0s - train loss: 12.4991     "
     ]
    },
    {
     "name": "stderr",
     "output_type": "stream",
     "text": [
      "INFO:Epoch 10 out of 40\n"
     ]
    },
    {
     "name": "stdout",
     "output_type": "stream",
     "text": [
      "\n",
      "100/100 [==============================] - 0s - train loss: 12.4989     "
     ]
    },
    {
     "name": "stderr",
     "output_type": "stream",
     "text": [
      "INFO:Epoch 11 out of 40\n"
     ]
    },
    {
     "name": "stdout",
     "output_type": "stream",
     "text": [
      "\n",
      "100/100 [==============================] - 0s - train loss: 12.4988     "
     ]
    },
    {
     "name": "stderr",
     "output_type": "stream",
     "text": [
      "INFO:Epoch 12 out of 40\n"
     ]
    },
    {
     "name": "stdout",
     "output_type": "stream",
     "text": [
      "\n",
      "100/100 [==============================] - 0s - train loss: 12.4987     "
     ]
    },
    {
     "name": "stderr",
     "output_type": "stream",
     "text": [
      "INFO:Epoch 13 out of 40\n"
     ]
    },
    {
     "name": "stdout",
     "output_type": "stream",
     "text": [
      "\n",
      "100/100 [==============================] - 0s - train loss: 12.4986     "
     ]
    },
    {
     "name": "stderr",
     "output_type": "stream",
     "text": [
      "INFO:Epoch 14 out of 40\n"
     ]
    },
    {
     "name": "stdout",
     "output_type": "stream",
     "text": [
      "\n",
      "100/100 [==============================] - 0s - train loss: 12.4985     "
     ]
    },
    {
     "name": "stderr",
     "output_type": "stream",
     "text": [
      "INFO:Epoch 15 out of 40\n"
     ]
    },
    {
     "name": "stdout",
     "output_type": "stream",
     "text": [
      "\n",
      "100/100 [==============================] - 0s - train loss: 12.4984     "
     ]
    },
    {
     "name": "stderr",
     "output_type": "stream",
     "text": [
      "INFO:Epoch 16 out of 40\n"
     ]
    },
    {
     "name": "stdout",
     "output_type": "stream",
     "text": [
      "\n",
      "100/100 [==============================] - 0s - train loss: 12.4983     "
     ]
    },
    {
     "name": "stderr",
     "output_type": "stream",
     "text": [
      "INFO:Epoch 17 out of 40\n"
     ]
    },
    {
     "name": "stdout",
     "output_type": "stream",
     "text": [
      "\n",
      "100/100 [==============================] - 0s - train loss: 12.4983     "
     ]
    },
    {
     "name": "stderr",
     "output_type": "stream",
     "text": [
      "INFO:Epoch 18 out of 40\n"
     ]
    },
    {
     "name": "stdout",
     "output_type": "stream",
     "text": [
      "\n",
      "100/100 [==============================] - 0s - train loss: 12.4983     "
     ]
    },
    {
     "name": "stderr",
     "output_type": "stream",
     "text": [
      "INFO:Epoch 19 out of 40\n"
     ]
    },
    {
     "name": "stdout",
     "output_type": "stream",
     "text": [
      "\n",
      "100/100 [==============================] - 0s - train loss: 12.4982     "
     ]
    },
    {
     "name": "stderr",
     "output_type": "stream",
     "text": [
      "INFO:Epoch 20 out of 40\n"
     ]
    },
    {
     "name": "stdout",
     "output_type": "stream",
     "text": [
      "\n",
      "100/100 [==============================] - 0s - train loss: 12.4982     "
     ]
    },
    {
     "name": "stderr",
     "output_type": "stream",
     "text": [
      "INFO:Epoch 21 out of 40\n"
     ]
    },
    {
     "name": "stdout",
     "output_type": "stream",
     "text": [
      "\n",
      "100/100 [==============================] - 0s - train loss: 12.4981     "
     ]
    },
    {
     "name": "stderr",
     "output_type": "stream",
     "text": [
      "INFO:Epoch 22 out of 40\n"
     ]
    },
    {
     "name": "stdout",
     "output_type": "stream",
     "text": [
      "\n",
      "100/100 [==============================] - 0s - train loss: 12.4981     "
     ]
    },
    {
     "name": "stderr",
     "output_type": "stream",
     "text": [
      "INFO:Epoch 23 out of 40\n"
     ]
    },
    {
     "name": "stdout",
     "output_type": "stream",
     "text": [
      "\n",
      "100/100 [==============================] - 0s - train loss: 12.4981     "
     ]
    },
    {
     "name": "stderr",
     "output_type": "stream",
     "text": [
      "INFO:Epoch 24 out of 40\n"
     ]
    },
    {
     "name": "stdout",
     "output_type": "stream",
     "text": [
      "\n",
      "100/100 [==============================] - 0s - train loss: 12.4981     "
     ]
    },
    {
     "name": "stderr",
     "output_type": "stream",
     "text": [
      "INFO:Epoch 25 out of 40\n"
     ]
    },
    {
     "name": "stdout",
     "output_type": "stream",
     "text": [
      "\n",
      "100/100 [==============================] - 0s - train loss: 12.4980     "
     ]
    },
    {
     "name": "stderr",
     "output_type": "stream",
     "text": [
      "INFO:Epoch 26 out of 40\n"
     ]
    },
    {
     "name": "stdout",
     "output_type": "stream",
     "text": [
      "\n",
      "100/100 [==============================] - 0s - train loss: 12.4980     "
     ]
    },
    {
     "name": "stderr",
     "output_type": "stream",
     "text": [
      "INFO:Epoch 27 out of 40\n"
     ]
    },
    {
     "name": "stdout",
     "output_type": "stream",
     "text": [
      "\n",
      "100/100 [==============================] - 0s - train loss: 12.4980     "
     ]
    },
    {
     "name": "stderr",
     "output_type": "stream",
     "text": [
      "INFO:Epoch 28 out of 40\n"
     ]
    },
    {
     "name": "stdout",
     "output_type": "stream",
     "text": [
      "\n",
      "100/100 [==============================] - 0s - train loss: 12.4980     "
     ]
    },
    {
     "name": "stderr",
     "output_type": "stream",
     "text": [
      "INFO:Epoch 29 out of 40\n"
     ]
    },
    {
     "name": "stdout",
     "output_type": "stream",
     "text": [
      "\n",
      "100/100 [==============================] - 0s - train loss: 12.4980     "
     ]
    },
    {
     "name": "stderr",
     "output_type": "stream",
     "text": [
      "INFO:Epoch 30 out of 40\n"
     ]
    },
    {
     "name": "stdout",
     "output_type": "stream",
     "text": [
      "\n",
      "100/100 [==============================] - 0s - train loss: 12.4979     "
     ]
    },
    {
     "name": "stderr",
     "output_type": "stream",
     "text": [
      "INFO:Epoch 31 out of 40\n"
     ]
    },
    {
     "name": "stdout",
     "output_type": "stream",
     "text": [
      "\n",
      "100/100 [==============================] - 0s - train loss: 12.4979     "
     ]
    },
    {
     "name": "stderr",
     "output_type": "stream",
     "text": [
      "INFO:Epoch 32 out of 40\n"
     ]
    },
    {
     "name": "stdout",
     "output_type": "stream",
     "text": [
      "\n",
      "100/100 [==============================] - 0s - train loss: 12.4979     "
     ]
    },
    {
     "name": "stderr",
     "output_type": "stream",
     "text": [
      "INFO:Epoch 33 out of 40\n"
     ]
    },
    {
     "name": "stdout",
     "output_type": "stream",
     "text": [
      "\n",
      "100/100 [==============================] - 0s - train loss: 12.4979     "
     ]
    },
    {
     "name": "stderr",
     "output_type": "stream",
     "text": [
      "INFO:Epoch 34 out of 40\n"
     ]
    },
    {
     "name": "stdout",
     "output_type": "stream",
     "text": [
      "\n",
      "100/100 [==============================] - 0s - train loss: 12.4979     "
     ]
    },
    {
     "name": "stderr",
     "output_type": "stream",
     "text": [
      "INFO:Epoch 35 out of 40\n"
     ]
    },
    {
     "name": "stdout",
     "output_type": "stream",
     "text": [
      "\n",
      "100/100 [==============================] - 0s - train loss: 12.4979     "
     ]
    },
    {
     "name": "stderr",
     "output_type": "stream",
     "text": [
      "INFO:Epoch 36 out of 40\n"
     ]
    },
    {
     "name": "stdout",
     "output_type": "stream",
     "text": [
      "\n",
      "100/100 [==============================] - 0s - train loss: 12.4979     "
     ]
    },
    {
     "name": "stderr",
     "output_type": "stream",
     "text": [
      "INFO:Epoch 37 out of 40\n"
     ]
    },
    {
     "name": "stdout",
     "output_type": "stream",
     "text": [
      "\n",
      "100/100 [==============================] - 0s - train loss: 12.4979     "
     ]
    },
    {
     "name": "stderr",
     "output_type": "stream",
     "text": [
      "INFO:Epoch 38 out of 40\n"
     ]
    },
    {
     "name": "stdout",
     "output_type": "stream",
     "text": [
      "\n",
      "100/100 [==============================] - 0s - train loss: 12.4978     "
     ]
    },
    {
     "name": "stderr",
     "output_type": "stream",
     "text": [
      "INFO:Epoch 39 out of 40\n"
     ]
    },
    {
     "name": "stdout",
     "output_type": "stream",
     "text": [
      "\n",
      "100/100 [==============================] - 0s - train loss: 12.4978     "
     ]
    },
    {
     "name": "stderr",
     "output_type": "stream",
     "text": [
      "INFO:Epoch 40 out of 40\n"
     ]
    },
    {
     "name": "stdout",
     "output_type": "stream",
     "text": [
      "\n",
      "100/100 [==============================] - 0s - train loss: 12.4978     \n"
     ]
    }
   ],
   "source": [
    "# RNN with clipping\n",
    "%run q3_gru.py predict -c rnn -g"
   ]
  },
  {
   "cell_type": "code",
   "execution_count": 13,
   "metadata": {
    "collapsed": false
   },
   "outputs": [
    {
     "name": "stderr",
     "output_type": "stream",
     "text": [
      "d:\\Anaconda3\\lib\\site-packages\\matplotlib\\__init__.py:1405: UserWarning: \n",
      "This call to matplotlib.use() has no effect because the backend has already\n",
      "been chosen; matplotlib.use() must be called *before* pylab, matplotlib.pyplot,\n",
      "or matplotlib.backends is imported for the first time.\n",
      "\n",
      "  warnings.warn(_use_error_msg)\n",
      "INFO:Building model...\n",
      "INFO:took 0.44 seconds\n",
      "INFO:Epoch 1 out of 40\n"
     ]
    },
    {
     "name": "stdout",
     "output_type": "stream",
     "text": [
      "100/100 [==============================] - 0s - train loss: 12.6066     "
     ]
    },
    {
     "name": "stderr",
     "output_type": "stream",
     "text": [
      "INFO:Epoch 2 out of 40\n"
     ]
    },
    {
     "name": "stdout",
     "output_type": "stream",
     "text": [
      "\n",
      "100/100 [==============================] - 0s - train loss: 12.5077     "
     ]
    },
    {
     "name": "stderr",
     "output_type": "stream",
     "text": [
      "INFO:Epoch 3 out of 40\n"
     ]
    },
    {
     "name": "stdout",
     "output_type": "stream",
     "text": [
      "\n",
      "100/100 [==============================] - 0s - train loss: 12.5032     "
     ]
    },
    {
     "name": "stderr",
     "output_type": "stream",
     "text": [
      "INFO:Epoch 4 out of 40\n"
     ]
    },
    {
     "name": "stdout",
     "output_type": "stream",
     "text": [
      "\n",
      "100/100 [==============================] - 0s - train loss: 12.5014     "
     ]
    },
    {
     "name": "stderr",
     "output_type": "stream",
     "text": [
      "INFO:Epoch 5 out of 40\n"
     ]
    },
    {
     "name": "stdout",
     "output_type": "stream",
     "text": [
      "\n",
      "100/100 [==============================] - 0s - train loss: 12.5005     "
     ]
    },
    {
     "name": "stderr",
     "output_type": "stream",
     "text": [
      "INFO:Epoch 6 out of 40\n"
     ]
    },
    {
     "name": "stdout",
     "output_type": "stream",
     "text": [
      "\n",
      "100/100 [==============================] - 0s - train loss: 12.5000     "
     ]
    },
    {
     "name": "stderr",
     "output_type": "stream",
     "text": [
      "INFO:Epoch 7 out of 40\n"
     ]
    },
    {
     "name": "stdout",
     "output_type": "stream",
     "text": [
      "\n",
      "100/100 [==============================] - 0s - train loss: 12.4996     "
     ]
    },
    {
     "name": "stderr",
     "output_type": "stream",
     "text": [
      "INFO:Epoch 8 out of 40\n"
     ]
    },
    {
     "name": "stdout",
     "output_type": "stream",
     "text": [
      "\n",
      "100/100 [==============================] - 0s - train loss: 12.4993     "
     ]
    },
    {
     "name": "stderr",
     "output_type": "stream",
     "text": [
      "INFO:Epoch 9 out of 40\n"
     ]
    },
    {
     "name": "stdout",
     "output_type": "stream",
     "text": [
      "\n",
      "100/100 [==============================] - 0s - train loss: 12.4991     "
     ]
    },
    {
     "name": "stderr",
     "output_type": "stream",
     "text": [
      "INFO:Epoch 10 out of 40\n"
     ]
    },
    {
     "name": "stdout",
     "output_type": "stream",
     "text": [
      "\n",
      "100/100 [==============================] - 0s - train loss: 12.4989     "
     ]
    },
    {
     "name": "stderr",
     "output_type": "stream",
     "text": [
      "INFO:Epoch 11 out of 40\n"
     ]
    },
    {
     "name": "stdout",
     "output_type": "stream",
     "text": [
      "\n",
      "100/100 [==============================] - 0s - train loss: 12.4988     "
     ]
    },
    {
     "name": "stderr",
     "output_type": "stream",
     "text": [
      "INFO:Epoch 12 out of 40\n"
     ]
    },
    {
     "name": "stdout",
     "output_type": "stream",
     "text": [
      "\n",
      "100/100 [==============================] - 0s - train loss: 12.4987     "
     ]
    },
    {
     "name": "stderr",
     "output_type": "stream",
     "text": [
      "INFO:Epoch 13 out of 40\n"
     ]
    },
    {
     "name": "stdout",
     "output_type": "stream",
     "text": [
      "\n",
      "100/100 [==============================] - 0s - train loss: 12.4986     "
     ]
    },
    {
     "name": "stderr",
     "output_type": "stream",
     "text": [
      "INFO:Epoch 14 out of 40\n"
     ]
    },
    {
     "name": "stdout",
     "output_type": "stream",
     "text": [
      "\n",
      "100/100 [==============================] - 0s - train loss: 12.4985     "
     ]
    },
    {
     "name": "stderr",
     "output_type": "stream",
     "text": [
      "INFO:Epoch 15 out of 40\n"
     ]
    },
    {
     "name": "stdout",
     "output_type": "stream",
     "text": [
      "\n",
      "100/100 [==============================] - 0s - train loss: 12.4984     "
     ]
    },
    {
     "name": "stderr",
     "output_type": "stream",
     "text": [
      "INFO:Epoch 16 out of 40\n"
     ]
    },
    {
     "name": "stdout",
     "output_type": "stream",
     "text": [
      "\n",
      "100/100 [==============================] - 0s - train loss: 12.4983     "
     ]
    },
    {
     "name": "stderr",
     "output_type": "stream",
     "text": [
      "INFO:Epoch 17 out of 40\n"
     ]
    },
    {
     "name": "stdout",
     "output_type": "stream",
     "text": [
      "\n",
      "100/100 [==============================] - 0s - train loss: 12.4983     "
     ]
    },
    {
     "name": "stderr",
     "output_type": "stream",
     "text": [
      "INFO:Epoch 18 out of 40\n"
     ]
    },
    {
     "name": "stdout",
     "output_type": "stream",
     "text": [
      "\n",
      "100/100 [==============================] - 0s - train loss: 12.4983     "
     ]
    },
    {
     "name": "stderr",
     "output_type": "stream",
     "text": [
      "INFO:Epoch 19 out of 40\n"
     ]
    },
    {
     "name": "stdout",
     "output_type": "stream",
     "text": [
      "\n",
      "100/100 [==============================] - 0s - train loss: 12.4982     "
     ]
    },
    {
     "name": "stderr",
     "output_type": "stream",
     "text": [
      "INFO:Epoch 20 out of 40\n"
     ]
    },
    {
     "name": "stdout",
     "output_type": "stream",
     "text": [
      "\n",
      "100/100 [==============================] - 0s - train loss: 12.4982     "
     ]
    },
    {
     "name": "stderr",
     "output_type": "stream",
     "text": [
      "INFO:Epoch 21 out of 40\n"
     ]
    },
    {
     "name": "stdout",
     "output_type": "stream",
     "text": [
      "\n",
      "100/100 [==============================] - 0s - train loss: 12.4981     "
     ]
    },
    {
     "name": "stderr",
     "output_type": "stream",
     "text": [
      "INFO:Epoch 22 out of 40\n"
     ]
    },
    {
     "name": "stdout",
     "output_type": "stream",
     "text": [
      "\n",
      "100/100 [==============================] - 0s - train loss: 12.4981     "
     ]
    },
    {
     "name": "stderr",
     "output_type": "stream",
     "text": [
      "INFO:Epoch 23 out of 40\n"
     ]
    },
    {
     "name": "stdout",
     "output_type": "stream",
     "text": [
      "\n",
      "100/100 [==============================] - 0s - train loss: 12.4981     "
     ]
    },
    {
     "name": "stderr",
     "output_type": "stream",
     "text": [
      "INFO:Epoch 24 out of 40\n"
     ]
    },
    {
     "name": "stdout",
     "output_type": "stream",
     "text": [
      "\n",
      "100/100 [==============================] - 0s - train loss: 12.4981     "
     ]
    },
    {
     "name": "stderr",
     "output_type": "stream",
     "text": [
      "INFO:Epoch 25 out of 40\n"
     ]
    },
    {
     "name": "stdout",
     "output_type": "stream",
     "text": [
      "\n",
      "100/100 [==============================] - 0s - train loss: 12.4980     "
     ]
    },
    {
     "name": "stderr",
     "output_type": "stream",
     "text": [
      "INFO:Epoch 26 out of 40\n"
     ]
    },
    {
     "name": "stdout",
     "output_type": "stream",
     "text": [
      "\n",
      "100/100 [==============================] - 0s - train loss: 12.4980     "
     ]
    },
    {
     "name": "stderr",
     "output_type": "stream",
     "text": [
      "INFO:Epoch 27 out of 40\n"
     ]
    },
    {
     "name": "stdout",
     "output_type": "stream",
     "text": [
      "\n",
      "100/100 [==============================] - 0s - train loss: 12.4980     "
     ]
    },
    {
     "name": "stderr",
     "output_type": "stream",
     "text": [
      "INFO:Epoch 28 out of 40\n"
     ]
    },
    {
     "name": "stdout",
     "output_type": "stream",
     "text": [
      "\n",
      "100/100 [==============================] - 0s - train loss: 12.4980     "
     ]
    },
    {
     "name": "stderr",
     "output_type": "stream",
     "text": [
      "INFO:Epoch 29 out of 40\n"
     ]
    },
    {
     "name": "stdout",
     "output_type": "stream",
     "text": [
      "\n",
      "100/100 [==============================] - 0s - train loss: 12.4980     "
     ]
    },
    {
     "name": "stderr",
     "output_type": "stream",
     "text": [
      "INFO:Epoch 30 out of 40\n"
     ]
    },
    {
     "name": "stdout",
     "output_type": "stream",
     "text": [
      "\n",
      "100/100 [==============================] - 0s - train loss: 12.4979     "
     ]
    },
    {
     "name": "stderr",
     "output_type": "stream",
     "text": [
      "INFO:Epoch 31 out of 40\n"
     ]
    },
    {
     "name": "stdout",
     "output_type": "stream",
     "text": [
      "\n",
      "100/100 [==============================] - 0s - train loss: 12.4979     "
     ]
    },
    {
     "name": "stderr",
     "output_type": "stream",
     "text": [
      "INFO:Epoch 32 out of 40\n"
     ]
    },
    {
     "name": "stdout",
     "output_type": "stream",
     "text": [
      "\n",
      "100/100 [==============================] - 0s - train loss: 12.4979     "
     ]
    },
    {
     "name": "stderr",
     "output_type": "stream",
     "text": [
      "INFO:Epoch 33 out of 40\n"
     ]
    },
    {
     "name": "stdout",
     "output_type": "stream",
     "text": [
      "\n",
      "100/100 [==============================] - 0s - train loss: 12.4979     "
     ]
    },
    {
     "name": "stderr",
     "output_type": "stream",
     "text": [
      "INFO:Epoch 34 out of 40\n"
     ]
    },
    {
     "name": "stdout",
     "output_type": "stream",
     "text": [
      "\n",
      "100/100 [==============================] - 0s - train loss: 12.4979     "
     ]
    },
    {
     "name": "stderr",
     "output_type": "stream",
     "text": [
      "INFO:Epoch 35 out of 40\n"
     ]
    },
    {
     "name": "stdout",
     "output_type": "stream",
     "text": [
      "\n",
      "100/100 [==============================] - 0s - train loss: 12.4979     "
     ]
    },
    {
     "name": "stderr",
     "output_type": "stream",
     "text": [
      "INFO:Epoch 36 out of 40\n"
     ]
    },
    {
     "name": "stdout",
     "output_type": "stream",
     "text": [
      "\n",
      "100/100 [==============================] - 0s - train loss: 12.4979     "
     ]
    },
    {
     "name": "stderr",
     "output_type": "stream",
     "text": [
      "INFO:Epoch 37 out of 40\n"
     ]
    },
    {
     "name": "stdout",
     "output_type": "stream",
     "text": [
      "\n",
      "100/100 [==============================] - 0s - train loss: 12.4979     "
     ]
    },
    {
     "name": "stderr",
     "output_type": "stream",
     "text": [
      "INFO:Epoch 38 out of 40\n"
     ]
    },
    {
     "name": "stdout",
     "output_type": "stream",
     "text": [
      "\n",
      "100/100 [==============================] - 0s - train loss: 12.4978     \n"
     ]
    },
    {
     "name": "stderr",
     "output_type": "stream",
     "text": [
      "INFO:Epoch 39 out of 40\n"
     ]
    },
    {
     "name": "stdout",
     "output_type": "stream",
     "text": [
      "100/100 [==============================] - 0s - train loss: 12.4978     "
     ]
    },
    {
     "name": "stderr",
     "output_type": "stream",
     "text": [
      "INFO:Epoch 40 out of 40\n"
     ]
    },
    {
     "name": "stdout",
     "output_type": "stream",
     "text": [
      "\n",
      "100/100 [==============================] - 0s - train loss: 12.4978     \n"
     ]
    }
   ],
   "source": [
    "# RNN without clipping\n",
    "%run q3_gru.py predict -c rnn"
   ]
  },
  {
   "cell_type": "code",
   "execution_count": 16,
   "metadata": {
    "collapsed": false
   },
   "outputs": [
    {
     "name": "stderr",
     "output_type": "stream",
     "text": [
      "d:\\Anaconda3\\lib\\site-packages\\matplotlib\\__init__.py:1405: UserWarning: \n",
      "This call to matplotlib.use() has no effect because the backend has already\n",
      "been chosen; matplotlib.use() must be called *before* pylab, matplotlib.pyplot,\n",
      "or matplotlib.backends is imported for the first time.\n",
      "\n",
      "  warnings.warn(_use_error_msg)\n",
      "INFO:Building model...\n",
      "INFO:took 0.95 seconds\n",
      "INFO:Epoch 1 out of 40\n"
     ]
    },
    {
     "name": "stdout",
     "output_type": "stream",
     "text": [
      "100/100 [==============================] - 1s - train loss: 12.6329     "
     ]
    },
    {
     "name": "stderr",
     "output_type": "stream",
     "text": [
      "INFO:Epoch 2 out of 40\n"
     ]
    },
    {
     "name": "stdout",
     "output_type": "stream",
     "text": [
      "\n",
      "100/100 [==============================] - 1s - train loss: 12.5756     "
     ]
    },
    {
     "name": "stderr",
     "output_type": "stream",
     "text": [
      "INFO:Epoch 3 out of 40\n"
     ]
    },
    {
     "name": "stdout",
     "output_type": "stream",
     "text": [
      "\n",
      "100/100 [==============================] - 1s - train loss: 12.5196     "
     ]
    },
    {
     "name": "stderr",
     "output_type": "stream",
     "text": [
      "INFO:Epoch 4 out of 40\n"
     ]
    },
    {
     "name": "stdout",
     "output_type": "stream",
     "text": [
      "\n",
      "100/100 [==============================] - 1s - train loss: 12.5219     "
     ]
    },
    {
     "name": "stderr",
     "output_type": "stream",
     "text": [
      "INFO:Epoch 5 out of 40\n"
     ]
    },
    {
     "name": "stdout",
     "output_type": "stream",
     "text": [
      "\n",
      "100/100 [==============================] - 1s - train loss: 12.5245     "
     ]
    },
    {
     "name": "stderr",
     "output_type": "stream",
     "text": [
      "INFO:Epoch 6 out of 40\n"
     ]
    },
    {
     "name": "stdout",
     "output_type": "stream",
     "text": [
      "\n",
      "100/100 [==============================] - 1s - train loss: 12.5194     "
     ]
    },
    {
     "name": "stderr",
     "output_type": "stream",
     "text": [
      "INFO:Epoch 7 out of 40\n"
     ]
    },
    {
     "name": "stdout",
     "output_type": "stream",
     "text": [
      "\n",
      "100/100 [==============================] - 1s - train loss: 12.5098     "
     ]
    },
    {
     "name": "stderr",
     "output_type": "stream",
     "text": [
      "INFO:Epoch 8 out of 40\n"
     ]
    },
    {
     "name": "stdout",
     "output_type": "stream",
     "text": [
      "\n",
      "100/100 [==============================] - 1s - train loss: 12.5109     "
     ]
    },
    {
     "name": "stderr",
     "output_type": "stream",
     "text": [
      "INFO:Epoch 9 out of 40\n"
     ]
    },
    {
     "name": "stdout",
     "output_type": "stream",
     "text": [
      "\n",
      "100/100 [==============================] - 1s - train loss: 12.5092     "
     ]
    },
    {
     "name": "stderr",
     "output_type": "stream",
     "text": [
      "INFO:Epoch 10 out of 40\n"
     ]
    },
    {
     "name": "stdout",
     "output_type": "stream",
     "text": [
      "\n",
      "100/100 [==============================] - 1s - train loss: 12.5085     "
     ]
    },
    {
     "name": "stderr",
     "output_type": "stream",
     "text": [
      "INFO:Epoch 11 out of 40\n"
     ]
    },
    {
     "name": "stdout",
     "output_type": "stream",
     "text": [
      "\n",
      "100/100 [==============================] - 1s - train loss: 12.5057     "
     ]
    },
    {
     "name": "stderr",
     "output_type": "stream",
     "text": [
      "INFO:Epoch 12 out of 40\n"
     ]
    },
    {
     "name": "stdout",
     "output_type": "stream",
     "text": [
      "\n",
      "100/100 [==============================] - 1s - train loss: 12.5054     "
     ]
    },
    {
     "name": "stderr",
     "output_type": "stream",
     "text": [
      "INFO:Epoch 13 out of 40\n"
     ]
    },
    {
     "name": "stdout",
     "output_type": "stream",
     "text": [
      "\n",
      "100/100 [==============================] - 1s - train loss: 12.5115     "
     ]
    },
    {
     "name": "stderr",
     "output_type": "stream",
     "text": [
      "INFO:Epoch 14 out of 40\n"
     ]
    },
    {
     "name": "stdout",
     "output_type": "stream",
     "text": [
      "\n",
      "100/100 [==============================] - 1s - train loss: 12.5026     "
     ]
    },
    {
     "name": "stderr",
     "output_type": "stream",
     "text": [
      "INFO:Epoch 15 out of 40\n"
     ]
    },
    {
     "name": "stdout",
     "output_type": "stream",
     "text": [
      "\n",
      "100/100 [==============================] - 1s - train loss: 12.5058     "
     ]
    },
    {
     "name": "stderr",
     "output_type": "stream",
     "text": [
      "INFO:Epoch 16 out of 40\n"
     ]
    },
    {
     "name": "stdout",
     "output_type": "stream",
     "text": [
      "\n",
      "100/100 [==============================] - 1s - train loss: 12.5054     "
     ]
    },
    {
     "name": "stderr",
     "output_type": "stream",
     "text": [
      "INFO:Epoch 17 out of 40\n"
     ]
    },
    {
     "name": "stdout",
     "output_type": "stream",
     "text": [
      "\n",
      "100/100 [==============================] - 1s - train loss: 12.5048     "
     ]
    },
    {
     "name": "stderr",
     "output_type": "stream",
     "text": [
      "INFO:Epoch 18 out of 40\n"
     ]
    },
    {
     "name": "stdout",
     "output_type": "stream",
     "text": [
      "\n",
      "100/100 [==============================] - 1s - train loss: 12.5065     "
     ]
    },
    {
     "name": "stderr",
     "output_type": "stream",
     "text": [
      "INFO:Epoch 19 out of 40\n"
     ]
    },
    {
     "name": "stdout",
     "output_type": "stream",
     "text": [
      "\n",
      "100/100 [==============================] - 1s - train loss: 12.5024     "
     ]
    },
    {
     "name": "stderr",
     "output_type": "stream",
     "text": [
      "INFO:Epoch 20 out of 40\n"
     ]
    },
    {
     "name": "stdout",
     "output_type": "stream",
     "text": [
      "\n",
      "100/100 [==============================] - 1s - train loss: 12.4910     "
     ]
    },
    {
     "name": "stderr",
     "output_type": "stream",
     "text": [
      "INFO:Epoch 21 out of 40\n"
     ]
    },
    {
     "name": "stdout",
     "output_type": "stream",
     "text": [
      "\n",
      "100/100 [==============================] - 1s - train loss: 12.5088     "
     ]
    },
    {
     "name": "stderr",
     "output_type": "stream",
     "text": [
      "INFO:Epoch 22 out of 40\n"
     ]
    },
    {
     "name": "stdout",
     "output_type": "stream",
     "text": [
      "\n",
      "100/100 [==============================] - 1s - train loss: 12.5014     "
     ]
    },
    {
     "name": "stderr",
     "output_type": "stream",
     "text": [
      "INFO:Epoch 23 out of 40\n"
     ]
    },
    {
     "name": "stdout",
     "output_type": "stream",
     "text": [
      "\n",
      "100/100 [==============================] - 1s - train loss: 12.5024     "
     ]
    },
    {
     "name": "stderr",
     "output_type": "stream",
     "text": [
      "INFO:Epoch 24 out of 40\n"
     ]
    },
    {
     "name": "stdout",
     "output_type": "stream",
     "text": [
      "\n",
      "100/100 [==============================] - 1s - train loss: 12.5063     "
     ]
    },
    {
     "name": "stderr",
     "output_type": "stream",
     "text": [
      "INFO:Epoch 25 out of 40\n"
     ]
    },
    {
     "name": "stdout",
     "output_type": "stream",
     "text": [
      "\n",
      "100/100 [==============================] - 1s - train loss: 12.5039     "
     ]
    },
    {
     "name": "stderr",
     "output_type": "stream",
     "text": [
      "INFO:Epoch 26 out of 40\n"
     ]
    },
    {
     "name": "stdout",
     "output_type": "stream",
     "text": [
      "\n",
      "100/100 [==============================] - 1s - train loss: 12.5027     "
     ]
    },
    {
     "name": "stderr",
     "output_type": "stream",
     "text": [
      "INFO:Epoch 27 out of 40\n"
     ]
    },
    {
     "name": "stdout",
     "output_type": "stream",
     "text": [
      "\n",
      "100/100 [==============================] - 1s - train loss: 12.5043     "
     ]
    },
    {
     "name": "stderr",
     "output_type": "stream",
     "text": [
      "INFO:Epoch 28 out of 40\n"
     ]
    },
    {
     "name": "stdout",
     "output_type": "stream",
     "text": [
      "\n",
      "100/100 [==============================] - 1s - train loss: 12.5043     "
     ]
    },
    {
     "name": "stderr",
     "output_type": "stream",
     "text": [
      "INFO:Epoch 29 out of 40\n"
     ]
    },
    {
     "name": "stdout",
     "output_type": "stream",
     "text": [
      "\n",
      "100/100 [==============================] - 1s - train loss: 12.5063     "
     ]
    },
    {
     "name": "stderr",
     "output_type": "stream",
     "text": [
      "INFO:Epoch 30 out of 40\n"
     ]
    },
    {
     "name": "stdout",
     "output_type": "stream",
     "text": [
      "\n",
      "100/100 [==============================] - 1s - train loss: 12.5036     "
     ]
    },
    {
     "name": "stderr",
     "output_type": "stream",
     "text": [
      "INFO:Epoch 31 out of 40\n"
     ]
    },
    {
     "name": "stdout",
     "output_type": "stream",
     "text": [
      "\n",
      "100/100 [==============================] - 1s - train loss: 12.5003     "
     ]
    },
    {
     "name": "stderr",
     "output_type": "stream",
     "text": [
      "INFO:Epoch 32 out of 40\n"
     ]
    },
    {
     "name": "stdout",
     "output_type": "stream",
     "text": [
      "\n",
      "100/100 [==============================] - 1s - train loss: 12.5040     "
     ]
    },
    {
     "name": "stderr",
     "output_type": "stream",
     "text": [
      "INFO:Epoch 33 out of 40\n"
     ]
    },
    {
     "name": "stdout",
     "output_type": "stream",
     "text": [
      "\n",
      "100/100 [==============================] - 1s - train loss: 12.5009     "
     ]
    },
    {
     "name": "stderr",
     "output_type": "stream",
     "text": [
      "INFO:Epoch 34 out of 40\n"
     ]
    },
    {
     "name": "stdout",
     "output_type": "stream",
     "text": [
      "\n",
      "100/100 [==============================] - 1s - train loss: 12.5040     "
     ]
    },
    {
     "name": "stderr",
     "output_type": "stream",
     "text": [
      "INFO:Epoch 35 out of 40\n"
     ]
    },
    {
     "name": "stdout",
     "output_type": "stream",
     "text": [
      "\n",
      "100/100 [==============================] - 1s - train loss: 12.5025     "
     ]
    },
    {
     "name": "stderr",
     "output_type": "stream",
     "text": [
      "INFO:Epoch 36 out of 40\n"
     ]
    },
    {
     "name": "stdout",
     "output_type": "stream",
     "text": [
      "\n",
      "100/100 [==============================] - 1s - train loss: 12.5055     "
     ]
    },
    {
     "name": "stderr",
     "output_type": "stream",
     "text": [
      "INFO:Epoch 37 out of 40\n"
     ]
    },
    {
     "name": "stdout",
     "output_type": "stream",
     "text": [
      "\n",
      "100/100 [==============================] - 1s - train loss: 12.4994     "
     ]
    },
    {
     "name": "stderr",
     "output_type": "stream",
     "text": [
      "INFO:Epoch 38 out of 40\n"
     ]
    },
    {
     "name": "stdout",
     "output_type": "stream",
     "text": [
      "\n",
      "100/100 [==============================] - 1s - train loss: 12.5021     "
     ]
    },
    {
     "name": "stderr",
     "output_type": "stream",
     "text": [
      "INFO:Epoch 39 out of 40\n"
     ]
    },
    {
     "name": "stdout",
     "output_type": "stream",
     "text": [
      "\n",
      "100/100 [==============================] - 1s - train loss: 12.5030     "
     ]
    },
    {
     "name": "stderr",
     "output_type": "stream",
     "text": [
      "INFO:Epoch 40 out of 40\n"
     ]
    },
    {
     "name": "stdout",
     "output_type": "stream",
     "text": [
      "\n",
      "100/100 [==============================] - 1s - train loss: 12.5025     \n"
     ]
    }
   ],
   "source": [
    "# GRU with clipping\n",
    "%run q3_gru.py predict -c gru -g"
   ]
  },
  {
   "cell_type": "code",
   "execution_count": 17,
   "metadata": {
    "collapsed": false
   },
   "outputs": [
    {
     "name": "stderr",
     "output_type": "stream",
     "text": [
      "d:\\Anaconda3\\lib\\site-packages\\matplotlib\\__init__.py:1405: UserWarning: \n",
      "This call to matplotlib.use() has no effect because the backend has already\n",
      "been chosen; matplotlib.use() must be called *before* pylab, matplotlib.pyplot,\n",
      "or matplotlib.backends is imported for the first time.\n",
      "\n",
      "  warnings.warn(_use_error_msg)\n",
      "INFO:Building model...\n",
      "INFO:took 0.74 seconds\n",
      "INFO:Epoch 1 out of 40\n"
     ]
    },
    {
     "name": "stdout",
     "output_type": "stream",
     "text": [
      "100/100 [==============================] - 1s - train loss: 12.7702     "
     ]
    },
    {
     "name": "stderr",
     "output_type": "stream",
     "text": [
      "INFO:Epoch 2 out of 40\n"
     ]
    },
    {
     "name": "stdout",
     "output_type": "stream",
     "text": [
      "\n",
      "100/100 [==============================] - 1s - train loss: 12.5841     "
     ]
    },
    {
     "name": "stderr",
     "output_type": "stream",
     "text": [
      "INFO:Epoch 3 out of 40\n"
     ]
    },
    {
     "name": "stdout",
     "output_type": "stream",
     "text": [
      "\n",
      "100/100 [==============================] - 1s - train loss: 12.5215     "
     ]
    },
    {
     "name": "stderr",
     "output_type": "stream",
     "text": [
      "INFO:Epoch 4 out of 40\n"
     ]
    },
    {
     "name": "stdout",
     "output_type": "stream",
     "text": [
      "\n",
      "100/100 [==============================] - 1s - train loss: 12.5237     "
     ]
    },
    {
     "name": "stderr",
     "output_type": "stream",
     "text": [
      "INFO:Epoch 5 out of 40\n"
     ]
    },
    {
     "name": "stdout",
     "output_type": "stream",
     "text": [
      "\n",
      "100/100 [==============================] - 1s - train loss: 12.5258     "
     ]
    },
    {
     "name": "stderr",
     "output_type": "stream",
     "text": [
      "INFO:Epoch 6 out of 40\n"
     ]
    },
    {
     "name": "stdout",
     "output_type": "stream",
     "text": [
      "\n",
      "100/100 [==============================] - 1s - train loss: 12.5202     "
     ]
    },
    {
     "name": "stderr",
     "output_type": "stream",
     "text": [
      "INFO:Epoch 7 out of 40\n"
     ]
    },
    {
     "name": "stdout",
     "output_type": "stream",
     "text": [
      "\n",
      "100/100 [==============================] - 1s - train loss: 12.5100     "
     ]
    },
    {
     "name": "stderr",
     "output_type": "stream",
     "text": [
      "INFO:Epoch 8 out of 40\n"
     ]
    },
    {
     "name": "stdout",
     "output_type": "stream",
     "text": [
      "\n",
      "100/100 [==============================] - 1s - train loss: 12.5112     "
     ]
    },
    {
     "name": "stderr",
     "output_type": "stream",
     "text": [
      "INFO:Epoch 9 out of 40\n"
     ]
    },
    {
     "name": "stdout",
     "output_type": "stream",
     "text": [
      "\n",
      "100/100 [==============================] - 1s - train loss: 12.5093     "
     ]
    },
    {
     "name": "stderr",
     "output_type": "stream",
     "text": [
      "INFO:Epoch 10 out of 40\n"
     ]
    },
    {
     "name": "stdout",
     "output_type": "stream",
     "text": [
      "\n",
      "100/100 [==============================] - 1s - train loss: 12.5087     "
     ]
    },
    {
     "name": "stderr",
     "output_type": "stream",
     "text": [
      "INFO:Epoch 11 out of 40\n"
     ]
    },
    {
     "name": "stdout",
     "output_type": "stream",
     "text": [
      "\n",
      "100/100 [==============================] - 1s - train loss: 12.5058     "
     ]
    },
    {
     "name": "stderr",
     "output_type": "stream",
     "text": [
      "INFO:Epoch 12 out of 40\n"
     ]
    },
    {
     "name": "stdout",
     "output_type": "stream",
     "text": [
      "\n",
      "100/100 [==============================] - 1s - train loss: 12.5055     "
     ]
    },
    {
     "name": "stderr",
     "output_type": "stream",
     "text": [
      "INFO:Epoch 13 out of 40\n"
     ]
    },
    {
     "name": "stdout",
     "output_type": "stream",
     "text": [
      "\n",
      "100/100 [==============================] - 1s - train loss: 12.5117     "
     ]
    },
    {
     "name": "stderr",
     "output_type": "stream",
     "text": [
      "INFO:Epoch 14 out of 40\n"
     ]
    },
    {
     "name": "stdout",
     "output_type": "stream",
     "text": [
      "\n",
      "100/100 [==============================] - 1s - train loss: 12.5027     "
     ]
    },
    {
     "name": "stderr",
     "output_type": "stream",
     "text": [
      "INFO:Epoch 15 out of 40\n"
     ]
    },
    {
     "name": "stdout",
     "output_type": "stream",
     "text": [
      "\n",
      "100/100 [==============================] - 1s - train loss: 12.5058     "
     ]
    },
    {
     "name": "stderr",
     "output_type": "stream",
     "text": [
      "INFO:Epoch 16 out of 40\n"
     ]
    },
    {
     "name": "stdout",
     "output_type": "stream",
     "text": [
      "\n",
      "100/100 [==============================] - 1s - train loss: 12.5054     "
     ]
    },
    {
     "name": "stderr",
     "output_type": "stream",
     "text": [
      "INFO:Epoch 17 out of 40\n"
     ]
    },
    {
     "name": "stdout",
     "output_type": "stream",
     "text": [
      "\n",
      "100/100 [==============================] - 1s - train loss: 12.5048     "
     ]
    },
    {
     "name": "stderr",
     "output_type": "stream",
     "text": [
      "INFO:Epoch 18 out of 40\n"
     ]
    },
    {
     "name": "stdout",
     "output_type": "stream",
     "text": [
      "\n",
      "100/100 [==============================] - 1s - train loss: 12.5066     "
     ]
    },
    {
     "name": "stderr",
     "output_type": "stream",
     "text": [
      "INFO:Epoch 19 out of 40\n"
     ]
    },
    {
     "name": "stdout",
     "output_type": "stream",
     "text": [
      "\n",
      "100/100 [==============================] - 1s - train loss: 12.5024     "
     ]
    },
    {
     "name": "stderr",
     "output_type": "stream",
     "text": [
      "INFO:Epoch 20 out of 40\n"
     ]
    },
    {
     "name": "stdout",
     "output_type": "stream",
     "text": [
      "\n",
      "100/100 [==============================] - 1s - train loss: 12.4910     "
     ]
    },
    {
     "name": "stderr",
     "output_type": "stream",
     "text": [
      "INFO:Epoch 21 out of 40\n"
     ]
    },
    {
     "name": "stdout",
     "output_type": "stream",
     "text": [
      "\n",
      "100/100 [==============================] - 1s - train loss: 12.5088     "
     ]
    },
    {
     "name": "stderr",
     "output_type": "stream",
     "text": [
      "INFO:Epoch 22 out of 40\n"
     ]
    },
    {
     "name": "stdout",
     "output_type": "stream",
     "text": [
      "\n",
      "100/100 [==============================] - 1s - train loss: 12.5014     "
     ]
    },
    {
     "name": "stderr",
     "output_type": "stream",
     "text": [
      "INFO:Epoch 23 out of 40\n"
     ]
    },
    {
     "name": "stdout",
     "output_type": "stream",
     "text": [
      "\n",
      "100/100 [==============================] - 1s - train loss: 12.5024     "
     ]
    },
    {
     "name": "stderr",
     "output_type": "stream",
     "text": [
      "INFO:Epoch 24 out of 40\n"
     ]
    },
    {
     "name": "stdout",
     "output_type": "stream",
     "text": [
      "\n",
      "100/100 [==============================] - 1s - train loss: 12.5062     "
     ]
    },
    {
     "name": "stderr",
     "output_type": "stream",
     "text": [
      "INFO:Epoch 25 out of 40\n"
     ]
    },
    {
     "name": "stdout",
     "output_type": "stream",
     "text": [
      "\n",
      "100/100 [==============================] - 1s - train loss: 12.5039     "
     ]
    },
    {
     "name": "stderr",
     "output_type": "stream",
     "text": [
      "INFO:Epoch 26 out of 40\n"
     ]
    },
    {
     "name": "stdout",
     "output_type": "stream",
     "text": [
      "\n",
      "100/100 [==============================] - 1s - train loss: 12.5027     "
     ]
    },
    {
     "name": "stderr",
     "output_type": "stream",
     "text": [
      "INFO:Epoch 27 out of 40\n"
     ]
    },
    {
     "name": "stdout",
     "output_type": "stream",
     "text": [
      "\n",
      "100/100 [==============================] - 1s - train loss: 12.5043     "
     ]
    },
    {
     "name": "stderr",
     "output_type": "stream",
     "text": [
      "INFO:Epoch 28 out of 40\n"
     ]
    },
    {
     "name": "stdout",
     "output_type": "stream",
     "text": [
      "\n",
      "100/100 [==============================] - 1s - train loss: 12.5043     "
     ]
    },
    {
     "name": "stderr",
     "output_type": "stream",
     "text": [
      "INFO:Epoch 29 out of 40\n"
     ]
    },
    {
     "name": "stdout",
     "output_type": "stream",
     "text": [
      "\n",
      "100/100 [==============================] - 1s - train loss: 12.5064     "
     ]
    },
    {
     "name": "stderr",
     "output_type": "stream",
     "text": [
      "INFO:Epoch 30 out of 40\n"
     ]
    },
    {
     "name": "stdout",
     "output_type": "stream",
     "text": [
      "\n",
      "100/100 [==============================] - 1s - train loss: 12.5036     "
     ]
    },
    {
     "name": "stderr",
     "output_type": "stream",
     "text": [
      "INFO:Epoch 31 out of 40\n"
     ]
    },
    {
     "name": "stdout",
     "output_type": "stream",
     "text": [
      "\n",
      "100/100 [==============================] - 1s - train loss: 12.5003     "
     ]
    },
    {
     "name": "stderr",
     "output_type": "stream",
     "text": [
      "INFO:Epoch 32 out of 40\n"
     ]
    },
    {
     "name": "stdout",
     "output_type": "stream",
     "text": [
      "\n",
      "100/100 [==============================] - 1s - train loss: 12.5040     "
     ]
    },
    {
     "name": "stderr",
     "output_type": "stream",
     "text": [
      "INFO:Epoch 33 out of 40\n"
     ]
    },
    {
     "name": "stdout",
     "output_type": "stream",
     "text": [
      "\n",
      "100/100 [==============================] - 1s - train loss: 12.5009     "
     ]
    },
    {
     "name": "stderr",
     "output_type": "stream",
     "text": [
      "INFO:Epoch 34 out of 40\n"
     ]
    },
    {
     "name": "stdout",
     "output_type": "stream",
     "text": [
      "\n",
      "100/100 [==============================] - 1s - train loss: 12.5040     "
     ]
    },
    {
     "name": "stderr",
     "output_type": "stream",
     "text": [
      "INFO:Epoch 35 out of 40\n"
     ]
    },
    {
     "name": "stdout",
     "output_type": "stream",
     "text": [
      "\n",
      "100/100 [==============================] - 1s - train loss: 12.5025     "
     ]
    },
    {
     "name": "stderr",
     "output_type": "stream",
     "text": [
      "INFO:Epoch 36 out of 40\n"
     ]
    },
    {
     "name": "stdout",
     "output_type": "stream",
     "text": [
      "\n",
      "100/100 [==============================] - 1s - train loss: 12.5055     "
     ]
    },
    {
     "name": "stderr",
     "output_type": "stream",
     "text": [
      "INFO:Epoch 37 out of 40\n"
     ]
    },
    {
     "name": "stdout",
     "output_type": "stream",
     "text": [
      "\n",
      "100/100 [==============================] - 1s - train loss: 12.4994     "
     ]
    },
    {
     "name": "stderr",
     "output_type": "stream",
     "text": [
      "INFO:Epoch 38 out of 40\n"
     ]
    },
    {
     "name": "stdout",
     "output_type": "stream",
     "text": [
      "\n",
      "100/100 [==============================] - 1s - train loss: 12.5021     "
     ]
    },
    {
     "name": "stderr",
     "output_type": "stream",
     "text": [
      "INFO:Epoch 39 out of 40\n"
     ]
    },
    {
     "name": "stdout",
     "output_type": "stream",
     "text": [
      "\n",
      "100/100 [==============================] - 1s - train loss: 12.5030     "
     ]
    },
    {
     "name": "stderr",
     "output_type": "stream",
     "text": [
      "INFO:Epoch 40 out of 40\n"
     ]
    },
    {
     "name": "stdout",
     "output_type": "stream",
     "text": [
      "\n",
      "100/100 [==============================] - 1s - train loss: 12.5025     \n"
     ]
    }
   ],
   "source": [
    "# GRU without clipping\n",
    "%run q3_gru.py predict -c gru"
   ]
  },
  {
   "cell_type": "code",
   "execution_count": null,
   "metadata": {
    "collapsed": true
   },
   "outputs": [],
   "source": [
    "python q2 rnn.py train -c gru\n",
    "# job run on the server"
   ]
  }
 ],
 "metadata": {
  "anaconda-cloud": {},
  "kernelspec": {
   "display_name": "Python [default]",
   "language": "python",
   "name": "python3"
  },
  "language_info": {
   "codemirror_mode": {
    "name": "ipython",
    "version": 3
   },
   "file_extension": ".py",
   "mimetype": "text/x-python",
   "name": "python",
   "nbconvert_exporter": "python",
   "pygments_lexer": "ipython3",
   "version": "3.5.2"
  }
 },
 "nbformat": 4,
 "nbformat_minor": 1
}
